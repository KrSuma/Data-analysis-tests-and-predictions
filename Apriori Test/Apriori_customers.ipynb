{
 "cells": [
  {
   "cell_type": "markdown",
   "source": [
    "## Basket Analysis\n",
    "\n",
    "Apriori Algorithm for frequent item set mining and association learning"
   ],
   "metadata": {
    "collapsed": false
   }
  },
  {
   "cell_type": "code",
   "execution_count": 3,
   "outputs": [
    {
     "name": "stdout",
     "output_type": "stream",
     "text": [
      "C:\\Users\\jaesu\\PycharmProjects\\Analysis\\Apriori Test\n"
     ]
    }
   ],
   "source": [
    "\"\"\"\n",
    "input: dataset from Glew analytics app in Shopify.\n",
    "output: none.\n",
    "\"\"\"\n",
    "\n",
    "import os\n",
    "print(os.getcwd())\n",
    "\n",
    "import os\n",
    "for dirname, _, filenames in os.walk('/input/'):\n",
    "  for filename in filenames:\n",
    "    print(os.path.join(dirname, filename))"
   ],
   "metadata": {
    "collapsed": false,
    "pycharm": {
     "name": "#%%\n"
    }
   }
  },
  {
   "cell_type": "code",
   "execution_count": 4,
   "outputs": [],
   "source": [
    "import pandas as pd\n",
    "import matplotlib.pyplot as plt\n",
    "import numpy as np\n",
    "import seaborn as sns\n",
    "\n",
    "# makes plots visible in pycharm\n",
    "plt.style.use({'figure.facecolor':'white'})"
   ],
   "metadata": {
    "collapsed": false,
    "pycharm": {
     "name": "#%%\n"
    }
   }
  },
  {
   "cell_type": "code",
   "execution_count": null,
   "outputs": [],
   "source": [
    "PATH = 'order_segment.csv'\n",
    "df_glew = pd.read_csv(PATH, delimiter=',')\n",
    "\n",
    "# path = r'C:\\DRO\\DCL_rawdata_files'\n",
    "# all_files = glob.glob(os.path.join(path, \"*.csv\"))\n",
    "# df_from_each_file = (pd.read_csv(f) for f in all_files)\n",
    "# df = pd.concat(df_from_each_file, ignore_index=True)\n",
    "# doesn't create a list, nor does it append to one"
   ],
   "metadata": {
    "collapsed": false,
    "pycharm": {
     "name": "#%%\n"
    }
   }
  },
  {
   "cell_type": "code",
   "execution_count": null,
   "outputs": [],
   "source": [
    "df_glew.head()"
   ],
   "metadata": {
    "collapsed": false,
    "pycharm": {
     "name": "#%%\n"
    }
   }
  },
  {
   "cell_type": "code",
   "execution_count": null,
   "outputs": [],
   "source": [
    "df_glew.columns.tolist()"
   ],
   "metadata": {
    "collapsed": false,
    "pycharm": {
     "name": "#%%\n"
    }
   }
  },
  {
   "cell_type": "code",
   "execution_count": null,
   "outputs": [],
   "source": [
    "df_glew = df_glew.drop(columns=[\n",
    "                      'order_id',\n",
    "                      'first_name',\n",
    "                      'last_name',\n",
    "                      'city',\n",
    "                      'state',\n",
    "                      'status',\n",
    "                      'tax'\n",
    "])\n",
    "\n",
    "df_glew = df_glew.rename(columns={'order_name': 'Name'})"
   ],
   "metadata": {
    "collapsed": false,
    "pycharm": {
     "name": "#%%\n"
    }
   }
  },
  {
   "cell_type": "code",
   "execution_count": null,
   "outputs": [],
   "source": [
    "df = df.drop(columns=[\n",
    "                  'Tax 1 Name',\n",
    "                  'Tax 1 Value',\n",
    "                  'Tax 2 Name',\n",
    "                  'Tax 2 Value',\n",
    "                  'Tax 3 Name',\n",
    "                  'Tax 3 Value',\n",
    "                  'Tax 4 Name',\n",
    "                  'Tax 4 Value',\n",
    "                  'Tax 5 Name',\n",
    "                  'Tax 5 Value',\n",
    "                  'Billing Name',\n",
    "                  'Billing Street',\n",
    "                  'Billing Address1',\n",
    "                  'Billing Address2',\n",
    "                  'Billing Company',\n",
    "                  'Billing City',\n",
    "                  'Billing Zip',\n",
    "                  'Billing Province',\n",
    "                  'Billing Country',\n",
    "                  'Billing Phone',\n",
    "                  'Shipping Name',\n",
    "                  'Shipping Street',\n",
    "                  'Shipping Address1',\n",
    "                  'Shipping Address2',\n",
    "                  'Shipping Company',\n",
    "                  'Shipping City',\n",
    "                  'Shipping Zip',\n",
    "                  'Shipping Province',\n",
    "                  'Shipping Phone',\n",
    "                  'Outstanding Balance',\n",
    "                  'Fulfillment Status',\n",
    "                  'Fulfilled at',\n",
    "                  'Currency',\n",
    "                  'Taxes',\n",
    "                  'Lineitem compare at price',\n",
    "                  'Lineitem requires shipping',\n",
    "                  'Lineitem taxable',\n",
    "                  'Lineitem fulfillment status',\n",
    "                  'Notes',\n",
    "                  'Note Attributes',\n",
    "                  'Cancelled at',\n",
    "                  'Payment Method',\n",
    "                  'Refunded Amount',\n",
    "                  'Vendor',\n",
    "                  'Outstanding Balance',\n",
    "                  'Employee',\n",
    "                  'Location',\n",
    "                  'Device ID',\n",
    "                  'Id',\n",
    "                  'Risk Level',\n",
    "                  'Lineitem discount',\n",
    "                  'Phone',\n",
    "                  'Receipt Number',\n",
    "                  'Financial Status',\n",
    "                  'customer_email',\n",
    "                  'country code',\n",
    "                  'zip',\n",
    "                  'order date'\n",
    " ])"
   ],
   "metadata": {
    "collapsed": false,
    "pycharm": {
     "name": "#%%\n"
    }
   }
  },
  {
   "cell_type": "code",
   "execution_count": null,
   "outputs": [],
   "source": [
    "df.info()"
   ],
   "metadata": {
    "collapsed": false,
    "pycharm": {
     "name": "#%%\n"
    }
   }
  },
  {
   "cell_type": "code",
   "execution_count": null,
   "outputs": [],
   "source": [
    "df.head()"
   ],
   "metadata": {
    "collapsed": false,
    "pycharm": {
     "name": "#%%\n"
    }
   }
  },
  {
   "cell_type": "code",
   "execution_count": null,
   "outputs": [],
   "source": [
    "# convert the date columns\n",
    "\n",
    "df['Paid at'] = pd.to_datetime(df['Paid at'], infer_datetime_format=True, utc=True)\n",
    "df['Created at'] = pd.to_datetime(df['Created at'], infer_datetime_format=True, utc=True)"
   ],
   "metadata": {
    "collapsed": false,
    "pycharm": {
     "name": "#%%\n"
    }
   }
  },
  {
   "cell_type": "code",
   "execution_count": null,
   "outputs": [],
   "source": [
    "df.head()"
   ],
   "metadata": {
    "collapsed": false,
    "pycharm": {
     "name": "#%%\n"
    }
   }
  },
  {
   "cell_type": "code",
   "execution_count": null,
   "outputs": [],
   "source": [
    "# data cleaning - datetime\n",
    "# order_date, day_of_week\n",
    "\n",
    "df = df.merge(df_glew, on='Name', how='left' )"
   ],
   "metadata": {
    "collapsed": false,
    "pycharm": {
     "name": "#%%\n"
    }
   }
  },
  {
   "cell_type": "code",
   "execution_count": null,
   "outputs": [],
   "source": [
    "df.head()"
   ],
   "metadata": {
    "collapsed": false,
    "pycharm": {
     "name": "#%%\n"
    }
   }
  },
  {
   "cell_type": "code",
   "execution_count": null,
   "outputs": [],
   "source": [
    "# Paid at, day_of_week\n",
    "\n",
    "df = df.rename(columns={'Created at': 'date_paid'})"
   ],
   "metadata": {
    "collapsed": false,
    "pycharm": {
     "name": "#%%\n"
    }
   }
  },
  {
   "cell_type": "code",
   "execution_count": null,
   "outputs": [],
   "source": [
    "# Extracting time and replacing it with text\n",
    "\n",
    "df['month'] = df['date_paid'].dt.month\n",
    "df['month'] = df['month'].replace((1,2,3,4,5,6,7,8,9,10,11,12),\n",
    "                                          ('January','February','March','April','May','June','July','August',\n",
    "                                          'September','October','November','December'))\n",
    "\n",
    "df['hour'] = df['date_paid'].dt.hour\n",
    "# Replacing hours with text\n",
    "# hour_in_num = (1,2,3,4,5,6,7,8,9,10,11,12,13,14,15,16,17,18,19,20,21,22,23)\n",
    "# hour_in_obj = ('1-2','2-3','3-4','4-5','5-6','6-7','7-8','8-9','9-10','10-11','11-12','12-13','13-14','14-15',\n",
    "#                '15-16','16-17','17-18','18-19','19-20','20-21','21-22','22-23','23-24')\n",
    "\n",
    "# df['hour'] = df['hour'].replace(hour_in_num, hour_in_obj)\n",
    "df['hour'] = df['hour'].replace(0, 24)\n",
    "df['hour'].value_counts().sort_values()"
   ],
   "metadata": {
    "collapsed": false,
    "pycharm": {
     "name": "#%%\n"
    }
   }
  },
  {
   "cell_type": "code",
   "execution_count": null,
   "outputs": [],
   "source": [
    "# date_paid, day_of_week\n",
    "\n",
    "df.head()"
   ],
   "metadata": {
    "collapsed": false,
    "pycharm": {
     "name": "#%%\n"
    }
   }
  },
  {
   "cell_type": "code",
   "execution_count": null,
   "outputs": [],
   "source": [
    "plt.figure(figsize=(15,5))\n",
    "sns.barplot(x = df['Lineitem name'].value_counts().head(20).index, y = df['Lineitem name'].value_counts().head(20).values, palette = 'gnuplot')\n",
    "plt.xlabel('Items', size = 15)\n",
    "plt.xticks(rotation=90)\n",
    "plt.ylabel('Count of Items', size = 15)\n",
    "plt.title('Top 20 Items purchased by customers', color = 'green', size = 20)\n",
    "plt.show()"
   ],
   "metadata": {
    "collapsed": false,
    "pycharm": {
     "name": "#%%\n"
    }
   }
  },
  {
   "cell_type": "code",
   "execution_count": null,
   "outputs": [],
   "source": [
    "monthTran = df.groupby('month')['Name'].count().reset_index()\n",
    "monthTran.loc[:,\"monthorder\"] = [4,8,12,2,1,7,6,3,5,11,10,9]\n",
    "monthTran.sort_values(\"monthorder\",inplace=True)\n",
    "\n",
    "plt.figure(figsize=(12,5))\n",
    "sns.barplot(data = monthTran, x = \"month\", y = \"Name\")\n",
    "plt.xlabel('Months', size = 15)\n",
    "plt.ylabel('Orders per month', size = 15)\n",
    "plt.title('Number of orders received each month', color = 'green', size = 20)\n",
    "plt.show()\n",
    "\n",
    "plt.show()"
   ],
   "metadata": {
    "collapsed": false,
    "pycharm": {
     "name": "#%%\n"
    }
   }
  },
  {
   "cell_type": "code",
   "execution_count": null,
   "outputs": [],
   "source": [
    "weekTran = df.groupby('day_of_week')['Name'].count().reset_index()\n",
    "weekTran.loc[:,\"weekorder\"] = [4,0,5,6,3,1,2]\n",
    "weekTran.sort_values(\"weekorder\",inplace=True)\n",
    "\n",
    "plt.figure(figsize=(12,5))\n",
    "sns.barplot(data = weekTran, x = \"day_of_week\", y = \"Name\")\n",
    "plt.xlabel('Week Day', size = 15)\n",
    "plt.ylabel('Orders per day', size = 15)\n",
    "plt.title('Number of orders received each day', color = 'green', size = 20)\n",
    "plt.show()\n",
    "\n",
    "plt.show()"
   ],
   "metadata": {
    "collapsed": false,
    "pycharm": {
     "name": "#%%\n"
    }
   }
  },
  {
   "cell_type": "code",
   "execution_count": null,
   "outputs": [],
   "source": [
    "# hour_in_num = (1,7,8,9,10,11,12,13,14,15,16,17,18,19,20,21,22,23)\n",
    "\n",
    "hourTran = df.groupby('hour')['Name'].count().reset_index()\n",
    "hourTran"
   ],
   "metadata": {
    "collapsed": false,
    "pycharm": {
     "name": "#%%\n"
    }
   }
  },
  {
   "cell_type": "code",
   "execution_count": null,
   "outputs": [],
   "source": [
    "plt.figure(figsize=(12,5))\n",
    "sns.barplot(data = hourTran, x = \"hour\", y = \"Name\")\n",
    "plt.ylabel('Orders each hour', size = 15)\n",
    "plt.xlabel('Hours (UTC)', size = 15)\n",
    "plt.title('Count of orders received each hour', color = 'green', size = 20)\n",
    "plt.show()"
   ],
   "metadata": {
    "collapsed": false,
    "pycharm": {
     "name": "#%%\n"
    }
   }
  },
  {
   "cell_type": "code",
   "execution_count": null,
   "outputs": [],
   "source": [
    "from mlxtend.frequent_patterns import association_rules, apriori"
   ],
   "metadata": {
    "collapsed": false,
    "pycharm": {
     "name": "#%%\n"
    }
   }
  },
  {
   "cell_type": "code",
   "execution_count": null,
   "outputs": [],
   "source": [
    "transactions_str = df.groupby(['Name', 'Lineitem name'])['Lineitem name'].count().reset_index(name='Count')\n",
    "transactions_str.head(30)"
   ],
   "metadata": {
    "collapsed": false,
    "pycharm": {
     "name": "#%%\n"
    }
   }
  },
  {
   "cell_type": "code",
   "execution_count": null,
   "outputs": [],
   "source": [
    "basket = transactions_str.pivot_table(index='Name', columns='Lineitem name', values='Count', aggfunc='sum').fillna(0)"
   ],
   "metadata": {
    "collapsed": false,
    "pycharm": {
     "name": "#%%\n"
    }
   }
  },
  {
   "cell_type": "code",
   "execution_count": null,
   "outputs": [],
   "source": [
    "basket.head()"
   ],
   "metadata": {
    "collapsed": false,
    "pycharm": {
     "name": "#%%\n"
    }
   }
  },
  {
   "cell_type": "code",
   "execution_count": null,
   "outputs": [],
   "source": [
    "def encode(x):\n",
    "  if x<=0:\n",
    "    return 0\n",
    "  if x>=1:\n",
    "    return 1\n",
    "\n",
    "basket_sets = basket.applymap(encode)\n",
    "basket_sets.head()"
   ],
   "metadata": {
    "collapsed": false,
    "pycharm": {
     "name": "#%%\n"
    }
   }
  },
  {
   "cell_type": "code",
   "execution_count": null,
   "outputs": [],
   "source": [
    "freq_items = apriori(basket_sets, min_support = 0.001, use_colnames=True)\n",
    "freq_items"
   ],
   "metadata": {
    "collapsed": false,
    "pycharm": {
     "name": "#%%\n"
    }
   }
  },
  {
   "cell_type": "code",
   "execution_count": null,
   "outputs": [],
   "source": [
    "rules = association_rules(freq_items, metric = 'lift', min_threshold = 1)\n",
    "rules"
   ],
   "metadata": {
    "collapsed": false,
    "pycharm": {
     "name": "#%%\n"
    }
   }
  },
  {
   "cell_type": "code",
   "execution_count": null,
   "outputs": [],
   "source": [
    "rules.sort_values('confidence', ascending = False, inplace = True)\n",
    "rules"
   ],
   "metadata": {
    "collapsed": false,
    "pycharm": {
     "name": "#%%\n"
    }
   }
  },
  {
   "cell_type": "code",
   "execution_count": null,
   "outputs": [],
   "source": [
    "rules.sort_values('confidence', ascending=False)\n"
   ],
   "metadata": {
    "collapsed": false,
    "pycharm": {
     "name": "#%%\n"
    }
   }
  },
  {
   "cell_type": "markdown",
   "source": [
    "#### conclusion: the only association that is relavant is the 'Its ok not to be ok' book series - a rather trivial result."
   ],
   "metadata": {
    "collapsed": false
   }
  },
  {
   "cell_type": "code",
   "execution_count": null,
   "outputs": [],
   "source": [
    "# pd.set_option(\"display.max_rows\", None, \"display.max_columns\", None, 'display.max_colwidth', None)\n",
    "df['Lineitem name'].value_counts()"
   ],
   "metadata": {
    "collapsed": false,
    "pycharm": {
     "name": "#%%\n"
    }
   }
  },
  {
   "cell_type": "code",
   "execution_count": null,
   "outputs": [],
   "source": [
    "df['Lineitem sku'].value_counts()\n"
   ],
   "metadata": {
    "collapsed": false,
    "pycharm": {
     "name": "#%%\n"
    }
   }
  }
 ],
 "metadata": {
  "kernelspec": {
   "display_name": "Python 3",
   "language": "python",
   "name": "python3"
  },
  "language_info": {
   "codemirror_mode": {
    "name": "ipython",
    "version": 2
   },
   "file_extension": ".py",
   "mimetype": "text/x-python",
   "name": "python",
   "nbconvert_exporter": "python",
   "pygments_lexer": "ipython2",
   "version": "2.7.6"
  }
 },
 "nbformat": 4,
 "nbformat_minor": 0
}