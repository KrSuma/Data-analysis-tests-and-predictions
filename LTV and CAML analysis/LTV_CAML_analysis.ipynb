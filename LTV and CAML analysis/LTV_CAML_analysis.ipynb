{
 "cells": [
  {
   "cell_type": "code",
   "execution_count": null,
   "outputs": [],
   "source": [
    "import pandas as pd\n",
    "import matplotlib.pyplot as plt\n",
    "import matplotlib as mpl\n",
    "import seaborn as sns\n",
    "import numpy as np\n",
    "import hashlib\n",
    "\n",
    "PATH = 'sales_2019-09-01_2020-12-07.csv'\n",
    "\n",
    "df = pd.read_csv(PATH, delimiter=',')\n",
    "\n",
    "df.head()"
   ],
   "metadata": {
    "collapsed": false,
    "pycharm": {
     "name": "#%%\n"
    }
   }
  },
  {
   "cell_type": "code",
   "execution_count": null,
   "outputs": [],
   "source": [
    "df[df['total_sales'] <= 0 ].head(10)"
   ],
   "metadata": {
    "collapsed": false,
    "pycharm": {
     "name": "#%%\n"
    }
   }
  },
  {
   "cell_type": "code",
   "execution_count": null,
   "outputs": [],
   "source": [
    "df.describe()"
   ],
   "metadata": {
    "collapsed": false,
    "pycharm": {
     "name": "#%%\n"
    }
   }
  },
  {
   "cell_type": "code",
   "execution_count": null,
   "outputs": [],
   "source": [
    "df.count()"
   ],
   "metadata": {
    "collapsed": false,
    "pycharm": {
     "name": "#%%\n"
    }
   }
  },
  {
   "cell_type": "code",
   "execution_count": null,
   "outputs": [],
   "source": [
    "# adding average order value\n",
    "\n",
    "df['average_order_value'] = df['total_sales'] / df['orders']"
   ],
   "metadata": {
    "collapsed": false,
    "pycharm": {
     "name": "#%%\n"
    }
   }
  },
  {
   "cell_type": "code",
   "execution_count": null,
   "outputs": [],
   "source": [
    "df1 = df[df.isna().any(axis=1)]\n",
    "values = {'customer_name': 'none', 'customer_email': 'none'}\n",
    "df = df.fillna(value=values)"
   ],
   "metadata": {
    "collapsed": false,
    "pycharm": {
     "name": "#%%\n"
    }
   }
  },
  {
   "cell_type": "code",
   "execution_count": null,
   "outputs": [],
   "source": [
    "# remove all customers that have a total_sales <= 0\n",
    "df = df[df['total_sales'] > 0]"
   ],
   "metadata": {
    "collapsed": false,
    "pycharm": {
     "name": "#%%\n"
    }
   }
  },
  {
   "cell_type": "code",
   "execution_count": null,
   "outputs": [],
   "source": [
    "total_customer = df['orders'].count()\n",
    "total_orders_quantity =  df['orders'].sum()"
   ],
   "metadata": {
    "collapsed": false,
    "pycharm": {
     "name": "#%%\n"
    }
   }
  },
  {
   "cell_type": "code",
   "execution_count": null,
   "outputs": [],
   "source": [
    "df['orders'].sum()"
   ],
   "metadata": {
    "collapsed": false,
    "pycharm": {
     "name": "#%%\n"
    }
   }
  },
  {
   "cell_type": "code",
   "execution_count": null,
   "outputs": [],
   "source": [
    "# total purchase freq\n",
    "\n",
    "total_purchase_freq = total_orders_quantity / total_customer\n",
    "total_purchase_freq"
   ],
   "metadata": {
    "collapsed": false,
    "pycharm": {
     "name": "#%%\n"
    }
   }
  },
  {
   "cell_type": "code",
   "execution_count": null,
   "outputs": [],
   "source": [
    "# adding customer value\n",
    "\n",
    "df['customer_value'] = (df['average_order_value'] * total_purchase_freq) / 16"
   ],
   "metadata": {
    "collapsed": false,
    "pycharm": {
     "name": "#%%\n"
    }
   }
  },
  {
   "cell_type": "code",
   "execution_count": null,
   "outputs": [],
   "source": [
    "df.describe()"
   ],
   "metadata": {
    "collapsed": false,
    "pycharm": {
     "name": "#%%\n"
    }
   }
  },
  {
   "cell_type": "code",
   "execution_count": null,
   "outputs": [],
   "source": [
    "df"
   ],
   "metadata": {
    "collapsed": false,
    "pycharm": {
     "name": "#%%\n"
    }
   }
  },
  {
   "cell_type": "code",
   "execution_count": null,
   "outputs": [],
   "source": [
    "lifespan6 = 6\n",
    "lifespan18 = 18\n",
    "lifespan3yr = 36\n",
    "\n",
    "lifespan = [6, 18, 36]\n",
    "\n"
   ],
   "metadata": {
    "collapsed": false,
    "pycharm": {
     "name": "#%%\n"
    }
   }
  },
  {
   "cell_type": "code",
   "execution_count": null,
   "outputs": [],
   "source": [
    "for l in lifespan:\n",
    "  df['lifetime_value_' + str(l)] = df['customer_value'] * l"
   ],
   "metadata": {
    "collapsed": false,
    "pycharm": {
     "name": "#%%\n"
    }
   }
  },
  {
   "cell_type": "code",
   "execution_count": null,
   "outputs": [],
   "source": [
    "df.head(50)"
   ],
   "metadata": {
    "collapsed": false,
    "pycharm": {
     "name": "#%%\n"
    }
   }
  },
  {
   "cell_type": "markdown",
   "source": [
    "## Normalize"
   ],
   "metadata": {
    "collapsed": false
   }
  },
  {
   "cell_type": "code",
   "execution_count": null,
   "outputs": [],
   "source": [
    "df.describe()"
   ],
   "metadata": {
    "collapsed": false,
    "pycharm": {
     "name": "#%%\n"
    }
   }
  },
  {
   "cell_type": "code",
   "execution_count": null,
   "outputs": [],
   "source": [
    "df_normalized = (df - df.mean()) / df.std()\n",
    "df_normalized.describe()"
   ],
   "metadata": {
    "collapsed": false,
    "pycharm": {
     "name": "#%%\n"
    }
   }
  },
  {
   "cell_type": "code",
   "execution_count": null,
   "outputs": [],
   "source": [
    "from sklearn.cluster import KMeans\n",
    "\n",
    "kmeans_settings = {\n",
    "    'algorithm': 'manual',\n",
    "    'copy_x': True,\n",
    "    'init': 'k-means++',\n",
    "    'max_iter': 300,\n",
    "    'n_clusters': 'manual',\n",
    "    'n_init': 10,\n",
    "    'n_jobs': None,\n",
    "    'precompute_distances': 'auto',\n",
    "    'random_state': 40,\n",
    "    'tol': 0.0001,\n",
    "    'verbose': 0\n",
    "}\n",
    "\n",
    "# kmeans = KMeans(**kmeans_settings).fit(df_normalized[[\"Total Orders\", \"Total Spent\", \"AvgOrderValue\"]])\n",
    "\n",
    "X = df_normalized[['average_order_value', 'customer_value', 'orders', 'total_sales', 'lifetime_value_6', 'lifetime_value_18', 'lifetime_value_36']]\n",
    "kmeans = KMeans(n_clusters = 4, random_state=40).fit(X)"
   ],
   "metadata": {
    "collapsed": false,
    "pycharm": {
     "name": "#%%\n"
    }
   }
  },
  {
   "cell_type": "code",
   "execution_count": null,
   "outputs": [],
   "source": [
    "kmeans"
   ],
   "metadata": {
    "collapsed": false,
    "pycharm": {
     "name": "#%%\n"
    }
   }
  },
  {
   "cell_type": "code",
   "execution_count": null,
   "outputs": [],
   "source": [
    "four_cluster_df = X.copy(deep=True)\n",
    "four_cluster_df['Cluster'] = kmeans.labels_"
   ],
   "metadata": {
    "collapsed": false,
    "pycharm": {
     "name": "#%%\n"
    }
   }
  },
  {
   "cell_type": "code",
   "execution_count": null,
   "outputs": [],
   "source": [
    "four_cluster_df.head()"
   ],
   "metadata": {
    "collapsed": false,
    "pycharm": {
     "name": "#%%\n"
    }
   }
  },
  {
   "cell_type": "code",
   "execution_count": null,
   "outputs": [],
   "source": [
    "four_cluster_df.groupby('Cluster').count().sort_values(by='lifetime_value_6')['lifetime_value_6']"
   ],
   "metadata": {
    "collapsed": false,
    "pycharm": {
     "name": "#%%\n"
    }
   }
  },
  {
   "cell_type": "code",
   "execution_count": null,
   "outputs": [],
   "source": [
    "list(four_cluster_df.columns)"
   ],
   "metadata": {
    "collapsed": false,
    "pycharm": {
     "name": "#%%\n"
    }
   }
  },
  {
   "cell_type": "code",
   "execution_count": null,
   "outputs": [],
   "source": [
    "alt_df = pd.DataFrame()\n",
    "alt_df['Cluster'] = kmeans.labels_\n",
    "\n",
    "del four_cluster_df['Cluster']\n",
    "four_cluster_df"
   ],
   "metadata": {
    "collapsed": false,
    "pycharm": {
     "name": "#%%\n"
    }
   }
  },
  {
   "cell_type": "code",
   "execution_count": null,
   "outputs": [],
   "source": [
    "label"
   ],
   "metadata": {
    "collapsed": false,
    "pycharm": {
     "name": "#%%\n"
    }
   }
  },
  {
   "cell_type": "code",
   "execution_count": null,
   "outputs": [],
   "source": [
    "import itertools\n",
    "list(itertools.combinations(four_cluster_df.columns, 2))"
   ],
   "metadata": {
    "collapsed": false,
    "pycharm": {
     "name": "#%%\n"
    }
   }
  },
  {
   "cell_type": "code",
   "execution_count": null,
   "outputs": [],
   "source": [
    "col_pairs = list(itertools.combinations(four_cluster_df.columns, 2))\n",
    "models = []\n",
    "results = []\n",
    "for a, b in col_pairs:\n",
    "  plt.scatter(\n",
    "    four_cluster_df.loc[alt_df['Cluster'] == 0][str(a)],\n",
    "    four_cluster_df.loc[alt_df['Cluster'] == 0][str(b)],\n",
    "    c='blue'\n",
    "  )\n",
    "  plt.scatter(\n",
    "    four_cluster_df.loc[alt_df['Cluster'] == 1][str(a)],\n",
    "    four_cluster_df.loc[alt_df['Cluster'] == 1][str(b)],\n",
    "    c='red'\n",
    "  )\n",
    "  plt.scatter(\n",
    "    four_cluster_df.loc[alt_df['Cluster'] == 2][str(a)],\n",
    "    four_cluster_df.loc[alt_df['Cluster'] == 2][str(b)],\n",
    "    c='green'\n",
    "  )\n",
    "  plt.scatter(\n",
    "    four_cluster_df.loc[alt_df['Cluster'] == 3][str(a)],\n",
    "    four_cluster_df.loc[alt_df['Cluster'] == 3][str(b)],\n",
    "    c='orange'\n",
    "  )\n",
    "  plt.title(str(a) + ' vs ' + str(b))\n",
    "  plt.xlabel(str(b))\n",
    "  plt.ylabel(str(a))\n",
    "\n",
    "  plt.grid()\n",
    "  plt.show()\n"
   ],
   "metadata": {
    "collapsed": false,
    "pycharm": {
     "name": "#%%\n"
    }
   }
  }
 ],
 "metadata": {
  "kernelspec": {
   "display_name": "Python 3",
   "language": "python",
   "name": "python3"
  },
  "language_info": {
   "codemirror_mode": {
    "name": "ipython",
    "version": 2
   },
   "file_extension": ".py",
   "mimetype": "text/x-python",
   "name": "python",
   "nbconvert_exporter": "python",
   "pygments_lexer": "ipython2",
   "version": "2.7.6"
  }
 },
 "nbformat": 4,
 "nbformat_minor": 0
}