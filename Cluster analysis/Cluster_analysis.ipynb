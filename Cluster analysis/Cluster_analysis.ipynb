{
 "cells": [
  {
   "cell_type": "markdown",
   "source": [
    "# Cluster Analysis by machine learning model on Shopify customers dataset\n",
    "\n",
    "### model trained on data until 4th of Dec. 2020"
   ],
   "metadata": {
    "collapsed": false
   }
  },
  {
   "cell_type": "code",
   "execution_count": 3,
   "outputs": [
    {
     "name": "stdout",
     "output_type": "stream",
     "text": [
      "C:\\Users\\jaesu\\PycharmProjects\\Analysis\\Cluster analysis\n"
     ]
    }
   ],
   "source": [
    "\"\"\"\n",
    "input: customer dataset in Shopify.\n",
    "output: dataset of segmented customers (top 50).\n",
    "\"\"\"\n",
    "\n",
    "import os\n",
    "print(os.getcwd())"
   ],
   "metadata": {
    "collapsed": false,
    "pycharm": {
     "name": "#%%\n"
    }
   }
  },
  {
   "cell_type": "code",
   "execution_count": 4,
   "outputs": [
    {
     "data": {
      "text/plain": "  First Name Last Name                     Email Company  \\\n0      Micah  Jumaquio      micahjumaq@gmail.com     NaN   \n1      Alain      Tran       sillywiener@aol.com     NaN   \n2     Nickie   Venegas    dhv2350@email.vccs.edu     NaN   \n3   Victoria    Morris   tori-morris@hotmail.com     NaN   \n4   Manjusha    Punugu  manjushapunugu@gmail.com     NaN   \n\n                   Address1        Address2            City  Province  \\\n0     177 Blackthorn Avenue             NaN         Toronto   Ontario   \n1  Christian-Schad-Straße 2  bei Tran/Alten   Aschaffenburg       NaN   \n2           4000 Foxwood dr             NaN  Virginia beach  Virginia   \n3           1955 SW 5th Ave        Apt 1030        Portland    Oregon   \n4   9073 MITCHELL DEWITT RD             NaN      PLAIN CITY      Ohio   \n\n  Province Code        Country Country Code      Zip              Phone  \\\n0            ON         Canada           CA  M6N 3H7   '+1 647 866 1159   \n1           NaN        Germany           DE    63743  '+49 1590 6465323   \n2            VA  United States           US    23462     (757) 478-8922   \n3            OR  United States           US    97201     (541) 294-8943   \n4            OH  United States           US    43064     (614) 800-7089   \n\n  Accepts Marketing  Total Spent  Total Orders Tags Note Tax Exempt  \n0               yes        99.95             1  NaN  NaN         no  \n1               yes        99.63             1  NaN  NaN         no  \n2                no         0.00             0  NaN  NaN         no  \n3               yes         0.00             0  NaN  NaN         no  \n4               yes       118.12             1  NaN  NaN         no  ",
      "text/html": "<div>\n<style scoped>\n    .dataframe tbody tr th:only-of-type {\n        vertical-align: middle;\n    }\n\n    .dataframe tbody tr th {\n        vertical-align: top;\n    }\n\n    .dataframe thead th {\n        text-align: right;\n    }\n</style>\n<table border=\"1\" class=\"dataframe\">\n  <thead>\n    <tr style=\"text-align: right;\">\n      <th></th>\n      <th>First Name</th>\n      <th>Last Name</th>\n      <th>Email</th>\n      <th>Company</th>\n      <th>Address1</th>\n      <th>Address2</th>\n      <th>City</th>\n      <th>Province</th>\n      <th>Province Code</th>\n      <th>Country</th>\n      <th>Country Code</th>\n      <th>Zip</th>\n      <th>Phone</th>\n      <th>Accepts Marketing</th>\n      <th>Total Spent</th>\n      <th>Total Orders</th>\n      <th>Tags</th>\n      <th>Note</th>\n      <th>Tax Exempt</th>\n    </tr>\n  </thead>\n  <tbody>\n    <tr>\n      <th>0</th>\n      <td>Micah</td>\n      <td>Jumaquio</td>\n      <td>micahjumaq@gmail.com</td>\n      <td>NaN</td>\n      <td>177 Blackthorn Avenue</td>\n      <td>NaN</td>\n      <td>Toronto</td>\n      <td>Ontario</td>\n      <td>ON</td>\n      <td>Canada</td>\n      <td>CA</td>\n      <td>M6N 3H7</td>\n      <td>'+1 647 866 1159</td>\n      <td>yes</td>\n      <td>99.95</td>\n      <td>1</td>\n      <td>NaN</td>\n      <td>NaN</td>\n      <td>no</td>\n    </tr>\n    <tr>\n      <th>1</th>\n      <td>Alain</td>\n      <td>Tran</td>\n      <td>sillywiener@aol.com</td>\n      <td>NaN</td>\n      <td>Christian-Schad-Straße 2</td>\n      <td>bei Tran/Alten</td>\n      <td>Aschaffenburg</td>\n      <td>NaN</td>\n      <td>NaN</td>\n      <td>Germany</td>\n      <td>DE</td>\n      <td>63743</td>\n      <td>'+49 1590 6465323</td>\n      <td>yes</td>\n      <td>99.63</td>\n      <td>1</td>\n      <td>NaN</td>\n      <td>NaN</td>\n      <td>no</td>\n    </tr>\n    <tr>\n      <th>2</th>\n      <td>Nickie</td>\n      <td>Venegas</td>\n      <td>dhv2350@email.vccs.edu</td>\n      <td>NaN</td>\n      <td>4000 Foxwood dr</td>\n      <td>NaN</td>\n      <td>Virginia beach</td>\n      <td>Virginia</td>\n      <td>VA</td>\n      <td>United States</td>\n      <td>US</td>\n      <td>23462</td>\n      <td>(757) 478-8922</td>\n      <td>no</td>\n      <td>0.00</td>\n      <td>0</td>\n      <td>NaN</td>\n      <td>NaN</td>\n      <td>no</td>\n    </tr>\n    <tr>\n      <th>3</th>\n      <td>Victoria</td>\n      <td>Morris</td>\n      <td>tori-morris@hotmail.com</td>\n      <td>NaN</td>\n      <td>1955 SW 5th Ave</td>\n      <td>Apt 1030</td>\n      <td>Portland</td>\n      <td>Oregon</td>\n      <td>OR</td>\n      <td>United States</td>\n      <td>US</td>\n      <td>97201</td>\n      <td>(541) 294-8943</td>\n      <td>yes</td>\n      <td>0.00</td>\n      <td>0</td>\n      <td>NaN</td>\n      <td>NaN</td>\n      <td>no</td>\n    </tr>\n    <tr>\n      <th>4</th>\n      <td>Manjusha</td>\n      <td>Punugu</td>\n      <td>manjushapunugu@gmail.com</td>\n      <td>NaN</td>\n      <td>9073 MITCHELL DEWITT RD</td>\n      <td>NaN</td>\n      <td>PLAIN CITY</td>\n      <td>Ohio</td>\n      <td>OH</td>\n      <td>United States</td>\n      <td>US</td>\n      <td>43064</td>\n      <td>(614) 800-7089</td>\n      <td>yes</td>\n      <td>118.12</td>\n      <td>1</td>\n      <td>NaN</td>\n      <td>NaN</td>\n      <td>no</td>\n    </tr>\n  </tbody>\n</table>\n</div>"
     },
     "execution_count": 4,
     "metadata": {},
     "output_type": "execute_result"
    }
   ],
   "source": [
    "import pandas as pd\n",
    "import matplotlib.pyplot as plt\n",
    "import matplotlib as mpl\n",
    "import numpy as np\n",
    "import hashlib\n",
    "\n",
    "df = pd.read_csv('all_customers_shopify_1-13.csv', delimiter=',')\n",
    "\n",
    "df.head()"
   ],
   "metadata": {
    "collapsed": false,
    "pycharm": {
     "name": "#%%\n"
    }
   }
  },
  {
   "cell_type": "markdown",
   "source": [
    "## 1. Data preview and cleaning"
   ],
   "metadata": {
    "collapsed": false
   }
  },
  {
   "cell_type": "code",
   "execution_count": 5,
   "outputs": [
    {
     "data": {
      "text/plain": "  First Name Last Name                     Email Company  \\\n0      Micah  Jumaquio      micahjumaq@gmail.com     NaN   \n1      Alain      Tran       sillywiener@aol.com     NaN   \n2     Nickie   Venegas    dhv2350@email.vccs.edu     NaN   \n3   Victoria    Morris   tori-morris@hotmail.com     NaN   \n4   Manjusha    Punugu  manjushapunugu@gmail.com     NaN   \n\n                   Address1        Address2            City  Province  \\\n0     177 Blackthorn Avenue             NaN         Toronto   Ontario   \n1  Christian-Schad-Straße 2  bei Tran/Alten   Aschaffenburg       NaN   \n2           4000 Foxwood dr             NaN  Virginia beach  Virginia   \n3           1955 SW 5th Ave        Apt 1030        Portland    Oregon   \n4   9073 MITCHELL DEWITT RD             NaN      PLAIN CITY      Ohio   \n\n  Province Code        Country Country Code      Zip              Phone  \\\n0            ON         Canada           CA  M6N 3H7   '+1 647 866 1159   \n1           NaN        Germany           DE    63743  '+49 1590 6465323   \n2            VA  United States           US    23462     (757) 478-8922   \n3            OR  United States           US    97201     (541) 294-8943   \n4            OH  United States           US    43064     (614) 800-7089   \n\n  Accepts Marketing  Total Spent  Total Orders Tags Note Tax Exempt  \n0               yes        99.95             1  NaN  NaN         no  \n1               yes        99.63             1  NaN  NaN         no  \n2                no         0.00             0  NaN  NaN         no  \n3               yes         0.00             0  NaN  NaN         no  \n4               yes       118.12             1  NaN  NaN         no  ",
      "text/html": "<div>\n<style scoped>\n    .dataframe tbody tr th:only-of-type {\n        vertical-align: middle;\n    }\n\n    .dataframe tbody tr th {\n        vertical-align: top;\n    }\n\n    .dataframe thead th {\n        text-align: right;\n    }\n</style>\n<table border=\"1\" class=\"dataframe\">\n  <thead>\n    <tr style=\"text-align: right;\">\n      <th></th>\n      <th>First Name</th>\n      <th>Last Name</th>\n      <th>Email</th>\n      <th>Company</th>\n      <th>Address1</th>\n      <th>Address2</th>\n      <th>City</th>\n      <th>Province</th>\n      <th>Province Code</th>\n      <th>Country</th>\n      <th>Country Code</th>\n      <th>Zip</th>\n      <th>Phone</th>\n      <th>Accepts Marketing</th>\n      <th>Total Spent</th>\n      <th>Total Orders</th>\n      <th>Tags</th>\n      <th>Note</th>\n      <th>Tax Exempt</th>\n    </tr>\n  </thead>\n  <tbody>\n    <tr>\n      <th>0</th>\n      <td>Micah</td>\n      <td>Jumaquio</td>\n      <td>micahjumaq@gmail.com</td>\n      <td>NaN</td>\n      <td>177 Blackthorn Avenue</td>\n      <td>NaN</td>\n      <td>Toronto</td>\n      <td>Ontario</td>\n      <td>ON</td>\n      <td>Canada</td>\n      <td>CA</td>\n      <td>M6N 3H7</td>\n      <td>'+1 647 866 1159</td>\n      <td>yes</td>\n      <td>99.95</td>\n      <td>1</td>\n      <td>NaN</td>\n      <td>NaN</td>\n      <td>no</td>\n    </tr>\n    <tr>\n      <th>1</th>\n      <td>Alain</td>\n      <td>Tran</td>\n      <td>sillywiener@aol.com</td>\n      <td>NaN</td>\n      <td>Christian-Schad-Straße 2</td>\n      <td>bei Tran/Alten</td>\n      <td>Aschaffenburg</td>\n      <td>NaN</td>\n      <td>NaN</td>\n      <td>Germany</td>\n      <td>DE</td>\n      <td>63743</td>\n      <td>'+49 1590 6465323</td>\n      <td>yes</td>\n      <td>99.63</td>\n      <td>1</td>\n      <td>NaN</td>\n      <td>NaN</td>\n      <td>no</td>\n    </tr>\n    <tr>\n      <th>2</th>\n      <td>Nickie</td>\n      <td>Venegas</td>\n      <td>dhv2350@email.vccs.edu</td>\n      <td>NaN</td>\n      <td>4000 Foxwood dr</td>\n      <td>NaN</td>\n      <td>Virginia beach</td>\n      <td>Virginia</td>\n      <td>VA</td>\n      <td>United States</td>\n      <td>US</td>\n      <td>23462</td>\n      <td>(757) 478-8922</td>\n      <td>no</td>\n      <td>0.00</td>\n      <td>0</td>\n      <td>NaN</td>\n      <td>NaN</td>\n      <td>no</td>\n    </tr>\n    <tr>\n      <th>3</th>\n      <td>Victoria</td>\n      <td>Morris</td>\n      <td>tori-morris@hotmail.com</td>\n      <td>NaN</td>\n      <td>1955 SW 5th Ave</td>\n      <td>Apt 1030</td>\n      <td>Portland</td>\n      <td>Oregon</td>\n      <td>OR</td>\n      <td>United States</td>\n      <td>US</td>\n      <td>97201</td>\n      <td>(541) 294-8943</td>\n      <td>yes</td>\n      <td>0.00</td>\n      <td>0</td>\n      <td>NaN</td>\n      <td>NaN</td>\n      <td>no</td>\n    </tr>\n    <tr>\n      <th>4</th>\n      <td>Manjusha</td>\n      <td>Punugu</td>\n      <td>manjushapunugu@gmail.com</td>\n      <td>NaN</td>\n      <td>9073 MITCHELL DEWITT RD</td>\n      <td>NaN</td>\n      <td>PLAIN CITY</td>\n      <td>Ohio</td>\n      <td>OH</td>\n      <td>United States</td>\n      <td>US</td>\n      <td>43064</td>\n      <td>(614) 800-7089</td>\n      <td>yes</td>\n      <td>118.12</td>\n      <td>1</td>\n      <td>NaN</td>\n      <td>NaN</td>\n      <td>no</td>\n    </tr>\n  </tbody>\n</table>\n</div>"
     },
     "execution_count": 5,
     "metadata": {},
     "output_type": "execute_result"
    }
   ],
   "source": [
    "df_original = df.copy(deep=True)\n",
    "\n",
    "df.head()"
   ],
   "metadata": {
    "collapsed": false,
    "pycharm": {
     "name": "#%%\n"
    }
   }
  },
  {
   "cell_type": "code",
   "execution_count": 6,
   "outputs": [],
   "source": [
    "df = df[['Email', 'Total Spent', 'Total Orders']]"
   ],
   "metadata": {
    "collapsed": false,
    "pycharm": {
     "name": "#%%\n"
    }
   }
  },
  {
   "cell_type": "code",
   "execution_count": 7,
   "outputs": [
    {
     "data": {
      "text/plain": "                      Email  Total Spent  Total Orders\n0      micahjumaq@gmail.com        99.95             1\n1       sillywiener@aol.com        99.63             1\n2    dhv2350@email.vccs.edu         0.00             0\n3   tori-morris@hotmail.com         0.00             0\n4  manjushapunugu@gmail.com       118.12             1",
      "text/html": "<div>\n<style scoped>\n    .dataframe tbody tr th:only-of-type {\n        vertical-align: middle;\n    }\n\n    .dataframe tbody tr th {\n        vertical-align: top;\n    }\n\n    .dataframe thead th {\n        text-align: right;\n    }\n</style>\n<table border=\"1\" class=\"dataframe\">\n  <thead>\n    <tr style=\"text-align: right;\">\n      <th></th>\n      <th>Email</th>\n      <th>Total Spent</th>\n      <th>Total Orders</th>\n    </tr>\n  </thead>\n  <tbody>\n    <tr>\n      <th>0</th>\n      <td>micahjumaq@gmail.com</td>\n      <td>99.95</td>\n      <td>1</td>\n    </tr>\n    <tr>\n      <th>1</th>\n      <td>sillywiener@aol.com</td>\n      <td>99.63</td>\n      <td>1</td>\n    </tr>\n    <tr>\n      <th>2</th>\n      <td>dhv2350@email.vccs.edu</td>\n      <td>0.00</td>\n      <td>0</td>\n    </tr>\n    <tr>\n      <th>3</th>\n      <td>tori-morris@hotmail.com</td>\n      <td>0.00</td>\n      <td>0</td>\n    </tr>\n    <tr>\n      <th>4</th>\n      <td>manjushapunugu@gmail.com</td>\n      <td>118.12</td>\n      <td>1</td>\n    </tr>\n  </tbody>\n</table>\n</div>"
     },
     "execution_count": 7,
     "metadata": {},
     "output_type": "execute_result"
    }
   ],
   "source": [
    "df.head()"
   ],
   "metadata": {
    "collapsed": false,
    "pycharm": {
     "name": "#%%\n"
    }
   }
  },
  {
   "cell_type": "code",
   "execution_count": 8,
   "outputs": [],
   "source": [
    "df = df[df['Total Spent'] > 0]"
   ],
   "metadata": {
    "collapsed": false,
    "pycharm": {
     "name": "#%%\n"
    }
   }
  },
  {
   "cell_type": "code",
   "execution_count": 9,
   "outputs": [
    {
     "data": {
      "text/plain": "                              Email  Total Spent  Total Orders\n0              micahjumaq@gmail.com        99.95             1\n1               sillywiener@aol.com        99.63             1\n4          manjushapunugu@gmail.com       118.12             1\n8             changeunhye@gmail.com       239.92             1\n12          marymegandaly@gmail.com       236.92             1\n...                             ...          ...           ...\n52381  lauren.bartleymavs@gmail.com       512.87             9\n52391     hodosialexandra@gmail.com       159.96             4\n52396        jennifer.rankin@me.com      1185.28            25\n52400       sheanaparedes@gmail.com        63.99             1\n52402            stigping@gmail.com       264.95             5\n\n[14006 rows x 3 columns]",
      "text/html": "<div>\n<style scoped>\n    .dataframe tbody tr th:only-of-type {\n        vertical-align: middle;\n    }\n\n    .dataframe tbody tr th {\n        vertical-align: top;\n    }\n\n    .dataframe thead th {\n        text-align: right;\n    }\n</style>\n<table border=\"1\" class=\"dataframe\">\n  <thead>\n    <tr style=\"text-align: right;\">\n      <th></th>\n      <th>Email</th>\n      <th>Total Spent</th>\n      <th>Total Orders</th>\n    </tr>\n  </thead>\n  <tbody>\n    <tr>\n      <th>0</th>\n      <td>micahjumaq@gmail.com</td>\n      <td>99.95</td>\n      <td>1</td>\n    </tr>\n    <tr>\n      <th>1</th>\n      <td>sillywiener@aol.com</td>\n      <td>99.63</td>\n      <td>1</td>\n    </tr>\n    <tr>\n      <th>4</th>\n      <td>manjushapunugu@gmail.com</td>\n      <td>118.12</td>\n      <td>1</td>\n    </tr>\n    <tr>\n      <th>8</th>\n      <td>changeunhye@gmail.com</td>\n      <td>239.92</td>\n      <td>1</td>\n    </tr>\n    <tr>\n      <th>12</th>\n      <td>marymegandaly@gmail.com</td>\n      <td>236.92</td>\n      <td>1</td>\n    </tr>\n    <tr>\n      <th>...</th>\n      <td>...</td>\n      <td>...</td>\n      <td>...</td>\n    </tr>\n    <tr>\n      <th>52381</th>\n      <td>lauren.bartleymavs@gmail.com</td>\n      <td>512.87</td>\n      <td>9</td>\n    </tr>\n    <tr>\n      <th>52391</th>\n      <td>hodosialexandra@gmail.com</td>\n      <td>159.96</td>\n      <td>4</td>\n    </tr>\n    <tr>\n      <th>52396</th>\n      <td>jennifer.rankin@me.com</td>\n      <td>1185.28</td>\n      <td>25</td>\n    </tr>\n    <tr>\n      <th>52400</th>\n      <td>sheanaparedes@gmail.com</td>\n      <td>63.99</td>\n      <td>1</td>\n    </tr>\n    <tr>\n      <th>52402</th>\n      <td>stigping@gmail.com</td>\n      <td>264.95</td>\n      <td>5</td>\n    </tr>\n  </tbody>\n</table>\n<p>14006 rows × 3 columns</p>\n</div>"
     },
     "execution_count": 9,
     "metadata": {},
     "output_type": "execute_result"
    }
   ],
   "source": [
    "df"
   ],
   "metadata": {
    "collapsed": false,
    "pycharm": {
     "name": "#%%\n"
    }
   }
  },
  {
   "cell_type": "code",
   "execution_count": 10,
   "outputs": [
    {
     "data": {
      "text/plain": "                       Email  Total Spent  Total Orders  AvgOrderValue\n0       micahjumaq@gmail.com        99.95             1          99.95\n1        sillywiener@aol.com        99.63             1          99.63\n4   manjushapunugu@gmail.com       118.12             1         118.12\n8      changeunhye@gmail.com       239.92             1         239.92\n12   marymegandaly@gmail.com       236.92             1         236.92",
      "text/html": "<div>\n<style scoped>\n    .dataframe tbody tr th:only-of-type {\n        vertical-align: middle;\n    }\n\n    .dataframe tbody tr th {\n        vertical-align: top;\n    }\n\n    .dataframe thead th {\n        text-align: right;\n    }\n</style>\n<table border=\"1\" class=\"dataframe\">\n  <thead>\n    <tr style=\"text-align: right;\">\n      <th></th>\n      <th>Email</th>\n      <th>Total Spent</th>\n      <th>Total Orders</th>\n      <th>AvgOrderValue</th>\n    </tr>\n  </thead>\n  <tbody>\n    <tr>\n      <th>0</th>\n      <td>micahjumaq@gmail.com</td>\n      <td>99.95</td>\n      <td>1</td>\n      <td>99.95</td>\n    </tr>\n    <tr>\n      <th>1</th>\n      <td>sillywiener@aol.com</td>\n      <td>99.63</td>\n      <td>1</td>\n      <td>99.63</td>\n    </tr>\n    <tr>\n      <th>4</th>\n      <td>manjushapunugu@gmail.com</td>\n      <td>118.12</td>\n      <td>1</td>\n      <td>118.12</td>\n    </tr>\n    <tr>\n      <th>8</th>\n      <td>changeunhye@gmail.com</td>\n      <td>239.92</td>\n      <td>1</td>\n      <td>239.92</td>\n    </tr>\n    <tr>\n      <th>12</th>\n      <td>marymegandaly@gmail.com</td>\n      <td>236.92</td>\n      <td>1</td>\n      <td>236.92</td>\n    </tr>\n  </tbody>\n</table>\n</div>"
     },
     "execution_count": 10,
     "metadata": {},
     "output_type": "execute_result"
    }
   ],
   "source": [
    "df['AvgOrderValue'] = df['Total Spent'] / df['Total Orders']\n",
    "df.head()"
   ],
   "metadata": {
    "collapsed": false,
    "pycharm": {
     "name": "#%%\n"
    }
   }
  },
  {
   "cell_type": "code",
   "execution_count": 11,
   "outputs": [
    {
     "data": {
      "text/plain": "        Total Spent  Total Orders  AvgOrderValue\ncount  14006.000000  14006.000000   14006.000000\nmean     163.173157      2.648294      65.850287\nstd      201.861920      3.012167      38.976697\nmin        2.680000      1.000000       0.670000\n25%       50.970000      1.000000      44.990000\n50%       99.980000      1.000000      53.610000\n75%      197.465000      3.000000      70.960000\nmax     3928.350000     48.000000     522.570000",
      "text/html": "<div>\n<style scoped>\n    .dataframe tbody tr th:only-of-type {\n        vertical-align: middle;\n    }\n\n    .dataframe tbody tr th {\n        vertical-align: top;\n    }\n\n    .dataframe thead th {\n        text-align: right;\n    }\n</style>\n<table border=\"1\" class=\"dataframe\">\n  <thead>\n    <tr style=\"text-align: right;\">\n      <th></th>\n      <th>Total Spent</th>\n      <th>Total Orders</th>\n      <th>AvgOrderValue</th>\n    </tr>\n  </thead>\n  <tbody>\n    <tr>\n      <th>count</th>\n      <td>14006.000000</td>\n      <td>14006.000000</td>\n      <td>14006.000000</td>\n    </tr>\n    <tr>\n      <th>mean</th>\n      <td>163.173157</td>\n      <td>2.648294</td>\n      <td>65.850287</td>\n    </tr>\n    <tr>\n      <th>std</th>\n      <td>201.861920</td>\n      <td>3.012167</td>\n      <td>38.976697</td>\n    </tr>\n    <tr>\n      <th>min</th>\n      <td>2.680000</td>\n      <td>1.000000</td>\n      <td>0.670000</td>\n    </tr>\n    <tr>\n      <th>25%</th>\n      <td>50.970000</td>\n      <td>1.000000</td>\n      <td>44.990000</td>\n    </tr>\n    <tr>\n      <th>50%</th>\n      <td>99.980000</td>\n      <td>1.000000</td>\n      <td>53.610000</td>\n    </tr>\n    <tr>\n      <th>75%</th>\n      <td>197.465000</td>\n      <td>3.000000</td>\n      <td>70.960000</td>\n    </tr>\n    <tr>\n      <th>max</th>\n      <td>3928.350000</td>\n      <td>48.000000</td>\n      <td>522.570000</td>\n    </tr>\n  </tbody>\n</table>\n</div>"
     },
     "execution_count": 11,
     "metadata": {},
     "output_type": "execute_result"
    }
   ],
   "source": [
    "df.describe()"
   ],
   "metadata": {
    "collapsed": false,
    "pycharm": {
     "name": "#%%\n"
    }
   }
  },
  {
   "cell_type": "code",
   "execution_count": 12,
   "outputs": [
    {
     "data": {
      "text/plain": "                       Email  Total Spent  Total Orders  AvgOrderValue\n0       micahjumaq@gmail.com        99.95             1          99.95\n1        sillywiener@aol.com        99.63             1          99.63\n4   manjushapunugu@gmail.com       118.12             1         118.12\n8      changeunhye@gmail.com       239.92             1         239.92\n12   marymegandaly@gmail.com       236.92             1         236.92",
      "text/html": "<div>\n<style scoped>\n    .dataframe tbody tr th:only-of-type {\n        vertical-align: middle;\n    }\n\n    .dataframe tbody tr th {\n        vertical-align: top;\n    }\n\n    .dataframe thead th {\n        text-align: right;\n    }\n</style>\n<table border=\"1\" class=\"dataframe\">\n  <thead>\n    <tr style=\"text-align: right;\">\n      <th></th>\n      <th>Email</th>\n      <th>Total Spent</th>\n      <th>Total Orders</th>\n      <th>AvgOrderValue</th>\n    </tr>\n  </thead>\n  <tbody>\n    <tr>\n      <th>0</th>\n      <td>micahjumaq@gmail.com</td>\n      <td>99.95</td>\n      <td>1</td>\n      <td>99.95</td>\n    </tr>\n    <tr>\n      <th>1</th>\n      <td>sillywiener@aol.com</td>\n      <td>99.63</td>\n      <td>1</td>\n      <td>99.63</td>\n    </tr>\n    <tr>\n      <th>4</th>\n      <td>manjushapunugu@gmail.com</td>\n      <td>118.12</td>\n      <td>1</td>\n      <td>118.12</td>\n    </tr>\n    <tr>\n      <th>8</th>\n      <td>changeunhye@gmail.com</td>\n      <td>239.92</td>\n      <td>1</td>\n      <td>239.92</td>\n    </tr>\n    <tr>\n      <th>12</th>\n      <td>marymegandaly@gmail.com</td>\n      <td>236.92</td>\n      <td>1</td>\n      <td>236.92</td>\n    </tr>\n  </tbody>\n</table>\n</div>"
     },
     "execution_count": 12,
     "metadata": {},
     "output_type": "execute_result"
    }
   ],
   "source": [
    "df.head()"
   ],
   "metadata": {
    "collapsed": false,
    "pycharm": {
     "name": "#%%\n"
    }
   }
  },
  {
   "cell_type": "markdown",
   "source": [
    "## 2. Normalize the values\n",
    "\n",
    "#### to feed into our Cluster Analysis ML Model for training"
   ],
   "metadata": {
    "collapsed": false
   }
  },
  {
   "cell_type": "code",
   "execution_count": 13,
   "outputs": [],
   "source": [
    "# df[\"Email\"] = df[\"Email\"].apply(lambda x: hashlib.sha256(str(x).encode(\"utf-8\")).hexdigest())"
   ],
   "metadata": {
    "collapsed": false,
    "pycharm": {
     "name": "#%%\n"
    }
   }
  },
  {
   "cell_type": "code",
   "execution_count": 14,
   "outputs": [
    {
     "data": {
      "text/plain": "                              Email  Total Spent  Total Orders  AvgOrderValue\n0              micahjumaq@gmail.com        99.95             1      99.950000\n1               sillywiener@aol.com        99.63             1      99.630000\n4          manjushapunugu@gmail.com       118.12             1     118.120000\n8             changeunhye@gmail.com       239.92             1     239.920000\n12          marymegandaly@gmail.com       236.92             1     236.920000\n...                             ...          ...           ...            ...\n52381  lauren.bartleymavs@gmail.com       512.87             9      56.985556\n52391     hodosialexandra@gmail.com       159.96             4      39.990000\n52396        jennifer.rankin@me.com      1185.28            25      47.411200\n52400       sheanaparedes@gmail.com        63.99             1      63.990000\n52402            stigping@gmail.com       264.95             5      52.990000\n\n[14006 rows x 4 columns]",
      "text/html": "<div>\n<style scoped>\n    .dataframe tbody tr th:only-of-type {\n        vertical-align: middle;\n    }\n\n    .dataframe tbody tr th {\n        vertical-align: top;\n    }\n\n    .dataframe thead th {\n        text-align: right;\n    }\n</style>\n<table border=\"1\" class=\"dataframe\">\n  <thead>\n    <tr style=\"text-align: right;\">\n      <th></th>\n      <th>Email</th>\n      <th>Total Spent</th>\n      <th>Total Orders</th>\n      <th>AvgOrderValue</th>\n    </tr>\n  </thead>\n  <tbody>\n    <tr>\n      <th>0</th>\n      <td>micahjumaq@gmail.com</td>\n      <td>99.95</td>\n      <td>1</td>\n      <td>99.950000</td>\n    </tr>\n    <tr>\n      <th>1</th>\n      <td>sillywiener@aol.com</td>\n      <td>99.63</td>\n      <td>1</td>\n      <td>99.630000</td>\n    </tr>\n    <tr>\n      <th>4</th>\n      <td>manjushapunugu@gmail.com</td>\n      <td>118.12</td>\n      <td>1</td>\n      <td>118.120000</td>\n    </tr>\n    <tr>\n      <th>8</th>\n      <td>changeunhye@gmail.com</td>\n      <td>239.92</td>\n      <td>1</td>\n      <td>239.920000</td>\n    </tr>\n    <tr>\n      <th>12</th>\n      <td>marymegandaly@gmail.com</td>\n      <td>236.92</td>\n      <td>1</td>\n      <td>236.920000</td>\n    </tr>\n    <tr>\n      <th>...</th>\n      <td>...</td>\n      <td>...</td>\n      <td>...</td>\n      <td>...</td>\n    </tr>\n    <tr>\n      <th>52381</th>\n      <td>lauren.bartleymavs@gmail.com</td>\n      <td>512.87</td>\n      <td>9</td>\n      <td>56.985556</td>\n    </tr>\n    <tr>\n      <th>52391</th>\n      <td>hodosialexandra@gmail.com</td>\n      <td>159.96</td>\n      <td>4</td>\n      <td>39.990000</td>\n    </tr>\n    <tr>\n      <th>52396</th>\n      <td>jennifer.rankin@me.com</td>\n      <td>1185.28</td>\n      <td>25</td>\n      <td>47.411200</td>\n    </tr>\n    <tr>\n      <th>52400</th>\n      <td>sheanaparedes@gmail.com</td>\n      <td>63.99</td>\n      <td>1</td>\n      <td>63.990000</td>\n    </tr>\n    <tr>\n      <th>52402</th>\n      <td>stigping@gmail.com</td>\n      <td>264.95</td>\n      <td>5</td>\n      <td>52.990000</td>\n    </tr>\n  </tbody>\n</table>\n<p>14006 rows × 4 columns</p>\n</div>"
     },
     "execution_count": 14,
     "metadata": {},
     "output_type": "execute_result"
    }
   ],
   "source": [
    "df"
   ],
   "metadata": {
    "collapsed": false,
    "pycharm": {
     "name": "#%%\n"
    }
   }
  },
  {
   "cell_type": "code",
   "execution_count": 15,
   "outputs": [
    {
     "name": "stderr",
     "output_type": "stream",
     "text": [
      "C:\\Users\\jaesu\\AppData\\Local\\Temp/ipykernel_33268/1685290594.py:1: FutureWarning: Dropping of nuisance columns in DataFrame reductions (with 'numeric_only=None') is deprecated; in a future version this will raise TypeError.  Select only valid columns before calling the reduction.\n",
      "  df_normalized = (df - df.mean()) / df.std()\n"
     ]
    }
   ],
   "source": [
    "df_normalized = (df - df.mean()) / df.std()"
   ],
   "metadata": {
    "collapsed": false,
    "pycharm": {
     "name": "#%%\n"
    }
   }
  },
  {
   "cell_type": "code",
   "execution_count": 16,
   "outputs": [
    {
     "data": {
      "text/plain": "       AvgOrderValue Email  Total Orders  Total Spent\n0           0.874874   NaN     -0.547212    -0.313200\n1           0.866664   NaN     -0.547212    -0.314785\n4           1.341050   NaN     -0.547212    -0.223188\n8           4.465994   NaN     -0.547212     0.380195\n12          4.389025   NaN     -0.547212     0.365333\n...              ...   ...           ...          ...\n52381      -0.227437   NaN      2.108683     1.732357\n52391      -0.663481   NaN      0.448749    -0.015918\n52396      -0.473080   NaN      7.420473     5.063396\n52400      -0.047728   NaN     -0.547212    -0.491342\n52402      -0.329948   NaN      0.780736     0.504190\n\n[14006 rows x 4 columns]",
      "text/html": "<div>\n<style scoped>\n    .dataframe tbody tr th:only-of-type {\n        vertical-align: middle;\n    }\n\n    .dataframe tbody tr th {\n        vertical-align: top;\n    }\n\n    .dataframe thead th {\n        text-align: right;\n    }\n</style>\n<table border=\"1\" class=\"dataframe\">\n  <thead>\n    <tr style=\"text-align: right;\">\n      <th></th>\n      <th>AvgOrderValue</th>\n      <th>Email</th>\n      <th>Total Orders</th>\n      <th>Total Spent</th>\n    </tr>\n  </thead>\n  <tbody>\n    <tr>\n      <th>0</th>\n      <td>0.874874</td>\n      <td>NaN</td>\n      <td>-0.547212</td>\n      <td>-0.313200</td>\n    </tr>\n    <tr>\n      <th>1</th>\n      <td>0.866664</td>\n      <td>NaN</td>\n      <td>-0.547212</td>\n      <td>-0.314785</td>\n    </tr>\n    <tr>\n      <th>4</th>\n      <td>1.341050</td>\n      <td>NaN</td>\n      <td>-0.547212</td>\n      <td>-0.223188</td>\n    </tr>\n    <tr>\n      <th>8</th>\n      <td>4.465994</td>\n      <td>NaN</td>\n      <td>-0.547212</td>\n      <td>0.380195</td>\n    </tr>\n    <tr>\n      <th>12</th>\n      <td>4.389025</td>\n      <td>NaN</td>\n      <td>-0.547212</td>\n      <td>0.365333</td>\n    </tr>\n    <tr>\n      <th>...</th>\n      <td>...</td>\n      <td>...</td>\n      <td>...</td>\n      <td>...</td>\n    </tr>\n    <tr>\n      <th>52381</th>\n      <td>-0.227437</td>\n      <td>NaN</td>\n      <td>2.108683</td>\n      <td>1.732357</td>\n    </tr>\n    <tr>\n      <th>52391</th>\n      <td>-0.663481</td>\n      <td>NaN</td>\n      <td>0.448749</td>\n      <td>-0.015918</td>\n    </tr>\n    <tr>\n      <th>52396</th>\n      <td>-0.473080</td>\n      <td>NaN</td>\n      <td>7.420473</td>\n      <td>5.063396</td>\n    </tr>\n    <tr>\n      <th>52400</th>\n      <td>-0.047728</td>\n      <td>NaN</td>\n      <td>-0.547212</td>\n      <td>-0.491342</td>\n    </tr>\n    <tr>\n      <th>52402</th>\n      <td>-0.329948</td>\n      <td>NaN</td>\n      <td>0.780736</td>\n      <td>0.504190</td>\n    </tr>\n  </tbody>\n</table>\n<p>14006 rows × 4 columns</p>\n</div>"
     },
     "execution_count": 16,
     "metadata": {},
     "output_type": "execute_result"
    }
   ],
   "source": [
    "df_normalized"
   ],
   "metadata": {
    "collapsed": false,
    "pycharm": {
     "name": "#%%\n"
    }
   }
  },
  {
   "cell_type": "code",
   "execution_count": 17,
   "outputs": [
    {
     "data": {
      "text/plain": "                              Email  Total Orders  Total Spent  AvgOrderValue\n0              micahjumaq@gmail.com     -0.547212    -0.313200       0.874874\n1               sillywiener@aol.com     -0.547212    -0.314785       0.866664\n4          manjushapunugu@gmail.com     -0.547212    -0.223188       1.341050\n8             changeunhye@gmail.com     -0.547212     0.380195       4.465994\n12          marymegandaly@gmail.com     -0.547212     0.365333       4.389025\n...                             ...           ...          ...            ...\n52381  lauren.bartleymavs@gmail.com      2.108683     1.732357      -0.227437\n52391     hodosialexandra@gmail.com      0.448749    -0.015918      -0.663481\n52396        jennifer.rankin@me.com      7.420473     5.063396      -0.473080\n52400       sheanaparedes@gmail.com     -0.547212    -0.491342      -0.047728\n52402            stigping@gmail.com      0.780736     0.504190      -0.329948\n\n[14006 rows x 4 columns]",
      "text/html": "<div>\n<style scoped>\n    .dataframe tbody tr th:only-of-type {\n        vertical-align: middle;\n    }\n\n    .dataframe tbody tr th {\n        vertical-align: top;\n    }\n\n    .dataframe thead th {\n        text-align: right;\n    }\n</style>\n<table border=\"1\" class=\"dataframe\">\n  <thead>\n    <tr style=\"text-align: right;\">\n      <th></th>\n      <th>Email</th>\n      <th>Total Orders</th>\n      <th>Total Spent</th>\n      <th>AvgOrderValue</th>\n    </tr>\n  </thead>\n  <tbody>\n    <tr>\n      <th>0</th>\n      <td>micahjumaq@gmail.com</td>\n      <td>-0.547212</td>\n      <td>-0.313200</td>\n      <td>0.874874</td>\n    </tr>\n    <tr>\n      <th>1</th>\n      <td>sillywiener@aol.com</td>\n      <td>-0.547212</td>\n      <td>-0.314785</td>\n      <td>0.866664</td>\n    </tr>\n    <tr>\n      <th>4</th>\n      <td>manjushapunugu@gmail.com</td>\n      <td>-0.547212</td>\n      <td>-0.223188</td>\n      <td>1.341050</td>\n    </tr>\n    <tr>\n      <th>8</th>\n      <td>changeunhye@gmail.com</td>\n      <td>-0.547212</td>\n      <td>0.380195</td>\n      <td>4.465994</td>\n    </tr>\n    <tr>\n      <th>12</th>\n      <td>marymegandaly@gmail.com</td>\n      <td>-0.547212</td>\n      <td>0.365333</td>\n      <td>4.389025</td>\n    </tr>\n    <tr>\n      <th>...</th>\n      <td>...</td>\n      <td>...</td>\n      <td>...</td>\n      <td>...</td>\n    </tr>\n    <tr>\n      <th>52381</th>\n      <td>lauren.bartleymavs@gmail.com</td>\n      <td>2.108683</td>\n      <td>1.732357</td>\n      <td>-0.227437</td>\n    </tr>\n    <tr>\n      <th>52391</th>\n      <td>hodosialexandra@gmail.com</td>\n      <td>0.448749</td>\n      <td>-0.015918</td>\n      <td>-0.663481</td>\n    </tr>\n    <tr>\n      <th>52396</th>\n      <td>jennifer.rankin@me.com</td>\n      <td>7.420473</td>\n      <td>5.063396</td>\n      <td>-0.473080</td>\n    </tr>\n    <tr>\n      <th>52400</th>\n      <td>sheanaparedes@gmail.com</td>\n      <td>-0.547212</td>\n      <td>-0.491342</td>\n      <td>-0.047728</td>\n    </tr>\n    <tr>\n      <th>52402</th>\n      <td>stigping@gmail.com</td>\n      <td>0.780736</td>\n      <td>0.504190</td>\n      <td>-0.329948</td>\n    </tr>\n  </tbody>\n</table>\n<p>14006 rows × 4 columns</p>\n</div>"
     },
     "execution_count": 17,
     "metadata": {},
     "output_type": "execute_result"
    }
   ],
   "source": [
    "df_normalized['Email'] = df['Email']\n",
    "columns_titles = [\"Email\", \"Total Orders\", \"Total Spent\", \"AvgOrderValue\"]\n",
    "df_normalized = df_normalized.reindex(columns=columns_titles)\n",
    "df_normalized"
   ],
   "metadata": {
    "collapsed": false,
    "pycharm": {
     "name": "#%%\n"
    }
   }
  },
  {
   "cell_type": "code",
   "execution_count": 18,
   "outputs": [
    {
     "data": {
      "text/plain": "       Total Orders   Total Spent  AvgOrderValue\ncount  1.400600e+04  1.400600e+04   1.400600e+04\nmean   3.246804e-17 -2.110423e-16  -1.623402e-16\nstd    1.000000e+00  1.000000e+00   1.000000e+00\nmin   -5.472118e-01 -7.950641e-01  -1.672289e+00\n25%   -5.472118e-01 -5.558411e-01  -5.351990e-01\n50%   -5.472118e-01 -3.130514e-01  -3.140412e-01\n75%    1.167619e-01  1.698777e-01   1.310966e-01\nmax    1.505617e+01  1.865224e+01   1.171776e+01",
      "text/html": "<div>\n<style scoped>\n    .dataframe tbody tr th:only-of-type {\n        vertical-align: middle;\n    }\n\n    .dataframe tbody tr th {\n        vertical-align: top;\n    }\n\n    .dataframe thead th {\n        text-align: right;\n    }\n</style>\n<table border=\"1\" class=\"dataframe\">\n  <thead>\n    <tr style=\"text-align: right;\">\n      <th></th>\n      <th>Total Orders</th>\n      <th>Total Spent</th>\n      <th>AvgOrderValue</th>\n    </tr>\n  </thead>\n  <tbody>\n    <tr>\n      <th>count</th>\n      <td>1.400600e+04</td>\n      <td>1.400600e+04</td>\n      <td>1.400600e+04</td>\n    </tr>\n    <tr>\n      <th>mean</th>\n      <td>3.246804e-17</td>\n      <td>-2.110423e-16</td>\n      <td>-1.623402e-16</td>\n    </tr>\n    <tr>\n      <th>std</th>\n      <td>1.000000e+00</td>\n      <td>1.000000e+00</td>\n      <td>1.000000e+00</td>\n    </tr>\n    <tr>\n      <th>min</th>\n      <td>-5.472118e-01</td>\n      <td>-7.950641e-01</td>\n      <td>-1.672289e+00</td>\n    </tr>\n    <tr>\n      <th>25%</th>\n      <td>-5.472118e-01</td>\n      <td>-5.558411e-01</td>\n      <td>-5.351990e-01</td>\n    </tr>\n    <tr>\n      <th>50%</th>\n      <td>-5.472118e-01</td>\n      <td>-3.130514e-01</td>\n      <td>-3.140412e-01</td>\n    </tr>\n    <tr>\n      <th>75%</th>\n      <td>1.167619e-01</td>\n      <td>1.698777e-01</td>\n      <td>1.310966e-01</td>\n    </tr>\n    <tr>\n      <th>max</th>\n      <td>1.505617e+01</td>\n      <td>1.865224e+01</td>\n      <td>1.171776e+01</td>\n    </tr>\n  </tbody>\n</table>\n</div>"
     },
     "execution_count": 18,
     "metadata": {},
     "output_type": "execute_result"
    }
   ],
   "source": [
    "df_normalized.describe()"
   ],
   "metadata": {
    "collapsed": false,
    "pycharm": {
     "name": "#%%\n"
    }
   }
  },
  {
   "cell_type": "markdown",
   "source": [
    "## 3. Customer segmentation by Cluster K-Means Model and Analysis"
   ],
   "metadata": {
    "collapsed": false
   }
  },
  {
   "cell_type": "markdown",
   "source": [
    "#### a. Training our model using cluster k-value = 4"
   ],
   "metadata": {
    "collapsed": false
   }
  },
  {
   "cell_type": "code",
   "execution_count": 21,
   "outputs": [],
   "source": [
    "from sklearn.cluster import KMeans\n",
    "\n",
    "kmeans_settings = {\n",
    "    'algorithm': 'manual',\n",
    "    'copy_x': True,\n",
    "    'init': 'k-means++',\n",
    "    'max_iter': 300,\n",
    "    'n_clusters': 'manual',\n",
    "    'n_init': 10,\n",
    "    'n_jobs': None,\n",
    "    'precompute_distances': 'auto',\n",
    "    'random_state': None,\n",
    "    'tol': 0.0001,\n",
    "    'verbose': 0\n",
    "}\n",
    "\n",
    "kmeans = KMeans(n_clusters = 4, random_state=40).fit(df_normalized[[\"Total Orders\", \"Total Spent\", \"AvgOrderValue\"]])"
   ],
   "metadata": {
    "collapsed": false,
    "pycharm": {
     "name": "#%%\n"
    }
   }
  },
  {
   "cell_type": "code",
   "execution_count": 22,
   "outputs": [
    {
     "data": {
      "text/plain": "KMeans(n_clusters=4, random_state=40)"
     },
     "execution_count": 22,
     "metadata": {},
     "output_type": "execute_result"
    }
   ],
   "source": [
    "kmeans"
   ],
   "metadata": {
    "collapsed": false,
    "pycharm": {
     "name": "#%%\n"
    }
   }
  },
  {
   "cell_type": "code",
   "execution_count": 23,
   "outputs": [],
   "source": [
    "four_cluster_df = df_normalized[[\"Total Orders\", \"Total Spent\", \"AvgOrderValue\"]].copy(deep=True)\n",
    "four_cluster_df['Cluster'] = kmeans.labels_"
   ],
   "metadata": {
    "collapsed": false,
    "pycharm": {
     "name": "#%%\n"
    }
   }
  },
  {
   "cell_type": "code",
   "execution_count": 24,
   "outputs": [
    {
     "data": {
      "text/plain": "    Total Orders  Total Spent  AvgOrderValue  Cluster\n0      -0.547212    -0.313200       0.874874        1\n1      -0.547212    -0.314785       0.866664        1\n4      -0.547212    -0.223188       1.341050        0\n8      -0.547212     0.380195       4.465994        0\n12     -0.547212     0.365333       4.389025        0",
      "text/html": "<div>\n<style scoped>\n    .dataframe tbody tr th:only-of-type {\n        vertical-align: middle;\n    }\n\n    .dataframe tbody tr th {\n        vertical-align: top;\n    }\n\n    .dataframe thead th {\n        text-align: right;\n    }\n</style>\n<table border=\"1\" class=\"dataframe\">\n  <thead>\n    <tr style=\"text-align: right;\">\n      <th></th>\n      <th>Total Orders</th>\n      <th>Total Spent</th>\n      <th>AvgOrderValue</th>\n      <th>Cluster</th>\n    </tr>\n  </thead>\n  <tbody>\n    <tr>\n      <th>0</th>\n      <td>-0.547212</td>\n      <td>-0.313200</td>\n      <td>0.874874</td>\n      <td>1</td>\n    </tr>\n    <tr>\n      <th>1</th>\n      <td>-0.547212</td>\n      <td>-0.314785</td>\n      <td>0.866664</td>\n      <td>1</td>\n    </tr>\n    <tr>\n      <th>4</th>\n      <td>-0.547212</td>\n      <td>-0.223188</td>\n      <td>1.341050</td>\n      <td>0</td>\n    </tr>\n    <tr>\n      <th>8</th>\n      <td>-0.547212</td>\n      <td>0.380195</td>\n      <td>4.465994</td>\n      <td>0</td>\n    </tr>\n    <tr>\n      <th>12</th>\n      <td>-0.547212</td>\n      <td>0.365333</td>\n      <td>4.389025</td>\n      <td>0</td>\n    </tr>\n  </tbody>\n</table>\n</div>"
     },
     "execution_count": 24,
     "metadata": {},
     "output_type": "execute_result"
    }
   ],
   "source": [
    "four_cluster_df.head()"
   ],
   "metadata": {
    "collapsed": false,
    "pycharm": {
     "name": "#%%\n"
    }
   }
  },
  {
   "cell_type": "code",
   "execution_count": 25,
   "outputs": [
    {
     "data": {
      "text/plain": "Cluster\n0    1746\n1    9772\n2     195\n3    2293\nName: Total Spent, dtype: int64"
     },
     "execution_count": 25,
     "metadata": {},
     "output_type": "execute_result"
    }
   ],
   "source": [
    "four_cluster_df.groupby('Cluster').count()['Total Spent']"
   ],
   "metadata": {
    "collapsed": false,
    "pycharm": {
     "name": "#%%\n"
    }
   }
  },
  {
   "cell_type": "code",
   "execution_count": 26,
   "outputs": [
    {
     "data": {
      "text/plain": "<Figure size 432x288 with 1 Axes>",
      "image/png": "[encoded data removed]"
     },
     "metadata": {
      "needs_background": "light"
     },
     "output_type": "display_data"
    },
    {
     "data": {
      "text/plain": "<Figure size 432x288 with 1 Axes>",
      "image/png": "[encoded data removed]"
     },
     "metadata": {
      "needs_background": "light"
     },
     "output_type": "display_data"
    },
    {
     "data": {
      "text/plain": "<Figure size 432x288 with 1 Axes>",
      "image/png": "[encoded data removed]"
     },
     "metadata": {
      "needs_background": "light"
     },
     "output_type": "display_data"
    }
   ],
   "source": [
    "# now we assign each clusters based on their column values, and we visualize the data using scatterplot.\n",
    "\n",
    "plt.scatter(\n",
    "    four_cluster_df.loc[four_cluster_df['Cluster'] == 0]['Total Orders'],\n",
    "    four_cluster_df.loc[four_cluster_df['Cluster'] == 0]['Total Spent'],\n",
    "    c='blue'\n",
    ")\n",
    "\n",
    "plt.scatter(\n",
    "    four_cluster_df.loc[four_cluster_df['Cluster'] == 1]['Total Orders'],\n",
    "    four_cluster_df.loc[four_cluster_df['Cluster'] == 1]['Total Spent'],\n",
    "    c='red'\n",
    ")\n",
    "\n",
    "plt.scatter(\n",
    "    four_cluster_df.loc[four_cluster_df['Cluster'] == 2]['Total Orders'],\n",
    "    four_cluster_df.loc[four_cluster_df['Cluster'] == 2]['Total Spent'],\n",
    "    c='orange'\n",
    ")\n",
    "\n",
    "plt.scatter(\n",
    "    four_cluster_df.loc[four_cluster_df['Cluster'] == 3]['Total Orders'],\n",
    "    four_cluster_df.loc[four_cluster_df['Cluster'] == 3]['Total Spent'],\n",
    "    c='green'\n",
    ")\n",
    "\n",
    "plt.title('Total Spent vs Total Orders Clusters')\n",
    "plt.xlabel('Total Count')\n",
    "plt.ylabel('Total Spent')\n",
    "\n",
    "plt.grid()\n",
    "plt.show()\n",
    "\n",
    "\n",
    "plt.scatter(\n",
    "    four_cluster_df.loc[four_cluster_df['Cluster'] == 0]['Total Orders'],\n",
    "    four_cluster_df.loc[four_cluster_df['Cluster'] == 0]['AvgOrderValue'],\n",
    "    c='blue'\n",
    ")\n",
    "\n",
    "plt.scatter(\n",
    "    four_cluster_df.loc[four_cluster_df['Cluster'] == 1]['Total Orders'],\n",
    "    four_cluster_df.loc[four_cluster_df['Cluster'] == 1]['AvgOrderValue'],\n",
    "    c='red'\n",
    ")\n",
    "\n",
    "plt.scatter(\n",
    "    four_cluster_df.loc[four_cluster_df['Cluster'] == 2]['Total Orders'],\n",
    "    four_cluster_df.loc[four_cluster_df['Cluster'] == 2]['AvgOrderValue'],\n",
    "    c='orange'\n",
    ")\n",
    "plt.scatter(\n",
    "    four_cluster_df.loc[four_cluster_df['Cluster'] == 3]['Total Orders'],\n",
    "    four_cluster_df.loc[four_cluster_df['Cluster'] == 3]['AvgOrderValue'],\n",
    "    c='green'\n",
    ")\n",
    "\n",
    "plt.title('AvgOrderValue vs. Total Orders Clusters')\n",
    "plt.xlabel('Total Orders')\n",
    "plt.ylabel('Avg Order Value')\n",
    "\n",
    "plt.grid()\n",
    "plt.show()\n",
    "\n",
    "\n",
    "plt.scatter(\n",
    "    four_cluster_df.loc[four_cluster_df['Cluster'] == 0]['Total Spent'],\n",
    "    four_cluster_df.loc[four_cluster_df['Cluster'] == 0]['AvgOrderValue'],\n",
    "    c='blue'\n",
    ")\n",
    "\n",
    "plt.scatter(\n",
    "    four_cluster_df.loc[four_cluster_df['Cluster'] == 1]['Total Spent'],\n",
    "    four_cluster_df.loc[four_cluster_df['Cluster'] == 1]['AvgOrderValue'],\n",
    "    c='red'\n",
    ")\n",
    "\n",
    "plt.scatter(\n",
    "    four_cluster_df.loc[four_cluster_df['Cluster'] == 2]['Total Spent'],\n",
    "    four_cluster_df.loc[four_cluster_df['Cluster'] == 2]['AvgOrderValue'],\n",
    "    c='orange'\n",
    ")\n",
    "\n",
    "plt.scatter(\n",
    "    four_cluster_df.loc[four_cluster_df['Cluster'] == 3]['Total Spent'],\n",
    "    four_cluster_df.loc[four_cluster_df['Cluster'] == 3]['AvgOrderValue'],\n",
    "    c='green'\n",
    ")\n",
    "\n",
    "plt.title('AvgOrderValue vs. Total Spent Clusters')\n",
    "plt.xlabel('Total Spent')\n",
    "plt.ylabel('Avg Order Value')\n",
    "\n",
    "plt.grid()\n",
    "plt.show()"
   ],
   "metadata": {
    "collapsed": false,
    "pycharm": {
     "name": "#%%\n"
    }
   }
  },
  {
   "cell_type": "markdown",
   "source": [
    "#### b. Calculating the optimal value for k to double check accuracy"
   ],
   "metadata": {
    "collapsed": false
   }
  },
  {
   "cell_type": "markdown",
   "source": [
    "##### 1. Elbow point"
   ],
   "metadata": {
    "collapsed": false
   }
  },
  {
   "cell_type": "code",
   "execution_count": 27,
   "outputs": [
    {
     "data": {
      "text/plain": "<Figure size 432x288 with 1 Axes>",
      "image/png": "[encoded data removed]"
     },
     "metadata": {},
     "output_type": "display_data"
    }
   ],
   "source": [
    "kmeans_kwargs = {\n",
    "    \"init\": \"random\",\n",
    "    \"n_init\": 10,\n",
    "    \"max_iter\": 300,\n",
    "    \"random_state\": 42,\n",
    "}\n",
    "\n",
    "sse = []\n",
    "for k in range(1, 11):\n",
    "  kmeans = KMeans(n_clusters=k, **kmeans_kwargs)\n",
    "  kmeans.fit(df_normalized[['Total Spent', 'Total Orders', 'AvgOrderValue']])\n",
    "  sse.append(kmeans.inertia_)\n",
    "\n",
    "plt.style.use(\"fivethirtyeight\")\n",
    "plt.plot(range(1, 11), sse)\n",
    "plt.xticks(range(1, 11))\n",
    "plt.xlabel(\"Number of Clusters\")\n",
    "plt.ylabel(\"SSE\")\n",
    "plt.show()"
   ],
   "metadata": {
    "collapsed": false,
    "pycharm": {
     "name": "#%%\n"
    }
   }
  },
  {
   "cell_type": "code",
   "execution_count": 28,
   "outputs": [
    {
     "name": "stdout",
     "output_type": "stream",
     "text": [
      "Collecting kneed\n",
      "  Downloading kneed-0.7.0-py2.py3-none-any.whl (9.4 kB)\n",
      "Requirement already satisfied: scipy in c:\\users\\jaesu\\pycharmprojects\\analysis\\venv\\lib\\site-packages (from kneed) (1.7.1)\n",
      "Requirement already satisfied: matplotlib in c:\\users\\jaesu\\pycharmprojects\\analysis\\venv\\lib\\site-packages (from kneed) (3.4.3)\n",
      "Requirement already satisfied: numpy>=1.14.2 in c:\\users\\jaesu\\pycharmprojects\\analysis\\venv\\lib\\site-packages (from kneed) (1.21.3)\n",
      "Requirement already satisfied: pyparsing>=2.2.1 in c:\\users\\jaesu\\pycharmprojects\\analysis\\venv\\lib\\site-packages (from matplotlib->kneed) (3.0.1)\n",
      "Requirement already satisfied: python-dateutil>=2.7 in c:\\users\\jaesu\\pycharmprojects\\analysis\\venv\\lib\\site-packages (from matplotlib->kneed) (2.8.2)\n",
      "Requirement already satisfied: cycler>=0.10 in c:\\users\\jaesu\\pycharmprojects\\analysis\\venv\\lib\\site-packages (from matplotlib->kneed) (0.10.0)\n",
      "Requirement already satisfied: pillow>=6.2.0 in c:\\users\\jaesu\\pycharmprojects\\analysis\\venv\\lib\\site-packages (from matplotlib->kneed) (8.4.0)\n",
      "Requirement already satisfied: kiwisolver>=1.0.1 in c:\\users\\jaesu\\pycharmprojects\\analysis\\venv\\lib\\site-packages (from matplotlib->kneed) (1.3.2)\n",
      "Requirement already satisfied: six in c:\\users\\jaesu\\pycharmprojects\\analysis\\venv\\lib\\site-packages (from cycler>=0.10->matplotlib->kneed) (1.16.0)\n",
      "Installing collected packages: kneed\n",
      "Successfully installed kneed-0.7.0\n",
      "Best value for k: 4\n"
     ]
    }
   ],
   "source": [
    "!pip install kneed\n",
    "from kneed import KneeLocator\n",
    "\n",
    "elbow = KneeLocator(\n",
    "    range (1, 11), sse, curve='convex', direction='decreasing'\n",
    ")\n",
    "\n",
    "print(\"Best value for k: \" + str(elbow.elbow))"
   ],
   "metadata": {
    "collapsed": false,
    "pycharm": {
     "name": "#%%\n"
    }
   }
  },
  {
   "cell_type": "markdown",
   "source": [
    "##### 2. Silhouette score"
   ],
   "metadata": {
    "collapsed": false
   }
  },
  {
   "cell_type": "code",
   "execution_count": 29,
   "outputs": [
    {
     "name": "stdout",
     "output_type": "stream",
     "text": [
      "Silhouette score for 2 Clusters: 0.5793\n",
      "Silhouette score for 3 Clusters: 0.5954\n",
      "Silhouette score for 4 Clusters: 0.5955\n",
      "Silhouette score for 5 Clusters: 0.5522\n",
      "Silhouette score for 6 Clusters: 0.5626\n",
      "Silhouette score for 7 Clusters: 0.5067\n",
      "Silhouette score for 8 Clusters: 0.4669\n",
      "Silhouette score for 9 Clusters: 0.4675\n",
      "Silhouette score for 10 Clusters: 0.4712\n",
      "Silhouette score for 11 Clusters: 0.4685\n"
     ]
    }
   ],
   "source": [
    "from sklearn.metrics import silhouette_score\n",
    "\n",
    "for n_cluster in range(2, 12):\n",
    "  kmeans = KMeans(n_clusters=n_cluster).fit(\n",
    "    df_normalized[['Total Spent', 'Total Orders', 'AvgOrderValue']]\n",
    "  )\n",
    "  silhouette_avg = silhouette_score(\n",
    "      df_normalized[['Total Spent', 'Total Orders', 'AvgOrderValue']],\n",
    "      kmeans.labels_\n",
    "  )\n",
    "  print('Silhouette score for %i Clusters: %0.4f' % (n_cluster, silhouette_avg))"
   ],
   "metadata": {
    "collapsed": false,
    "pycharm": {
     "name": "#%%\n"
    }
   }
  },
  {
   "cell_type": "code",
   "execution_count": 30,
   "outputs": [
    {
     "data": {
      "text/plain": "0.46845580694000455"
     },
     "execution_count": 30,
     "metadata": {},
     "output_type": "execute_result"
    }
   ],
   "source": [
    "silhouette_score(df_normalized[['Total Spent', 'Total Orders', 'AvgOrderValue']], kmeans.labels_)"
   ],
   "metadata": {
    "collapsed": false,
    "pycharm": {
     "name": "#%%\n"
    }
   }
  },
  {
   "cell_type": "markdown",
   "source": [
    "##### Strictly score-wise, k value of 3 has a slightly better silhouette score than the k value of 4."
   ],
   "metadata": {
    "collapsed": false
   }
  },
  {
   "cell_type": "code",
   "execution_count": 31,
   "outputs": [],
   "source": [
    "kmeans = KMeans(n_clusters = 3).fit(df_normalized[[\"Total Orders\", \"Total Spent\", \"AvgOrderValue\"]])\n",
    "\n",
    "three_cluster_df = df_normalized[[\"Total Orders\", \"Total Spent\", \"AvgOrderValue\"]].copy(deep=True)\n",
    "three_cluster_df['Cluster'] = kmeans.labels_"
   ],
   "metadata": {
    "collapsed": false,
    "pycharm": {
     "name": "#%%\n"
    }
   }
  },
  {
   "cell_type": "code",
   "execution_count": 32,
   "outputs": [
    {
     "data": {
      "text/plain": "Cluster\n0    10342\n1     1780\n2     1884\nName: Total Spent, dtype: int64"
     },
     "execution_count": 32,
     "metadata": {},
     "output_type": "execute_result"
    }
   ],
   "source": [
    "three_cluster_df.groupby('Cluster').count()['Total Spent']"
   ],
   "metadata": {
    "collapsed": false,
    "pycharm": {
     "name": "#%%\n"
    }
   }
  },
  {
   "cell_type": "markdown",
   "source": [
    "##### Conclusion: result shows that, although the score for k=3 was slightly better, it seems like k=4 is more detailed"
   ],
   "metadata": {
    "collapsed": false
   }
  },
  {
   "cell_type": "markdown",
   "source": [
    "#### c. Interpreting the customer segmentations"
   ],
   "metadata": {
    "collapsed": false
   }
  },
  {
   "cell_type": "code",
   "execution_count": 33,
   "outputs": [
    {
     "data": {
      "text/plain": "Email            13984\nTotal Orders     14006\nTotal Spent      14006\nAvgOrderValue    14006\ndtype: int64"
     },
     "execution_count": 33,
     "metadata": {},
     "output_type": "execute_result"
    }
   ],
   "source": [
    "df_normalized.count()"
   ],
   "metadata": {
    "collapsed": false,
    "pycharm": {
     "name": "#%%\n"
    }
   }
  },
  {
   "cell_type": "code",
   "execution_count": 34,
   "outputs": [],
   "source": [
    "df_normalized = df_normalized.set_index('Email')"
   ],
   "metadata": {
    "collapsed": false,
    "pycharm": {
     "name": "#%%\n"
    }
   }
  },
  {
   "cell_type": "code",
   "execution_count": 35,
   "outputs": [
    {
     "data": {
      "text/plain": "Total Orders     14006\nTotal Spent      14006\nAvgOrderValue    14006\ndtype: int64"
     },
     "execution_count": 35,
     "metadata": {},
     "output_type": "execute_result"
    }
   ],
   "source": [
    "df_normalized.count()"
   ],
   "metadata": {
    "collapsed": false,
    "pycharm": {
     "name": "#%%\n"
    }
   }
  },
  {
   "cell_type": "code",
   "execution_count": 36,
   "outputs": [],
   "source": [
    "X = df_normalized[['Total Spent', 'Total Orders', 'AvgOrderValue']]\n",
    "kmeans = KMeans(n_clusters=4, random_state=40).fit(X)"
   ],
   "metadata": {
    "collapsed": false,
    "pycharm": {
     "name": "#%%\n"
    }
   }
  },
  {
   "cell_type": "code",
   "execution_count": 37,
   "outputs": [
    {
     "data": {
      "text/plain": "array([1, 1, 0, ..., 2, 1, 3])"
     },
     "execution_count": 37,
     "metadata": {},
     "output_type": "execute_result"
    }
   ],
   "source": [
    "kmeans.labels_"
   ],
   "metadata": {
    "collapsed": false,
    "pycharm": {
     "name": "#%%\n"
    }
   }
  },
  {
   "cell_type": "code",
   "execution_count": 38,
   "outputs": [],
   "source": [
    "cluster_analysis_df = X.copy(deep=True)\n",
    "cluster_analysis_df['Cluster'] = kmeans.labels_"
   ],
   "metadata": {
    "collapsed": false,
    "pycharm": {
     "name": "#%%\n"
    }
   }
  },
  {
   "cell_type": "code",
   "execution_count": 39,
   "outputs": [
    {
     "data": {
      "text/plain": "                            Total Spent  Total Orders  AvgOrderValue  Cluster\nEmail                                                                        \nmicahjumaq@gmail.com          -0.313200     -0.547212       0.874874        1\nsillywiener@aol.com           -0.314785     -0.547212       0.866664        1\nmanjushapunugu@gmail.com      -0.223188     -0.547212       1.341050        0\nchangeunhye@gmail.com          0.380195     -0.547212       4.465994        0\nmarymegandaly@gmail.com        0.365333     -0.547212       4.389025        0\ndeanreymangaoang@gmail.com    -0.359073     -0.547212       0.637296        1\nrelutes2015@gmail.com         -0.328012     -0.547212       0.798162        1\nmelissa.juan6112@gmail.com    -0.362689     -0.547212       0.618567        1\nsnreddy24@gmail.com           -0.288232     -0.547212       1.004182        0\npogicm4@gmail.com             -0.278473     -0.547212       1.054725        0\njoshua.lee.0327@gmail.com     -0.362689     -0.547212       0.618567        1\ne.hartsock@mchsi.com          -0.342725     -0.547212       0.721962        1\nthenicbaron@gmail.com         -0.400735     -0.547212       0.421527        1\nkiaonfire@hotmail.com         -0.080269     -0.547212       2.081236        0\nnatsumi830@hotmail.com         0.096981     -0.547212       2.999221        0",
      "text/html": "<div>\n<style scoped>\n    .dataframe tbody tr th:only-of-type {\n        vertical-align: middle;\n    }\n\n    .dataframe tbody tr th {\n        vertical-align: top;\n    }\n\n    .dataframe thead th {\n        text-align: right;\n    }\n</style>\n<table border=\"1\" class=\"dataframe\">\n  <thead>\n    <tr style=\"text-align: right;\">\n      <th></th>\n      <th>Total Spent</th>\n      <th>Total Orders</th>\n      <th>AvgOrderValue</th>\n      <th>Cluster</th>\n    </tr>\n    <tr>\n      <th>Email</th>\n      <th></th>\n      <th></th>\n      <th></th>\n      <th></th>\n    </tr>\n  </thead>\n  <tbody>\n    <tr>\n      <th>micahjumaq@gmail.com</th>\n      <td>-0.313200</td>\n      <td>-0.547212</td>\n      <td>0.874874</td>\n      <td>1</td>\n    </tr>\n    <tr>\n      <th>sillywiener@aol.com</th>\n      <td>-0.314785</td>\n      <td>-0.547212</td>\n      <td>0.866664</td>\n      <td>1</td>\n    </tr>\n    <tr>\n      <th>manjushapunugu@gmail.com</th>\n      <td>-0.223188</td>\n      <td>-0.547212</td>\n      <td>1.341050</td>\n      <td>0</td>\n    </tr>\n    <tr>\n      <th>changeunhye@gmail.com</th>\n      <td>0.380195</td>\n      <td>-0.547212</td>\n      <td>4.465994</td>\n      <td>0</td>\n    </tr>\n    <tr>\n      <th>marymegandaly@gmail.com</th>\n      <td>0.365333</td>\n      <td>-0.547212</td>\n      <td>4.389025</td>\n      <td>0</td>\n    </tr>\n    <tr>\n      <th>deanreymangaoang@gmail.com</th>\n      <td>-0.359073</td>\n      <td>-0.547212</td>\n      <td>0.637296</td>\n      <td>1</td>\n    </tr>\n    <tr>\n      <th>relutes2015@gmail.com</th>\n      <td>-0.328012</td>\n      <td>-0.547212</td>\n      <td>0.798162</td>\n      <td>1</td>\n    </tr>\n    <tr>\n      <th>melissa.juan6112@gmail.com</th>\n      <td>-0.362689</td>\n      <td>-0.547212</td>\n      <td>0.618567</td>\n      <td>1</td>\n    </tr>\n    <tr>\n      <th>snreddy24@gmail.com</th>\n      <td>-0.288232</td>\n      <td>-0.547212</td>\n      <td>1.004182</td>\n      <td>0</td>\n    </tr>\n    <tr>\n      <th>pogicm4@gmail.com</th>\n      <td>-0.278473</td>\n      <td>-0.547212</td>\n      <td>1.054725</td>\n      <td>0</td>\n    </tr>\n    <tr>\n      <th>joshua.lee.0327@gmail.com</th>\n      <td>-0.362689</td>\n      <td>-0.547212</td>\n      <td>0.618567</td>\n      <td>1</td>\n    </tr>\n    <tr>\n      <th>e.hartsock@mchsi.com</th>\n      <td>-0.342725</td>\n      <td>-0.547212</td>\n      <td>0.721962</td>\n      <td>1</td>\n    </tr>\n    <tr>\n      <th>thenicbaron@gmail.com</th>\n      <td>-0.400735</td>\n      <td>-0.547212</td>\n      <td>0.421527</td>\n      <td>1</td>\n    </tr>\n    <tr>\n      <th>kiaonfire@hotmail.com</th>\n      <td>-0.080269</td>\n      <td>-0.547212</td>\n      <td>2.081236</td>\n      <td>0</td>\n    </tr>\n    <tr>\n      <th>natsumi830@hotmail.com</th>\n      <td>0.096981</td>\n      <td>-0.547212</td>\n      <td>2.999221</td>\n      <td>0</td>\n    </tr>\n  </tbody>\n</table>\n</div>"
     },
     "execution_count": 39,
     "metadata": {},
     "output_type": "execute_result"
    }
   ],
   "source": [
    "cluster_analysis_df.head(15)"
   ],
   "metadata": {
    "collapsed": false,
    "pycharm": {
     "name": "#%%\n"
    }
   }
  },
  {
   "cell_type": "code",
   "execution_count": 40,
   "outputs": [
    {
     "data": {
      "text/plain": "array([[ 0.05844737, -0.4804722 ,  2.12323631],\n       [-0.38337254, -0.33083602, -0.3410604 ],\n       [ 5.613396  ,  5.26170712,  0.15524285],\n       [ 1.11192983,  1.32830405, -0.17645039]])"
     },
     "execution_count": 40,
     "metadata": {},
     "output_type": "execute_result"
    }
   ],
   "source": [
    "kmeans.cluster_centers_"
   ],
   "metadata": {
    "collapsed": false,
    "pycharm": {
     "name": "#%%\n"
    }
   }
  },
  {
   "cell_type": "code",
   "execution_count": 41,
   "outputs": [
    {
     "data": {
      "text/plain": "Cluster\n0    1746\n1    9772\n2     195\n3    2293\nName: Total Spent, dtype: int64"
     },
     "execution_count": 41,
     "metadata": {},
     "output_type": "execute_result"
    }
   ],
   "source": [
    "cluster_analysis_df.groupby('Cluster').count()['Total Spent']"
   ],
   "metadata": {
    "collapsed": false,
    "pycharm": {
     "name": "#%%\n"
    }
   }
  },
  {
   "cell_type": "markdown",
   "source": [
    "##### 1. look at the cluster with the highest total spent"
   ],
   "metadata": {
    "collapsed": false
   }
  },
  {
   "cell_type": "code",
   "execution_count": 42,
   "outputs": [
    {
     "data": {
      "text/plain": "                               Total Spent  Total Orders  AvgOrderValue  \\\nEmail                                                                     \ngonzalezjocelyn1986@gmail.com     3.475479      3.768617      -0.104759   \njoeandangelina300@gmail.com      10.205574      7.752460       0.504426   \nkadinorton@gmail.com              5.501517      6.092526      -0.133335   \nzeusandjen@gmail.com              5.079100      3.104644       0.851463   \nwood.emily.marie@gmail.com        8.846180      8.748420       0.034699   \n\n                               Cluster  \nEmail                                   \ngonzalezjocelyn1986@gmail.com        2  \njoeandangelina300@gmail.com          2  \nkadinorton@gmail.com                 2  \nzeusandjen@gmail.com                 2  \nwood.emily.marie@gmail.com           2  ",
      "text/html": "<div>\n<style scoped>\n    .dataframe tbody tr th:only-of-type {\n        vertical-align: middle;\n    }\n\n    .dataframe tbody tr th {\n        vertical-align: top;\n    }\n\n    .dataframe thead th {\n        text-align: right;\n    }\n</style>\n<table border=\"1\" class=\"dataframe\">\n  <thead>\n    <tr style=\"text-align: right;\">\n      <th></th>\n      <th>Total Spent</th>\n      <th>Total Orders</th>\n      <th>AvgOrderValue</th>\n      <th>Cluster</th>\n    </tr>\n    <tr>\n      <th>Email</th>\n      <th></th>\n      <th></th>\n      <th></th>\n      <th></th>\n    </tr>\n  </thead>\n  <tbody>\n    <tr>\n      <th>gonzalezjocelyn1986@gmail.com</th>\n      <td>3.475479</td>\n      <td>3.768617</td>\n      <td>-0.104759</td>\n      <td>2</td>\n    </tr>\n    <tr>\n      <th>joeandangelina300@gmail.com</th>\n      <td>10.205574</td>\n      <td>7.752460</td>\n      <td>0.504426</td>\n      <td>2</td>\n    </tr>\n    <tr>\n      <th>kadinorton@gmail.com</th>\n      <td>5.501517</td>\n      <td>6.092526</td>\n      <td>-0.133335</td>\n      <td>2</td>\n    </tr>\n    <tr>\n      <th>zeusandjen@gmail.com</th>\n      <td>5.079100</td>\n      <td>3.104644</td>\n      <td>0.851463</td>\n      <td>2</td>\n    </tr>\n    <tr>\n      <th>wood.emily.marie@gmail.com</th>\n      <td>8.846180</td>\n      <td>8.748420</td>\n      <td>0.034699</td>\n      <td>2</td>\n    </tr>\n  </tbody>\n</table>\n</div>"
     },
     "execution_count": 42,
     "metadata": {},
     "output_type": "execute_result"
    }
   ],
   "source": [
    "high_value_cluster_0 = cluster_analysis_df.loc[cluster_analysis_df['Cluster'] == 0]\n",
    "high_value_cluster_1 = cluster_analysis_df.loc[cluster_analysis_df['Cluster'] == 1]\n",
    "high_value_cluster_2 = cluster_analysis_df.loc[cluster_analysis_df['Cluster'] == 2]\n",
    "high_value_cluster_3 = cluster_analysis_df.loc[cluster_analysis_df['Cluster'] == 3]\n",
    "\n",
    "high_value_cluster = cluster_analysis_df.loc[cluster_analysis_df['Cluster'] == 2]\n",
    "high_value_cluster.head()"
   ],
   "metadata": {
    "collapsed": false,
    "pycharm": {
     "name": "#%%\n"
    }
   }
  },
  {
   "cell_type": "code",
   "execution_count": 43,
   "outputs": [
    {
     "data": {
      "text/plain": "       Total Spent  Total Orders  AvgOrderValue  Cluster\ncount  1746.000000   1746.000000    1746.000000   1746.0\nmean      0.058447     -0.480472       2.123236      0.0\nstd       0.418082      0.169791       1.307626      0.0\nmin      -0.306166     -0.547212       0.789781      0.0\n25%      -0.183891     -0.547212       1.413979      0.0\n50%      -0.097434     -0.547212       1.756683      0.0\n75%       0.202177     -0.547212       2.391357      0.0\nmax       3.658773      0.780736      11.717763      0.0",
      "text/html": "<div>\n<style scoped>\n    .dataframe tbody tr th:only-of-type {\n        vertical-align: middle;\n    }\n\n    .dataframe tbody tr th {\n        vertical-align: top;\n    }\n\n    .dataframe thead th {\n        text-align: right;\n    }\n</style>\n<table border=\"1\" class=\"dataframe\">\n  <thead>\n    <tr style=\"text-align: right;\">\n      <th></th>\n      <th>Total Spent</th>\n      <th>Total Orders</th>\n      <th>AvgOrderValue</th>\n      <th>Cluster</th>\n    </tr>\n  </thead>\n  <tbody>\n    <tr>\n      <th>count</th>\n      <td>1746.000000</td>\n      <td>1746.000000</td>\n      <td>1746.000000</td>\n      <td>1746.0</td>\n    </tr>\n    <tr>\n      <th>mean</th>\n      <td>0.058447</td>\n      <td>-0.480472</td>\n      <td>2.123236</td>\n      <td>0.0</td>\n    </tr>\n    <tr>\n      <th>std</th>\n      <td>0.418082</td>\n      <td>0.169791</td>\n      <td>1.307626</td>\n      <td>0.0</td>\n    </tr>\n    <tr>\n      <th>min</th>\n      <td>-0.306166</td>\n      <td>-0.547212</td>\n      <td>0.789781</td>\n      <td>0.0</td>\n    </tr>\n    <tr>\n      <th>25%</th>\n      <td>-0.183891</td>\n      <td>-0.547212</td>\n      <td>1.413979</td>\n      <td>0.0</td>\n    </tr>\n    <tr>\n      <th>50%</th>\n      <td>-0.097434</td>\n      <td>-0.547212</td>\n      <td>1.756683</td>\n      <td>0.0</td>\n    </tr>\n    <tr>\n      <th>75%</th>\n      <td>0.202177</td>\n      <td>-0.547212</td>\n      <td>2.391357</td>\n      <td>0.0</td>\n    </tr>\n    <tr>\n      <th>max</th>\n      <td>3.658773</td>\n      <td>0.780736</td>\n      <td>11.717763</td>\n      <td>0.0</td>\n    </tr>\n  </tbody>\n</table>\n</div>"
     },
     "execution_count": 43,
     "metadata": {},
     "output_type": "execute_result"
    }
   ],
   "source": [
    "high_value_cluster_0.describe()"
   ],
   "metadata": {
    "collapsed": false,
    "pycharm": {
     "name": "#%%\n"
    }
   }
  },
  {
   "cell_type": "code",
   "execution_count": 44,
   "outputs": [
    {
     "data": {
      "text/plain": "       Total Spent  Total Orders  AvgOrderValue  Cluster\ncount  9772.000000   9772.000000    9772.000000   9772.0\nmean     -0.383373     -0.330836      -0.341060      1.0\nstd       0.263642      0.324338       0.395428      0.0\nmin      -0.795064     -0.547212      -1.672289      1.0\n25%      -0.580561     -0.547212      -0.595010      1.0\n50%      -0.486437     -0.547212      -0.406917      1.0\n75%      -0.266274     -0.215225      -0.150610      1.0\nmax       0.620408      0.780736       0.901814      1.0",
      "text/html": "<div>\n<style scoped>\n    .dataframe tbody tr th:only-of-type {\n        vertical-align: middle;\n    }\n\n    .dataframe tbody tr th {\n        vertical-align: top;\n    }\n\n    .dataframe thead th {\n        text-align: right;\n    }\n</style>\n<table border=\"1\" class=\"dataframe\">\n  <thead>\n    <tr style=\"text-align: right;\">\n      <th></th>\n      <th>Total Spent</th>\n      <th>Total Orders</th>\n      <th>AvgOrderValue</th>\n      <th>Cluster</th>\n    </tr>\n  </thead>\n  <tbody>\n    <tr>\n      <th>count</th>\n      <td>9772.000000</td>\n      <td>9772.000000</td>\n      <td>9772.000000</td>\n      <td>9772.0</td>\n    </tr>\n    <tr>\n      <th>mean</th>\n      <td>-0.383373</td>\n      <td>-0.330836</td>\n      <td>-0.341060</td>\n      <td>1.0</td>\n    </tr>\n    <tr>\n      <th>std</th>\n      <td>0.263642</td>\n      <td>0.324338</td>\n      <td>0.395428</td>\n      <td>0.0</td>\n    </tr>\n    <tr>\n      <th>min</th>\n      <td>-0.795064</td>\n      <td>-0.547212</td>\n      <td>-1.672289</td>\n      <td>1.0</td>\n    </tr>\n    <tr>\n      <th>25%</th>\n      <td>-0.580561</td>\n      <td>-0.547212</td>\n      <td>-0.595010</td>\n      <td>1.0</td>\n    </tr>\n    <tr>\n      <th>50%</th>\n      <td>-0.486437</td>\n      <td>-0.547212</td>\n      <td>-0.406917</td>\n      <td>1.0</td>\n    </tr>\n    <tr>\n      <th>75%</th>\n      <td>-0.266274</td>\n      <td>-0.215225</td>\n      <td>-0.150610</td>\n      <td>1.0</td>\n    </tr>\n    <tr>\n      <th>max</th>\n      <td>0.620408</td>\n      <td>0.780736</td>\n      <td>0.901814</td>\n      <td>1.0</td>\n    </tr>\n  </tbody>\n</table>\n</div>"
     },
     "execution_count": 44,
     "metadata": {},
     "output_type": "execute_result"
    }
   ],
   "source": [
    "high_value_cluster_1.describe()"
   ],
   "metadata": {
    "collapsed": false,
    "pycharm": {
     "name": "#%%\n"
    }
   }
  },
  {
   "cell_type": "code",
   "execution_count": 45,
   "outputs": [
    {
     "data": {
      "text/plain": "       Total Spent  Total Orders  AvgOrderValue  Cluster\ncount   195.000000    195.000000     195.000000    195.0\nmean      5.613396      5.261707       0.155243      2.0\nstd       2.773298      2.222279       0.623454      0.0\nmin       2.143727      1.444709      -0.961437      2.0\n25%       3.650078      3.768617      -0.210830      2.0\n50%       4.722272      4.764578       0.033932      2.0\n75%       6.734043      6.092526       0.335074      2.0\nmax      18.652239     15.056171       3.718698      2.0",
      "text/html": "<div>\n<style scoped>\n    .dataframe tbody tr th:only-of-type {\n        vertical-align: middle;\n    }\n\n    .dataframe tbody tr th {\n        vertical-align: top;\n    }\n\n    .dataframe thead th {\n        text-align: right;\n    }\n</style>\n<table border=\"1\" class=\"dataframe\">\n  <thead>\n    <tr style=\"text-align: right;\">\n      <th></th>\n      <th>Total Spent</th>\n      <th>Total Orders</th>\n      <th>AvgOrderValue</th>\n      <th>Cluster</th>\n    </tr>\n  </thead>\n  <tbody>\n    <tr>\n      <th>count</th>\n      <td>195.000000</td>\n      <td>195.000000</td>\n      <td>195.000000</td>\n      <td>195.0</td>\n    </tr>\n    <tr>\n      <th>mean</th>\n      <td>5.613396</td>\n      <td>5.261707</td>\n      <td>0.155243</td>\n      <td>2.0</td>\n    </tr>\n    <tr>\n      <th>std</th>\n      <td>2.773298</td>\n      <td>2.222279</td>\n      <td>0.623454</td>\n      <td>0.0</td>\n    </tr>\n    <tr>\n      <th>min</th>\n      <td>2.143727</td>\n      <td>1.444709</td>\n      <td>-0.961437</td>\n      <td>2.0</td>\n    </tr>\n    <tr>\n      <th>25%</th>\n      <td>3.650078</td>\n      <td>3.768617</td>\n      <td>-0.210830</td>\n      <td>2.0</td>\n    </tr>\n    <tr>\n      <th>50%</th>\n      <td>4.722272</td>\n      <td>4.764578</td>\n      <td>0.033932</td>\n      <td>2.0</td>\n    </tr>\n    <tr>\n      <th>75%</th>\n      <td>6.734043</td>\n      <td>6.092526</td>\n      <td>0.335074</td>\n      <td>2.0</td>\n    </tr>\n    <tr>\n      <th>max</th>\n      <td>18.652239</td>\n      <td>15.056171</td>\n      <td>3.718698</td>\n      <td>2.0</td>\n    </tr>\n  </tbody>\n</table>\n</div>"
     },
     "execution_count": 45,
     "metadata": {},
     "output_type": "execute_result"
    }
   ],
   "source": [
    "high_value_cluster_2.describe()"
   ],
   "metadata": {
    "collapsed": false,
    "pycharm": {
     "name": "#%%\n"
    }
   }
  },
  {
   "cell_type": "code",
   "execution_count": 46,
   "outputs": [
    {
     "data": {
      "text/plain": "       Total Spent  Total Orders  AvgOrderValue  Cluster\ncount  2293.000000   2293.000000    2293.000000   2293.0\nmean      1.111930      1.328304      -0.176450      3.0\nstd       0.694976      0.677385       0.381756      0.0\nmin      -0.050595      0.448749      -1.035412      3.0\n25%       0.608024      0.780736      -0.424021      3.0\n50%       0.957124      1.112723      -0.260383      3.0\n75%       1.436362      1.776696       0.011820      3.0\nmax       4.143906      4.432591       2.026118      3.0",
      "text/html": "<div>\n<style scoped>\n    .dataframe tbody tr th:only-of-type {\n        vertical-align: middle;\n    }\n\n    .dataframe tbody tr th {\n        vertical-align: top;\n    }\n\n    .dataframe thead th {\n        text-align: right;\n    }\n</style>\n<table border=\"1\" class=\"dataframe\">\n  <thead>\n    <tr style=\"text-align: right;\">\n      <th></th>\n      <th>Total Spent</th>\n      <th>Total Orders</th>\n      <th>AvgOrderValue</th>\n      <th>Cluster</th>\n    </tr>\n  </thead>\n  <tbody>\n    <tr>\n      <th>count</th>\n      <td>2293.000000</td>\n      <td>2293.000000</td>\n      <td>2293.000000</td>\n      <td>2293.0</td>\n    </tr>\n    <tr>\n      <th>mean</th>\n      <td>1.111930</td>\n      <td>1.328304</td>\n      <td>-0.176450</td>\n      <td>3.0</td>\n    </tr>\n    <tr>\n      <th>std</th>\n      <td>0.694976</td>\n      <td>0.677385</td>\n      <td>0.381756</td>\n      <td>0.0</td>\n    </tr>\n    <tr>\n      <th>min</th>\n      <td>-0.050595</td>\n      <td>0.448749</td>\n      <td>-1.035412</td>\n      <td>3.0</td>\n    </tr>\n    <tr>\n      <th>25%</th>\n      <td>0.608024</td>\n      <td>0.780736</td>\n      <td>-0.424021</td>\n      <td>3.0</td>\n    </tr>\n    <tr>\n      <th>50%</th>\n      <td>0.957124</td>\n      <td>1.112723</td>\n      <td>-0.260383</td>\n      <td>3.0</td>\n    </tr>\n    <tr>\n      <th>75%</th>\n      <td>1.436362</td>\n      <td>1.776696</td>\n      <td>0.011820</td>\n      <td>3.0</td>\n    </tr>\n    <tr>\n      <th>max</th>\n      <td>4.143906</td>\n      <td>4.432591</td>\n      <td>2.026118</td>\n      <td>3.0</td>\n    </tr>\n  </tbody>\n</table>\n</div>"
     },
     "execution_count": 46,
     "metadata": {},
     "output_type": "execute_result"
    }
   ],
   "source": [
    "high_value_cluster_3.describe()"
   ],
   "metadata": {
    "collapsed": false,
    "pycharm": {
     "name": "#%%\n"
    }
   }
  },
  {
   "cell_type": "code",
   "execution_count": 47,
   "outputs": [
    {
     "data": {
      "text/plain": "                                  Total Spent  Total Orders  AvgOrderValue  \\\nEmail                                                                        \ngonzalezjocelyn1986@gmail.com        3.475479      3.768617      -0.104759   \njoeandangelina300@gmail.com         10.205574      7.752460       0.504426   \nkadinorton@gmail.com                 5.501517      6.092526      -0.133335   \nzeusandjen@gmail.com                 5.079100      3.104644       0.851463   \nwood.emily.marie@gmail.com           8.846180      8.748420       0.034699   \n...                                       ...           ...            ...   \nm_elle79@hotmail.com                 9.484636      8.748420       0.148720   \nheidibb93@hotmail.com                8.599576      7.088486       0.340688   \njosephine.sivertsson@hotmail.com    18.652239     15.056171       0.410254   \nnicolemcoca@gmail.com                3.172747      4.100604      -0.314931   \njennifer.rankin@me.com               5.063396      7.420473      -0.473080   \n\n                                  Cluster  \nEmail                                      \ngonzalezjocelyn1986@gmail.com           2  \njoeandangelina300@gmail.com             2  \nkadinorton@gmail.com                    2  \nzeusandjen@gmail.com                    2  \nwood.emily.marie@gmail.com              2  \n...                                   ...  \nm_elle79@hotmail.com                    2  \nheidibb93@hotmail.com                   2  \njosephine.sivertsson@hotmail.com        2  \nnicolemcoca@gmail.com                   2  \njennifer.rankin@me.com                  2  \n\n[195 rows x 4 columns]",
      "text/html": "<div>\n<style scoped>\n    .dataframe tbody tr th:only-of-type {\n        vertical-align: middle;\n    }\n\n    .dataframe tbody tr th {\n        vertical-align: top;\n    }\n\n    .dataframe thead th {\n        text-align: right;\n    }\n</style>\n<table border=\"1\" class=\"dataframe\">\n  <thead>\n    <tr style=\"text-align: right;\">\n      <th></th>\n      <th>Total Spent</th>\n      <th>Total Orders</th>\n      <th>AvgOrderValue</th>\n      <th>Cluster</th>\n    </tr>\n    <tr>\n      <th>Email</th>\n      <th></th>\n      <th></th>\n      <th></th>\n      <th></th>\n    </tr>\n  </thead>\n  <tbody>\n    <tr>\n      <th>gonzalezjocelyn1986@gmail.com</th>\n      <td>3.475479</td>\n      <td>3.768617</td>\n      <td>-0.104759</td>\n      <td>2</td>\n    </tr>\n    <tr>\n      <th>joeandangelina300@gmail.com</th>\n      <td>10.205574</td>\n      <td>7.752460</td>\n      <td>0.504426</td>\n      <td>2</td>\n    </tr>\n    <tr>\n      <th>kadinorton@gmail.com</th>\n      <td>5.501517</td>\n      <td>6.092526</td>\n      <td>-0.133335</td>\n      <td>2</td>\n    </tr>\n    <tr>\n      <th>zeusandjen@gmail.com</th>\n      <td>5.079100</td>\n      <td>3.104644</td>\n      <td>0.851463</td>\n      <td>2</td>\n    </tr>\n    <tr>\n      <th>wood.emily.marie@gmail.com</th>\n      <td>8.846180</td>\n      <td>8.748420</td>\n      <td>0.034699</td>\n      <td>2</td>\n    </tr>\n    <tr>\n      <th>...</th>\n      <td>...</td>\n      <td>...</td>\n      <td>...</td>\n      <td>...</td>\n    </tr>\n    <tr>\n      <th>m_elle79@hotmail.com</th>\n      <td>9.484636</td>\n      <td>8.748420</td>\n      <td>0.148720</td>\n      <td>2</td>\n    </tr>\n    <tr>\n      <th>heidibb93@hotmail.com</th>\n      <td>8.599576</td>\n      <td>7.088486</td>\n      <td>0.340688</td>\n      <td>2</td>\n    </tr>\n    <tr>\n      <th>josephine.sivertsson@hotmail.com</th>\n      <td>18.652239</td>\n      <td>15.056171</td>\n      <td>0.410254</td>\n      <td>2</td>\n    </tr>\n    <tr>\n      <th>nicolemcoca@gmail.com</th>\n      <td>3.172747</td>\n      <td>4.100604</td>\n      <td>-0.314931</td>\n      <td>2</td>\n    </tr>\n    <tr>\n      <th>jennifer.rankin@me.com</th>\n      <td>5.063396</td>\n      <td>7.420473</td>\n      <td>-0.473080</td>\n      <td>2</td>\n    </tr>\n  </tbody>\n</table>\n<p>195 rows × 4 columns</p>\n</div>"
     },
     "execution_count": 47,
     "metadata": {},
     "output_type": "execute_result"
    }
   ],
   "source": [
    "# bringing in the original shopify dataset and analyze\n",
    "# set the email as index keys for both datasets\n",
    "df_original = df_original.set_index('Email')\n",
    "\n",
    "# add the AvgOrderValue\n",
    "df_original['AvgOrderValue'] = df_original['Total Spent'] / df_original['Total Orders']\n",
    "\n",
    "df_original.index = df_original.index.map(str)\n",
    "high_value_cluster.index = high_value_cluster.index.map(str)\n",
    "\n",
    "high_value_cluster"
   ],
   "metadata": {
    "collapsed": false,
    "pycharm": {
     "name": "#%%\n"
    }
   }
  },
  {
   "cell_type": "code",
   "execution_count": 48,
   "outputs": [
    {
     "data": {
      "text/plain": "       Total Spent  Total Orders  AvgOrderValue\ncount   195.000000    195.000000     195.000000\nmean   1296.304051     18.497436      71.901141\nstd     559.823184      6.693877      24.300161\nmin     595.910000      7.000000      28.376667\n25%     899.985000     14.000000      57.632825\n50%    1116.420000     17.000000      67.172857\n75%    1522.520000     21.000000      78.910353\nmax    3928.350000     48.000000     210.792857",
      "text/html": "<div>\n<style scoped>\n    .dataframe tbody tr th:only-of-type {\n        vertical-align: middle;\n    }\n\n    .dataframe tbody tr th {\n        vertical-align: top;\n    }\n\n    .dataframe thead th {\n        text-align: right;\n    }\n</style>\n<table border=\"1\" class=\"dataframe\">\n  <thead>\n    <tr style=\"text-align: right;\">\n      <th></th>\n      <th>Total Spent</th>\n      <th>Total Orders</th>\n      <th>AvgOrderValue</th>\n    </tr>\n  </thead>\n  <tbody>\n    <tr>\n      <th>count</th>\n      <td>195.000000</td>\n      <td>195.000000</td>\n      <td>195.000000</td>\n    </tr>\n    <tr>\n      <th>mean</th>\n      <td>1296.304051</td>\n      <td>18.497436</td>\n      <td>71.901141</td>\n    </tr>\n    <tr>\n      <th>std</th>\n      <td>559.823184</td>\n      <td>6.693877</td>\n      <td>24.300161</td>\n    </tr>\n    <tr>\n      <th>min</th>\n      <td>595.910000</td>\n      <td>7.000000</td>\n      <td>28.376667</td>\n    </tr>\n    <tr>\n      <th>25%</th>\n      <td>899.985000</td>\n      <td>14.000000</td>\n      <td>57.632825</td>\n    </tr>\n    <tr>\n      <th>50%</th>\n      <td>1116.420000</td>\n      <td>17.000000</td>\n      <td>67.172857</td>\n    </tr>\n    <tr>\n      <th>75%</th>\n      <td>1522.520000</td>\n      <td>21.000000</td>\n      <td>78.910353</td>\n    </tr>\n    <tr>\n      <th>max</th>\n      <td>3928.350000</td>\n      <td>48.000000</td>\n      <td>210.792857</td>\n    </tr>\n  </tbody>\n</table>\n</div>"
     },
     "execution_count": 48,
     "metadata": {},
     "output_type": "execute_result"
    }
   ],
   "source": [
    "df_original.loc[high_value_cluster.index].describe()"
   ],
   "metadata": {
    "collapsed": false,
    "pycharm": {
     "name": "#%%\n"
    }
   }
  },
  {
   "cell_type": "code",
   "execution_count": 49,
   "outputs": [
    {
     "data": {
      "text/plain": "                Total Spent\nCountry                    \nUnited States           152\nCanada                   10\nUnited Kingdom            8\nAustralia                 7\nGermany                   5",
      "text/html": "<div>\n<style scoped>\n    .dataframe tbody tr th:only-of-type {\n        vertical-align: middle;\n    }\n\n    .dataframe tbody tr th {\n        vertical-align: top;\n    }\n\n    .dataframe thead th {\n        text-align: right;\n    }\n</style>\n<table border=\"1\" class=\"dataframe\">\n  <thead>\n    <tr style=\"text-align: right;\">\n      <th></th>\n      <th>Total Spent</th>\n    </tr>\n    <tr>\n      <th>Country</th>\n      <th></th>\n    </tr>\n  </thead>\n  <tbody>\n    <tr>\n      <th>United States</th>\n      <td>152</td>\n    </tr>\n    <tr>\n      <th>Canada</th>\n      <td>10</td>\n    </tr>\n    <tr>\n      <th>United Kingdom</th>\n      <td>8</td>\n    </tr>\n    <tr>\n      <th>Australia</th>\n      <td>7</td>\n    </tr>\n    <tr>\n      <th>Germany</th>\n      <td>5</td>\n    </tr>\n  </tbody>\n</table>\n</div>"
     },
     "execution_count": 49,
     "metadata": {},
     "output_type": "execute_result"
    }
   ],
   "source": [
    "# we pinpoint the customers in cluster 3 now\n",
    "\n",
    "pd.DataFrame(\n",
    "    df_original.loc[\n",
    "              high_value_cluster.index].groupby(\n",
    "               'Country').count()['Total Spent'].sort_values(\n",
    "                   ascending=False).head()\n",
    ")"
   ],
   "metadata": {
    "collapsed": false,
    "pycharm": {
     "name": "#%%\n"
    }
   }
  },
  {
   "cell_type": "code",
   "execution_count": 50,
   "outputs": [
    {
     "data": {
      "text/plain": "                                 First Name    Last Name Company  \\\nEmail                                                              \ngonzalezjocelyn1986@gmail.com       Jocelyn     Gonzalez     NaN   \njoeandangelina300@gmail.com         Rachael     Eversole     NaN   \nkadinorton@gmail.com                    Kat      Stevens     NaN   \nzeusandjen@gmail.com               Jennifer        Svane     NaN   \nwood.emily.marie@gmail.com            Emily         Wood     NaN   \n...                                     ...          ...     ...   \nm_elle79@hotmail.com               Michelle       Butler     NaN   \nheidibb93@hotmail.com                 Heidi  Bjørneklett     NaN   \njosephine.sivertsson@hotmail.com  Josephine   Sivertsson     NaN   \nnicolemcoca@gmail.com                Nicole         Coca     NaN   \njennifer.rankin@me.com             Jennifer       Rankin     NaN   \n\n                                                  Address1 Address2  \\\nEmail                                                                 \ngonzalezjocelyn1986@gmail.com     1726 W Chicago Ave Apt 5      NaN   \njoeandangelina300@gmail.com           1001 East 2nd street   Unit 1   \nkadinorton@gmail.com                          966 W 1325 S      NaN   \nzeusandjen@gmail.com                        2607 Larlin Dr      NaN   \nwood.emily.marie@gmail.com            1102 East 1st Street      NaN   \n...                                                    ...      ...   \nm_elle79@hotmail.com                     4169 checkmate dr      NaN   \nheidibb93@hotmail.com                             Matre 16      NaN   \njosephine.sivertsson@hotmail.com         Bergslagsvagen 43      NaN   \nnicolemcoca@gmail.com                     10597 NW 7th TER      NaN   \njennifer.rankin@me.com                   1105 Lincoln Road      NaN   \n\n                                         City       Province Province Code  \\\nEmail                                                                        \ngonzalezjocelyn1986@gmail.com         Chicago       Illinois            IL   \njoeandangelina300@gmail.com           Anamosa           Iowa            IA   \nkadinorton@gmail.com               Cedar City           Utah            UT   \nzeusandjen@gmail.com                  Everett     Washington            WA   \nwood.emily.marie@gmail.com             McCook       Nebraska            NE   \n...                                       ...            ...           ...   \nm_elle79@hotmail.com                Anchorage         Alaska            AK   \nheidibb93@hotmail.com                Matredal            NaN           NaN   \njosephine.sivertsson@hotmail.com     Finspang            NaN           NaN   \nnicolemcoca@gmail.com                   Miami        Florida            FL   \njennifer.rankin@me.com            Fredericton  New Brunswick            NB   \n\n                                        Country Country Code         Zip  \\\nEmail                                                                      \ngonzalezjocelyn1986@gmail.com     United States           US  60622-5000   \njoeandangelina300@gmail.com       United States           US       52205   \nkadinorton@gmail.com              United States           US       84720   \nzeusandjen@gmail.com              United States           US       98203   \nwood.emily.marie@gmail.com        United States           US       69001   \n...                                         ...          ...         ...   \nm_elle79@hotmail.com              United States           US       99508   \nheidibb93@hotmail.com                    Norway           NO        5984   \njosephine.sivertsson@hotmail.com         Sweden           SE       61236   \nnicolemcoca@gmail.com             United States           US       33172   \njennifer.rankin@me.com                   Canada           CA      E3B8J3   \n\n                                            Phone Accepts Marketing  \\\nEmail                                                                 \ngonzalezjocelyn1986@gmail.com      (773) 961-5821               yes   \njoeandangelina300@gmail.com        (319) 651-1552               yes   \nkadinorton@gmail.com                   4355924465               yes   \nzeusandjen@gmail.com               (504) 952-4375               yes   \nwood.emily.marie@gmail.com           +13083408995               yes   \n...                                           ...               ...   \nm_elle79@hotmail.com               (907) 406-4148               yes   \nheidibb93@hotmail.com             '+47 976 03 010               yes   \njosephine.sivertsson@hotmail.com    073-396 55 79               yes   \nnicolemcoca@gmail.com                  7868776093               yes   \njennifer.rankin@me.com               +15064402503               yes   \n\n                                  Total Spent  Total Orders  \\\nEmail                                                         \ngonzalezjocelyn1986@gmail.com          864.74            14   \njoeandangelina300@gmail.com           2223.29            26   \nkadinorton@gmail.com                  1273.72            21   \nzeusandjen@gmail.com                  1188.45            12   \nwood.emily.marie@gmail.com            1948.88            29   \n...                                       ...           ...   \nm_elle79@hotmail.com                  2077.76            29   \nheidibb93@hotmail.com                 1899.10            24   \njosephine.sivertsson@hotmail.com      3928.35            48   \nnicolemcoca@gmail.com                  803.63            15   \njennifer.rankin@me.com                1185.28            25   \n\n                                                                       Tags  \\\nEmail                                                                         \ngonzalezjocelyn1986@gmail.com                                           NaN   \njoeandangelina300@gmail.com                       Active Subscriber, ANNUAL   \nkadinorton@gmail.com                            Active Subscriber, SEASONAL   \nzeusandjen@gmail.com                              Active Subscriber, ANNUAL   \nwood.emily.marie@gmail.com                        Active Subscriber, ANNUAL   \n...                                                                     ...   \nm_elle79@hotmail.com                  Active Subscriber, ANNUAL, newsletter   \nheidibb93@hotmail.com                   Active Subscriber, ANNUAL, SEASONAL   \njosephine.sivertsson@hotmail.com      Active Subscriber, ANNUAL, newsletter   \nnicolemcoca@gmail.com                 Active Subscriber, ANNUAL, newsletter   \njennifer.rankin@me.com            Inactive Subscriber, newsletter, SEASONAL   \n\n                                 Note Tax Exempt  AvgOrderValue  \nEmail                                                            \ngonzalezjocelyn1986@gmail.com     NaN         no      61.767143  \njoeandangelina300@gmail.com       NaN         no      85.511154  \nkadinorton@gmail.com              NaN         no      60.653333  \nzeusandjen@gmail.com              NaN         no      99.037500  \nwood.emily.marie@gmail.com        NaN         no      67.202759  \n...                               ...        ...            ...  \nm_elle79@hotmail.com              NaN         no      71.646897  \nheidibb93@hotmail.com             NaN         no      79.129167  \njosephine.sivertsson@hotmail.com  NaN         no      81.840625  \nnicolemcoca@gmail.com             NaN         no      53.575333  \njennifer.rankin@me.com            NaN         no      47.411200  \n\n[195 rows x 19 columns]",
      "text/html": "<div>\n<style scoped>\n    .dataframe tbody tr th:only-of-type {\n        vertical-align: middle;\n    }\n\n    .dataframe tbody tr th {\n        vertical-align: top;\n    }\n\n    .dataframe thead th {\n        text-align: right;\n    }\n</style>\n<table border=\"1\" class=\"dataframe\">\n  <thead>\n    <tr style=\"text-align: right;\">\n      <th></th>\n      <th>First Name</th>\n      <th>Last Name</th>\n      <th>Company</th>\n      <th>Address1</th>\n      <th>Address2</th>\n      <th>City</th>\n      <th>Province</th>\n      <th>Province Code</th>\n      <th>Country</th>\n      <th>Country Code</th>\n      <th>Zip</th>\n      <th>Phone</th>\n      <th>Accepts Marketing</th>\n      <th>Total Spent</th>\n      <th>Total Orders</th>\n      <th>Tags</th>\n      <th>Note</th>\n      <th>Tax Exempt</th>\n      <th>AvgOrderValue</th>\n    </tr>\n    <tr>\n      <th>Email</th>\n      <th></th>\n      <th></th>\n      <th></th>\n      <th></th>\n      <th></th>\n      <th></th>\n      <th></th>\n      <th></th>\n      <th></th>\n      <th></th>\n      <th></th>\n      <th></th>\n      <th></th>\n      <th></th>\n      <th></th>\n      <th></th>\n      <th></th>\n      <th></th>\n      <th></th>\n    </tr>\n  </thead>\n  <tbody>\n    <tr>\n      <th>gonzalezjocelyn1986@gmail.com</th>\n      <td>Jocelyn</td>\n      <td>Gonzalez</td>\n      <td>NaN</td>\n      <td>1726 W Chicago Ave Apt 5</td>\n      <td>NaN</td>\n      <td>Chicago</td>\n      <td>Illinois</td>\n      <td>IL</td>\n      <td>United States</td>\n      <td>US</td>\n      <td>60622-5000</td>\n      <td>(773) 961-5821</td>\n      <td>yes</td>\n      <td>864.74</td>\n      <td>14</td>\n      <td>NaN</td>\n      <td>NaN</td>\n      <td>no</td>\n      <td>61.767143</td>\n    </tr>\n    <tr>\n      <th>joeandangelina300@gmail.com</th>\n      <td>Rachael</td>\n      <td>Eversole</td>\n      <td>NaN</td>\n      <td>1001 East 2nd street</td>\n      <td>Unit 1</td>\n      <td>Anamosa</td>\n      <td>Iowa</td>\n      <td>IA</td>\n      <td>United States</td>\n      <td>US</td>\n      <td>52205</td>\n      <td>(319) 651-1552</td>\n      <td>yes</td>\n      <td>2223.29</td>\n      <td>26</td>\n      <td>Active Subscriber, ANNUAL</td>\n      <td>NaN</td>\n      <td>no</td>\n      <td>85.511154</td>\n    </tr>\n    <tr>\n      <th>kadinorton@gmail.com</th>\n      <td>Kat</td>\n      <td>Stevens</td>\n      <td>NaN</td>\n      <td>966 W 1325 S</td>\n      <td>NaN</td>\n      <td>Cedar City</td>\n      <td>Utah</td>\n      <td>UT</td>\n      <td>United States</td>\n      <td>US</td>\n      <td>84720</td>\n      <td>4355924465</td>\n      <td>yes</td>\n      <td>1273.72</td>\n      <td>21</td>\n      <td>Active Subscriber, SEASONAL</td>\n      <td>NaN</td>\n      <td>no</td>\n      <td>60.653333</td>\n    </tr>\n    <tr>\n      <th>zeusandjen@gmail.com</th>\n      <td>Jennifer</td>\n      <td>Svane</td>\n      <td>NaN</td>\n      <td>2607 Larlin Dr</td>\n      <td>NaN</td>\n      <td>Everett</td>\n      <td>Washington</td>\n      <td>WA</td>\n      <td>United States</td>\n      <td>US</td>\n      <td>98203</td>\n      <td>(504) 952-4375</td>\n      <td>yes</td>\n      <td>1188.45</td>\n      <td>12</td>\n      <td>Active Subscriber, ANNUAL</td>\n      <td>NaN</td>\n      <td>no</td>\n      <td>99.037500</td>\n    </tr>\n    <tr>\n      <th>wood.emily.marie@gmail.com</th>\n      <td>Emily</td>\n      <td>Wood</td>\n      <td>NaN</td>\n      <td>1102 East 1st Street</td>\n      <td>NaN</td>\n      <td>McCook</td>\n      <td>Nebraska</td>\n      <td>NE</td>\n      <td>United States</td>\n      <td>US</td>\n      <td>69001</td>\n      <td>+13083408995</td>\n      <td>yes</td>\n      <td>1948.88</td>\n      <td>29</td>\n      <td>Active Subscriber, ANNUAL</td>\n      <td>NaN</td>\n      <td>no</td>\n      <td>67.202759</td>\n    </tr>\n    <tr>\n      <th>...</th>\n      <td>...</td>\n      <td>...</td>\n      <td>...</td>\n      <td>...</td>\n      <td>...</td>\n      <td>...</td>\n      <td>...</td>\n      <td>...</td>\n      <td>...</td>\n      <td>...</td>\n      <td>...</td>\n      <td>...</td>\n      <td>...</td>\n      <td>...</td>\n      <td>...</td>\n      <td>...</td>\n      <td>...</td>\n      <td>...</td>\n      <td>...</td>\n    </tr>\n    <tr>\n      <th>m_elle79@hotmail.com</th>\n      <td>Michelle</td>\n      <td>Butler</td>\n      <td>NaN</td>\n      <td>4169 checkmate dr</td>\n      <td>NaN</td>\n      <td>Anchorage</td>\n      <td>Alaska</td>\n      <td>AK</td>\n      <td>United States</td>\n      <td>US</td>\n      <td>99508</td>\n      <td>(907) 406-4148</td>\n      <td>yes</td>\n      <td>2077.76</td>\n      <td>29</td>\n      <td>Active Subscriber, ANNUAL, newsletter</td>\n      <td>NaN</td>\n      <td>no</td>\n      <td>71.646897</td>\n    </tr>\n    <tr>\n      <th>heidibb93@hotmail.com</th>\n      <td>Heidi</td>\n      <td>Bjørneklett</td>\n      <td>NaN</td>\n      <td>Matre 16</td>\n      <td>NaN</td>\n      <td>Matredal</td>\n      <td>NaN</td>\n      <td>NaN</td>\n      <td>Norway</td>\n      <td>NO</td>\n      <td>5984</td>\n      <td>'+47 976 03 010</td>\n      <td>yes</td>\n      <td>1899.10</td>\n      <td>24</td>\n      <td>Active Subscriber, ANNUAL, SEASONAL</td>\n      <td>NaN</td>\n      <td>no</td>\n      <td>79.129167</td>\n    </tr>\n    <tr>\n      <th>josephine.sivertsson@hotmail.com</th>\n      <td>Josephine</td>\n      <td>Sivertsson</td>\n      <td>NaN</td>\n      <td>Bergslagsvagen 43</td>\n      <td>NaN</td>\n      <td>Finspang</td>\n      <td>NaN</td>\n      <td>NaN</td>\n      <td>Sweden</td>\n      <td>SE</td>\n      <td>61236</td>\n      <td>073-396 55 79</td>\n      <td>yes</td>\n      <td>3928.35</td>\n      <td>48</td>\n      <td>Active Subscriber, ANNUAL, newsletter</td>\n      <td>NaN</td>\n      <td>no</td>\n      <td>81.840625</td>\n    </tr>\n    <tr>\n      <th>nicolemcoca@gmail.com</th>\n      <td>Nicole</td>\n      <td>Coca</td>\n      <td>NaN</td>\n      <td>10597 NW 7th TER</td>\n      <td>NaN</td>\n      <td>Miami</td>\n      <td>Florida</td>\n      <td>FL</td>\n      <td>United States</td>\n      <td>US</td>\n      <td>33172</td>\n      <td>7868776093</td>\n      <td>yes</td>\n      <td>803.63</td>\n      <td>15</td>\n      <td>Active Subscriber, ANNUAL, newsletter</td>\n      <td>NaN</td>\n      <td>no</td>\n      <td>53.575333</td>\n    </tr>\n    <tr>\n      <th>jennifer.rankin@me.com</th>\n      <td>Jennifer</td>\n      <td>Rankin</td>\n      <td>NaN</td>\n      <td>1105 Lincoln Road</td>\n      <td>NaN</td>\n      <td>Fredericton</td>\n      <td>New Brunswick</td>\n      <td>NB</td>\n      <td>Canada</td>\n      <td>CA</td>\n      <td>E3B8J3</td>\n      <td>+15064402503</td>\n      <td>yes</td>\n      <td>1185.28</td>\n      <td>25</td>\n      <td>Inactive Subscriber, newsletter, SEASONAL</td>\n      <td>NaN</td>\n      <td>no</td>\n      <td>47.411200</td>\n    </tr>\n  </tbody>\n</table>\n<p>195 rows × 19 columns</p>\n</div>"
     },
     "execution_count": 50,
     "metadata": {},
     "output_type": "execute_result"
    }
   ],
   "source": [
    "df_original.loc[high_value_cluster.index]"
   ],
   "metadata": {
    "collapsed": false,
    "pycharm": {
     "name": "#%%\n"
    }
   }
  },
  {
   "cell_type": "code",
   "execution_count": 51,
   "outputs": [],
   "source": [
    "top_50 = df_original.sort_values('Total Spent', ascending=False).head(50)"
   ],
   "metadata": {
    "collapsed": false,
    "pycharm": {
     "name": "#%%\n"
    }
   }
  },
  {
   "cell_type": "code",
   "execution_count": 52,
   "outputs": [
    {
     "data": {
      "text/plain": "                                 First Name      Last Name           Company  \\\nEmail                                                                          \njosephine.sivertsson@hotmail.com  Josephine     Sivertsson               NaN   \ntmanini@hotmail.com                    Tara         Manini               NaN   \naortiz258@hotmail.com                  Alba    Ortiz Reyes               NaN   \nmaw105_92@yahoo.com                Willimae       Villajin               NaN   \nk.guidry1992@gmail.com               Kereka         Guidry               NaN   \nangelhuliv@gmail.com                  Angel             Hu               NaN   \nbannana_1444@hotmail.com             Hannah        Horejsi               NaN   \nlynne1021@gmail.com                Courtney          Wirtz               NaN   \nmegan_kay@live.com                    Megan  Butler Stoney               NaN   \nlynntran7760@yahoo.com                 Lynn           Tran               NaN   \nsharkiewicz2958@yahoo.com          Samantha     Harkiewicz               NaN   \njoeandangelina300@gmail.com         Rachael       Eversole               NaN   \nharas11816@aol.com                    Sarah      Henderson               NaN   \njiffy668@yahoo.com                 Jennifer         Beeler               NaN   \nleahakers@live.com                     Leah          Mejia               NaN   \nm_elle79@hotmail.com               Michelle         Butler               NaN   \nvale.padrun@hotmail.com             Valeria         Padrun               NaN   \nabby.d.mcconnell@gmail.com             Abby      McConnell               NaN   \ngaby55402_10@hotmail.com           Gabriela           Meza               NaN   \nwood.emily.marie@gmail.com            Emily           Wood               NaN   \nbrittnay.cole.luna99@gmail.com     Brittany         Overby               NaN   \nbjvigil316@yahoo.com                Bethany          Vigil               NaN   \nsarahfergy22@gmail.com                Sarah     Araki-Kwee               NaN   \nkimbojord@gmail.com                Kimberly         Jordan               NaN   \nheidibb93@hotmail.com                 Heidi    Bjørneklett               NaN   \nlnlylvr17@yahoo.com                Kristina        Brunken               NaN   \ncswildrose@gmail.com              Christina          Scott               NaN   \ncarolina11jr@gmail.com                 Caro           Soto               NaN   \nash.neko.aw@googlemail.com         Ashleigh        Walpole               NaN   \nt.pulido@hotmail.com                  TESSA         PULIDO               NaN   \nirisathena86@yahoo.com             Courtnie         Rachel               NaN   \nsarahrosebrock93@gmail.com            Sarah      Rosebrock               NaN   \nSvannorden00@yahoo.com                Sarah     Van Norden               NaN   \nkolokele@comcast.net                Dolores         Noonan               NaN   \nidktako@gmail.com                     Maria           Tako               NaN   \nmichiko574@hotmail.com                Jenny           Ling               NaN   \nkarenoliveros919@gmail.com            Karen       Oliveros               NaN   \nlaurendonohue1@aol.com               Lauren        Donohue               NaN   \nfrogtcat@hotmail.com                Jessica        Johnson               NaN   \ncebruno3@att.net                   Courtney          Bruno               NaN   \nm.al-harami@hotmail.com            Methayel      Al-harami               NaN   \nthrosartae@gmail.com                Caitlin          Nolte               NaN   \npaustianal@lopers.unk.edu            Amanda       Paustian               NaN   \nmithelena@aol.com                    Amanda         McColm               NaN   \nkkfreeman13@verizon.net            Kimberly        Freeman               NaN   \nflutterbeekiss@hotmail.com            Karly          Simms  Three Rivers Law   \nshannen.norman23@hotmail.com        Shannen         Norman               NaN   \nstevechrisbach@gmail.com           Christin      Bacharach               NaN   \nkristenclement@att.net              Kristen        Clement               NaN   \njanicegram@aol.com                   Janice         Graham               NaN   \n\n                                                                           Address1  \\\nEmail                                                                                 \njosephine.sivertsson@hotmail.com                                  Bergslagsvagen 43   \ntmanini@hotmail.com                                                325 Coronado Ave   \naortiz258@hotmail.com                                                 1494 W 2165 S   \nmaw105_92@yahoo.com                                             1122 W 204th Street   \nk.guidry1992@gmail.com                                            19509 Divot Place   \nangelhuliv@gmail.com                                                 120 Carson Rd.   \nbannana_1444@hotmail.com                                             66874 200th St   \nlynne1021@gmail.com                                      1706 Sandusky North Street   \nmegan_kay@live.com                                  Flat 1, 38 Turama Rd, Royal Oak   \nlynntran7760@yahoo.com                                            7632 NW milrey dr   \nsharkiewicz2958@yahoo.com                                          13826 Cane Drive   \njoeandangelina300@gmail.com                                    1001 East 2nd street   \nharas11816@aol.com                                                16 Helmsdale Park   \njiffy668@yahoo.com                                                624 Rosewood Ave.   \nleahakers@live.com                                      6500 Air Cargo Road #950096   \nm_elle79@hotmail.com                                              4169 checkmate dr   \nvale.padrun@hotmail.com                                    Trichtenhauserstrasse 30   \nabby.d.mcconnell@gmail.com                                               88 Penn Dr   \ngaby55402_10@hotmail.com                                         6412 Edgemere Blvd   \nwood.emily.marie@gmail.com                                     1102 East 1st Street   \nbrittnay.cole.luna99@gmail.com                              904 East College Avenue   \nbjvigil316@yahoo.com                                            4710 Contenta Ridge   \nsarahfergy22@gmail.com                                             615 Newcastle Dr   \nkimbojord@gmail.com                                                  59 Bellevue Dr   \nheidibb93@hotmail.com                                                      Matre 16   \nlnlylvr17@yahoo.com                                                    209 W 5th St   \ncswildrose@gmail.com                                           333 Glenbriar Circle   \ncarolina11jr@gmail.com                                        9595 Pecos St. Lot 39   \nash.neko.aw@googlemail.com                                         22 Howard Avenue   \nt.pulido@hotmail.com                                                  2510 Perez St   \nirisathena86@yahoo.com                                             82 E Hopkins Ave   \nsarahrosebrock93@gmail.com                                        12805 Scranton Ct   \nSvannorden00@yahoo.com                                            521 Stagecoach Dr   \nkolokele@comcast.net                                                 456 7th Street   \nidktako@gmail.com                                                735 east wilson st   \nmichiko574@hotmail.com                                     1003 Bishop St, Ste 1600   \nkarenoliveros919@gmail.com                                         1004 Sally st se   \nlaurendonohue1@aol.com                                                318 Sandy Run   \nfrogtcat@hotmail.com                                            1310 E Hackamore St   \ncebruno3@att.net                                                      72 Montego Dr   \nm.al-harami@hotmail.com           alrashad st , street no. 562 , zone 71 , umm s...   \nthrosartae@gmail.com                                             21230 W. 183rd St.   \npaustianal@lopers.unk.edu                                        1008 S Sycamore St   \nmithelena@aol.com                                             11740 Whitehall Drive   \nkkfreeman13@verizon.net                                    4401 west Sevilla street   \nflutterbeekiss@hotmail.com                             103 - 2227 McAllister Avenue   \nshannen.norman23@hotmail.com                                        19 rosewood ave   \nstevechrisbach@gmail.com                                          12075 Jessica Cir   \nkristenclement@att.net                                                 1204 Wild Rd   \njanicegram@aol.com                                            3168 Willow Tree Lane   \n\n                                      Address2              City  \\\nEmail                                                              \njosephine.sivertsson@hotmail.com           NaN          Finspang   \ntmanini@hotmail.com                        304         Daly City   \naortiz258@hotmail.com                      NaN         Wellsvile   \nmaw105_92@yahoo.com                        NaN          Torrance   \nk.guidry1992@gmail.com                     NaN      Gaithersburg   \nangelhuliv@gmail.com                       NaN            Seneca   \nbannana_1444@hotmail.com                   NaN             Alden   \nlynne1021@gmail.com                        NaN        Pittsburgh   \nmegan_kay@live.com                         NaN          Auckland   \nlynntran7760@yahoo.com                     NaN       Kansas city   \nsharkiewicz2958@yahoo.com                  NaN       San Antonio   \njoeandangelina300@gmail.com             Unit 1           Anamosa   \nharas11816@aol.com                         NaN       Dunfermline   \njiffy668@yahoo.com                         NaN            Monroe   \nleahakers@live.com                         NaN     Oklahoma City   \nm_elle79@hotmail.com                       NaN         Anchorage   \nvale.padrun@hotmail.com                    NaN      Zollikerberg   \nabby.d.mcconnell@gmail.com               Apt D              Avon   \ngaby55402_10@hotmail.com                Apt H2           El Paso   \nwood.emily.marie@gmail.com                 NaN            McCook   \nbrittnay.cole.luna99@gmail.com             NaN      Jacksonville   \nbjvigil316@yahoo.com                       NaN          Santa Fe   \nsarahfergy22@gmail.com                     NaN             Rolla   \nkimbojord@gmail.com                      Apt 1      Collinsville   \nheidibb93@hotmail.com                      NaN          Matredal   \nlnlylvr17@yahoo.com                        NaN       Saint Jacob   \ncswildrose@gmail.com                       NaN             Tracy   \ncarolina11jr@gmail.com                     NaN          Thornton   \nash.neko.aw@googlemail.com                 NaN         Rochester   \nt.pulido@hotmail.com                       NaN       San Antonio   \nirisathena86@yahoo.com                     NaN           Pontiac   \nsarahrosebrock93@gmail.com                 NaN           Herndon   \nSvannorden00@yahoo.com                     NaN          Milliken   \nkolokele@comcast.net                       NaN           Montara   \nidktako@gmail.com                          NaN           Banning   \nmichiko574@hotmail.com                     NaN          Honolulu   \nkarenoliveros919@gmail.com                 NaN          Palm Bay   \nlaurendonohue1@aol.com                     NaN        Knightdale   \nfrogtcat@hotmail.com                       NaN              Mesa   \ncebruno3@att.net                           NaN            Kenner   \nm.al-harami@hotmail.com           house no. 23              Doha   \nthrosartae@gmail.com                       NaN            Olathe   \npaustianal@lopers.unk.edu                  NaN      Grand Island   \nmithelena@aol.com                          NaN  Sterling Heights   \nkkfreeman13@verizon.net                    NaN             Tampa   \nflutterbeekiss@hotmail.com                 NaN    Port Coquitlam   \nshannen.norman23@hotmail.com               NaN          Wondunna   \nstevechrisbach@gmail.com                   NaN          Gulfport   \nkristenclement@att.net                     NaN       Van Alstyne   \njanicegram@aol.com                         NaN         Escondido   \n\n                                          Province Province Code  \\\nEmail                                                              \njosephine.sivertsson@hotmail.com               NaN           NaN   \ntmanini@hotmail.com                     California            CA   \naortiz258@hotmail.com                         Utah            UT   \nmaw105_92@yahoo.com                     California            CA   \nk.guidry1992@gmail.com                    Maryland            MD   \nangelhuliv@gmail.com                South Carolina            SC   \nbannana_1444@hotmail.com                 Minnesota            MN   \nlynne1021@gmail.com                   Pennsylvania            PA   \nmegan_kay@live.com                        Auckland           AUK   \nlynntran7760@yahoo.com                    Missouri            MO   \nsharkiewicz2958@yahoo.com                    Texas            TX   \njoeandangelina300@gmail.com                   Iowa            IA   \nharas11816@aol.com                             NaN           NaN   \njiffy668@yahoo.com                        Michigan            MI   \nleahakers@live.com                        Oklahoma            OK   \nm_elle79@hotmail.com                        Alaska            AK   \nvale.padrun@hotmail.com                        NaN           NaN   \nabby.d.mcconnell@gmail.com                 Indiana            IN   \ngaby55402_10@hotmail.com                     Texas            TX   \nwood.emily.marie@gmail.com                Nebraska            NE   \nbrittnay.cole.luna99@gmail.com            Illinois            IL   \nbjvigil316@yahoo.com                    New Mexico            NM   \nsarahfergy22@gmail.com                    Missouri            MO   \nkimbojord@gmail.com                       Illinois            IL   \nheidibb93@hotmail.com                          NaN           NaN   \nlnlylvr17@yahoo.com                       Illinois            IL   \ncswildrose@gmail.com                    California            CA   \ncarolina11jr@gmail.com                    Colorado            CO   \nash.neko.aw@googlemail.com                     NaN           NaN   \nt.pulido@hotmail.com                         Texas            TX   \nirisathena86@yahoo.com                    Michigan            MI   \nsarahrosebrock93@gmail.com                Virginia            VA   \nSvannorden00@yahoo.com                    Colorado            CO   \nkolokele@comcast.net                    California            CA   \nidktako@gmail.com                       California            CA   \nmichiko574@hotmail.com                      Hawaii            HI   \nkarenoliveros919@gmail.com                 Florida            FL   \nlaurendonohue1@aol.com              North Carolina            NC   \nfrogtcat@hotmail.com                       Arizona            AZ   \ncebruno3@att.net                         Louisiana            LA   \nm.al-harami@hotmail.com                        NaN           NaN   \nthrosartae@gmail.com                        Kansas            KS   \npaustianal@lopers.unk.edu                 Nebraska            NE   \nmithelena@aol.com                         Michigan            MI   \nkkfreeman13@verizon.net                    Florida            FL   \nflutterbeekiss@hotmail.com        British Columbia            BC   \nshannen.norman23@hotmail.com            Queensland           QLD   \nstevechrisbach@gmail.com               Mississippi            MS   \nkristenclement@att.net                       Texas            TX   \njanicegram@aol.com                      California            CA   \n\n                                         Country Country Code         Zip  \\\nEmail                                                                       \njosephine.sivertsson@hotmail.com          Sweden           SE       61236   \ntmanini@hotmail.com                United States           US       94015   \naortiz258@hotmail.com              United States           US       84339   \nmaw105_92@yahoo.com                United States           US       90502   \nk.guidry1992@gmail.com             United States           US       20886   \nangelhuliv@gmail.com               United States           US       29678   \nbannana_1444@hotmail.com           United States           US       56009   \nlynne1021@gmail.com                United States           US       15214   \nmegan_kay@live.com                   New Zealand           NZ        1023   \nlynntran7760@yahoo.com             United States           US       64152   \nsharkiewicz2958@yahoo.com          United States           US       78233   \njoeandangelina300@gmail.com        United States           US       52205   \nharas11816@aol.com                United Kingdom           GB    KY12 7PU   \njiffy668@yahoo.com                 United States           US  48162-3042   \nleahakers@live.com                 United States           US       73195   \nm_elle79@hotmail.com               United States           US       99508   \nvale.padrun@hotmail.com              Switzerland           CH        8125   \nabby.d.mcconnell@gmail.com         United States           US       46123   \ngaby55402_10@hotmail.com           United States           US       79925   \nwood.emily.marie@gmail.com         United States           US       69001   \nbrittnay.cole.luna99@gmail.com     United States           US       62650   \nbjvigil316@yahoo.com               United States           US       87507   \nsarahfergy22@gmail.com             United States           US       65401   \nkimbojord@gmail.com                United States           US       62234   \nheidibb93@hotmail.com                     Norway           NO        5984   \nlnlylvr17@yahoo.com                United States           US       62281   \ncswildrose@gmail.com               United States           US       95377   \ncarolina11jr@gmail.com             United States           US       80270   \nash.neko.aw@googlemail.com        United Kingdom           GB     ME1 2AP   \nt.pulido@hotmail.com               United States           US       78207   \nirisathena86@yahoo.com             United States           US       48340   \nsarahrosebrock93@gmail.com         United States           US       20170   \nSvannorden00@yahoo.com             United States           US       80543   \nkolokele@comcast.net               United States           US  94037-1255   \nidktako@gmail.com                  United States           US       92220   \nmichiko574@hotmail.com             United States           US       96813   \nkarenoliveros919@gmail.com         United States           US       32909   \nlaurendonohue1@aol.com             United States           US       27545   \nfrogtcat@hotmail.com               United States           US       85203   \ncebruno3@att.net                   United States           US       70065   \nm.al-harami@hotmail.com                    Qatar           QA         NaN   \nthrosartae@gmail.com               United States           US       66062   \npaustianal@lopers.unk.edu          United States           US       68801   \nmithelena@aol.com                  United States           US       48313   \nkkfreeman13@verizon.net            United States           US       33629   \nflutterbeekiss@hotmail.com                Canada           CA     V3C 2A9   \nshannen.norman23@hotmail.com           Australia           AU        4655   \nstevechrisbach@gmail.com           United States           US       39503   \nkristenclement@att.net             United States           US       75495   \njanicegram@aol.com                 United States           US       92027   \n\n                                              Phone Accepts Marketing  \\\nEmail                                                                   \njosephine.sivertsson@hotmail.com      073-396 55 79               yes   \ntmanini@hotmail.com                      4153857538               yes   \naortiz258@hotmail.com                  +17872200693               yes   \nmaw105_92@yahoo.com                  (619) 882-7123               yes   \nk.guidry1992@gmail.com                 +12404419922               yes   \nangelhuliv@gmail.com               '+1 864-325-5936               yes   \nbannana_1444@hotmail.com             (507) 383-8929               yes   \nlynne1021@gmail.com                    +14126803869               yes   \nmegan_kay@live.com                     +64212049228               yes   \nlynntran7760@yahoo.com               (816) 419-6225               yes   \nsharkiewicz2958@yahoo.com                2102413507               yes   \njoeandangelina300@gmail.com          (319) 651-1552               yes   \nharas11816@aol.com                     07952 543310               yes   \njiffy668@yahoo.com                       7347552383               yes   \nleahakers@live.com                      14057382041               yes   \nm_elle79@hotmail.com                 (907) 406-4148               yes   \nvale.padrun@hotmail.com           '+41 79 416 59 05               yes   \nabby.d.mcconnell@gmail.com              17652429893               yes   \ngaby55402_10@hotmail.com             (915) 219-0088               yes   \nwood.emily.marie@gmail.com             +13083408995               yes   \nbrittnay.cole.luna99@gmail.com       (217) 271-9457               yes   \nbjvigil316@yahoo.com               1 (505) 795-8531               yes   \nsarahfergy22@gmail.com                  15735783309               yes   \nkimbojord@gmail.com                1 (618) 560-1734               yes   \nheidibb93@hotmail.com               '+47 976 03 010               yes   \nlnlylvr17@yahoo.com                     16185203350               yes   \ncswildrose@gmail.com                   +15103646988               yes   \ncarolina11jr@gmail.com                   7204779495               yes   \nash.neko.aw@googlemail.com            +447725870858               yes   \nt.pulido@hotmail.com               '+1 210-730-5410               yes   \nirisathena86@yahoo.com                 +12486884231               yes   \nsarahrosebrock93@gmail.com           (419) 439-0735                no   \nSvannorden00@yahoo.com                   3035220769               yes   \nkolokele@comcast.net                 (808) 635-0988               yes   \nidktako@gmail.com                    (909) 553-4090               yes   \nmichiko574@hotmail.com             1 (808) 286-5805               yes   \nkarenoliveros919@gmail.com               5619004217               yes   \nlaurendonohue1@aol.com                 +19192648976               yes   \nfrogtcat@hotmail.com                   160279629673               yes   \ncebruno3@att.net                   '+1 504-330-9183               yes   \nm.al-harami@hotmail.com                   3993 0993               yes   \nthrosartae@gmail.com                     9137093711               yes   \npaustianal@lopers.unk.edu                4022536462               yes   \nmithelena@aol.com                        5869793971               yes   \nkkfreeman13@verizon.net                +18139572622               yes   \nflutterbeekiss@hotmail.com           1-604-374-0830               yes   \nshannen.norman23@hotmail.com           0409 888 949               yes   \nstevechrisbach@gmail.com               +16182104628               yes   \nkristenclement@att.net                 +12146740784               yes   \njanicegram@aol.com                     +12033130438               yes   \n\n                                  Total Spent  Total Orders  \\\nEmail                                                         \njosephine.sivertsson@hotmail.com      3928.35            48   \ntmanini@hotmail.com                   3807.53            29   \naortiz258@hotmail.com                 3434.52            36   \nmaw105_92@yahoo.com                   3193.07            42   \nk.guidry1992@gmail.com                2784.17            33   \nangelhuliv@gmail.com                  2718.45            19   \nbannana_1444@hotmail.com              2634.62            44   \nlynne1021@gmail.com                   2608.96            29   \nmegan_kay@live.com                    2558.98            42   \nlynntran7760@yahoo.com                2305.19            28   \nsharkiewicz2958@yahoo.com             2245.66            34   \njoeandangelina300@gmail.com           2223.29            26   \nharas11816@aol.com                    2146.66            29   \njiffy668@yahoo.com                    2134.59            31   \nleahakers@live.com                    2078.98            17   \nm_elle79@hotmail.com                  2077.76            29   \nvale.padrun@hotmail.com               2043.15            27   \nabby.d.mcconnell@gmail.com            1983.69            34   \ngaby55402_10@hotmail.com              1983.65            26   \nwood.emily.marie@gmail.com            1948.88            29   \nbrittnay.cole.luna99@gmail.com        1922.13            30   \nbjvigil316@yahoo.com                  1914.26            26   \nsarahfergy22@gmail.com                1910.31            16   \nkimbojord@gmail.com                   1906.59            24   \nheidibb93@hotmail.com                 1899.10            24   \nlnlylvr17@yahoo.com                   1880.84            28   \ncswildrose@gmail.com                  1861.19            23   \ncarolina11jr@gmail.com                1848.08            27   \nash.neko.aw@googlemail.com            1836.30            25   \nt.pulido@hotmail.com                  1833.00            21   \nirisathena86@yahoo.com                1827.93            31   \nsarahrosebrock93@gmail.com            1768.99            19   \nSvannorden00@yahoo.com                1745.81            24   \nkolokele@comcast.net                  1726.39            19   \nidktako@gmail.com                     1721.57            21   \nmichiko574@hotmail.com                1714.69            21   \nkarenoliveros919@gmail.com            1710.84            28   \nlaurendonohue1@aol.com                1700.08            18   \nfrogtcat@hotmail.com                  1667.42            16   \ncebruno3@att.net                      1647.06            24   \nm.al-harami@hotmail.com               1646.81            11   \nthrosartae@gmail.com                  1575.89            23   \npaustianal@lopers.unk.edu             1564.66            24   \nmithelena@aol.com                     1562.34            19   \nkkfreeman13@verizon.net               1549.31            21   \nflutterbeekiss@hotmail.com            1545.67            27   \nshannen.norman23@hotmail.com          1534.42            34   \nstevechrisbach@gmail.com              1524.98            25   \nkristenclement@att.net                1524.18            18   \njanicegram@aol.com                    1520.86            16   \n\n                                                                             Tags  \\\nEmail                                                                               \njosephine.sivertsson@hotmail.com            Active Subscriber, ANNUAL, newsletter   \ntmanini@hotmail.com                                   Active Subscriber, SEASONAL   \naortiz258@hotmail.com                       Active Subscriber, ANNUAL, newsletter   \nmaw105_92@yahoo.com                           Active Subscriber, ANNUAL, SEASONAL   \nk.guidry1992@gmail.com                                  Active Subscriber, ANNUAL   \nangelhuliv@gmail.com                                    Active Subscriber, ANNUAL   \nbannana_1444@hotmail.com                                Active Subscriber, ANNUAL   \nlynne1021@gmail.com                         Active Subscriber, ANNUAL, newsletter   \nmegan_kay@live.com                                      Active Subscriber, ANNUAL   \nlynntran7760@yahoo.com                                  Active Subscriber, ANNUAL   \nsharkiewicz2958@yahoo.com                               Active Subscriber, ANNUAL   \njoeandangelina300@gmail.com                             Active Subscriber, ANNUAL   \nharas11816@aol.com                                      Active Subscriber, ANNUAL   \njiffy668@yahoo.com                                      Active Subscriber, ANNUAL   \nleahakers@live.com                          Active Subscriber, ANNUAL, newsletter   \nm_elle79@hotmail.com                        Active Subscriber, ANNUAL, newsletter   \nvale.padrun@hotmail.com                                 Active Subscriber, ANNUAL   \nabby.d.mcconnell@gmail.com                          Inactive Subscriber, SEASONAL   \ngaby55402_10@hotmail.com                                Active Subscriber, ANNUAL   \nwood.emily.marie@gmail.com                              Active Subscriber, ANNUAL   \nbrittnay.cole.luna99@gmail.com                                                NaN   \nbjvigil316@yahoo.com                      Active Subscriber, newsletter, SEASONAL   \nsarahfergy22@gmail.com                      Active Subscriber, ANNUAL, newsletter   \nkimbojord@gmail.com                                   Active Subscriber, SEASONAL   \nheidibb93@hotmail.com                         Active Subscriber, ANNUAL, SEASONAL   \nlnlylvr17@yahoo.com                                     Active Subscriber, ANNUAL   \ncswildrose@gmail.com                                    Active Subscriber, ANNUAL   \ncarolina11jr@gmail.com                        Active Subscriber, ANNUAL, SEASONAL   \nash.neko.aw@googlemail.com                  Active Subscriber, ANNUAL, newsletter   \nt.pulido@hotmail.com                                    Active Subscriber, ANNUAL   \nirisathena86@yahoo.com                       SEASONAL, Subscription card declined   \nsarahrosebrock93@gmail.com                  Active Subscriber, ANNUAL, newsletter   \nSvannorden00@yahoo.com                                  Active Subscriber, ANNUAL   \nkolokele@comcast.net                                    Active Subscriber, ANNUAL   \nidktako@gmail.com                 Active Subscriber, ANNUAL, newsletter, SEASONAL   \nmichiko574@hotmail.com                                  Active Subscriber, ANNUAL   \nkarenoliveros919@gmail.com                            Active Subscriber, SEASONAL   \nlaurendonohue1@aol.com                                  Active Subscriber, ANNUAL   \nfrogtcat@hotmail.com                                    Active Subscriber, ANNUAL   \ncebruno3@att.net                                        Active Subscriber, ANNUAL   \nm.al-harami@hotmail.com                               Active Subscriber, SEASONAL   \nthrosartae@gmail.com                                  Active Subscriber, SEASONAL   \npaustianal@lopers.unk.edu                               Active Subscriber, ANNUAL   \nmithelena@aol.com                                       Active Subscriber, ANNUAL   \nkkfreeman13@verizon.net                                 Active Subscriber, ANNUAL   \nflutterbeekiss@hotmail.com                            Active Subscriber, SEASONAL   \nshannen.norman23@hotmail.com                 SEASONAL, Subscription card declined   \nstevechrisbach@gmail.com                                Active Subscriber, ANNUAL   \nkristenclement@att.net                                  Active Subscriber, ANNUAL   \njanicegram@aol.com                                    Active Subscriber, SEASONAL   \n\n                                 Note Tax Exempt  AvgOrderValue  \nEmail                                                            \njosephine.sivertsson@hotmail.com  NaN         no      81.840625  \ntmanini@hotmail.com               NaN         no     131.294138  \naortiz258@hotmail.com             NaN         no      95.403333  \nmaw105_92@yahoo.com               NaN         no      76.025476  \nk.guidry1992@gmail.com            NaN         no      84.368788  \nangelhuliv@gmail.com              NaN         no     143.076316  \nbannana_1444@hotmail.com          NaN         no      59.877727  \nlynne1021@gmail.com               NaN         no      89.964138  \nmegan_kay@live.com                NaN         no      60.928095  \nlynntran7760@yahoo.com            NaN         no      82.328214  \nsharkiewicz2958@yahoo.com         NaN         no      66.048824  \njoeandangelina300@gmail.com       NaN         no      85.511154  \nharas11816@aol.com                NaN         no      74.022759  \njiffy668@yahoo.com                NaN         no      68.857742  \nleahakers@live.com                NaN         no     122.292941  \nm_elle79@hotmail.com              NaN         no      71.646897  \nvale.padrun@hotmail.com           NaN         no      75.672222  \nabby.d.mcconnell@gmail.com        NaN         no      58.343824  \ngaby55402_10@hotmail.com          NaN         no      76.294231  \nwood.emily.marie@gmail.com        NaN         no      67.202759  \nbrittnay.cole.luna99@gmail.com    NaN         no      64.071000  \nbjvigil316@yahoo.com              NaN         no      73.625385  \nsarahfergy22@gmail.com            NaN         no     119.394375  \nkimbojord@gmail.com               NaN         no      79.441250  \nheidibb93@hotmail.com             NaN         no      79.129167  \nlnlylvr17@yahoo.com               NaN         no      67.172857  \ncswildrose@gmail.com              NaN         no      80.921304  \ncarolina11jr@gmail.com            NaN         no      68.447407  \nash.neko.aw@googlemail.com        NaN         no      73.452000  \nt.pulido@hotmail.com              NaN         no      87.285714  \nirisathena86@yahoo.com            NaN         no      58.965484  \nsarahrosebrock93@gmail.com        NaN         no      93.104737  \nSvannorden00@yahoo.com            NaN         no      72.742083  \nkolokele@comcast.net              NaN         no      90.862632  \nidktako@gmail.com                 NaN         no      81.979524  \nmichiko574@hotmail.com            NaN         no      81.651905  \nkarenoliveros919@gmail.com        NaN         no      61.101429  \nlaurendonohue1@aol.com            NaN         no      94.448889  \nfrogtcat@hotmail.com              NaN         no     104.213750  \ncebruno3@att.net                  NaN         no      68.627500  \nm.al-harami@hotmail.com           NaN         no     149.710000  \nthrosartae@gmail.com              NaN         no      68.516957  \npaustianal@lopers.unk.edu         NaN         no      65.194167  \nmithelena@aol.com                 NaN         no      82.228421  \nkkfreeman13@verizon.net           NaN         no      73.776667  \nflutterbeekiss@hotmail.com        NaN         no      57.247037  \nshannen.norman23@hotmail.com      NaN         no      45.130000  \nstevechrisbach@gmail.com          NaN         no      60.999200  \nkristenclement@att.net            NaN         no      84.676667  \njanicegram@aol.com                NaN         no      95.053750  ",
      "text/html": "<div>\n<style scoped>\n    .dataframe tbody tr th:only-of-type {\n        vertical-align: middle;\n    }\n\n    .dataframe tbody tr th {\n        vertical-align: top;\n    }\n\n    .dataframe thead th {\n        text-align: right;\n    }\n</style>\n<table border=\"1\" class=\"dataframe\">\n  <thead>\n    <tr style=\"text-align: right;\">\n      <th></th>\n      <th>First Name</th>\n      <th>Last Name</th>\n      <th>Company</th>\n      <th>Address1</th>\n      <th>Address2</th>\n      <th>City</th>\n      <th>Province</th>\n      <th>Province Code</th>\n      <th>Country</th>\n      <th>Country Code</th>\n      <th>Zip</th>\n      <th>Phone</th>\n      <th>Accepts Marketing</th>\n      <th>Total Spent</th>\n      <th>Total Orders</th>\n      <th>Tags</th>\n      <th>Note</th>\n      <th>Tax Exempt</th>\n      <th>AvgOrderValue</th>\n    </tr>\n    <tr>\n      <th>Email</th>\n      <th></th>\n      <th></th>\n      <th></th>\n      <th></th>\n      <th></th>\n      <th></th>\n      <th></th>\n      <th></th>\n      <th></th>\n      <th></th>\n      <th></th>\n      <th></th>\n      <th></th>\n      <th></th>\n      <th></th>\n      <th></th>\n      <th></th>\n      <th></th>\n      <th></th>\n    </tr>\n  </thead>\n  <tbody>\n    <tr>\n      <th>josephine.sivertsson@hotmail.com</th>\n      <td>Josephine</td>\n      <td>Sivertsson</td>\n      <td>NaN</td>\n      <td>Bergslagsvagen 43</td>\n      <td>NaN</td>\n      <td>Finspang</td>\n      <td>NaN</td>\n      <td>NaN</td>\n      <td>Sweden</td>\n      <td>SE</td>\n      <td>61236</td>\n      <td>073-396 55 79</td>\n      <td>yes</td>\n      <td>3928.35</td>\n      <td>48</td>\n      <td>Active Subscriber, ANNUAL, newsletter</td>\n      <td>NaN</td>\n      <td>no</td>\n      <td>81.840625</td>\n    </tr>\n    <tr>\n      <th>tmanini@hotmail.com</th>\n      <td>Tara</td>\n      <td>Manini</td>\n      <td>NaN</td>\n      <td>325 Coronado Ave</td>\n      <td>304</td>\n      <td>Daly City</td>\n      <td>California</td>\n      <td>CA</td>\n      <td>United States</td>\n      <td>US</td>\n      <td>94015</td>\n      <td>4153857538</td>\n      <td>yes</td>\n      <td>3807.53</td>\n      <td>29</td>\n      <td>Active Subscriber, SEASONAL</td>\n      <td>NaN</td>\n      <td>no</td>\n      <td>131.294138</td>\n    </tr>\n    <tr>\n      <th>aortiz258@hotmail.com</th>\n      <td>Alba</td>\n      <td>Ortiz Reyes</td>\n      <td>NaN</td>\n      <td>1494 W 2165 S</td>\n      <td>NaN</td>\n      <td>Wellsvile</td>\n      <td>Utah</td>\n      <td>UT</td>\n      <td>United States</td>\n      <td>US</td>\n      <td>84339</td>\n      <td>+17872200693</td>\n      <td>yes</td>\n      <td>3434.52</td>\n      <td>36</td>\n      <td>Active Subscriber, ANNUAL, newsletter</td>\n      <td>NaN</td>\n      <td>no</td>\n      <td>95.403333</td>\n    </tr>\n    <tr>\n      <th>maw105_92@yahoo.com</th>\n      <td>Willimae</td>\n      <td>Villajin</td>\n      <td>NaN</td>\n      <td>1122 W 204th Street</td>\n      <td>NaN</td>\n      <td>Torrance</td>\n      <td>California</td>\n      <td>CA</td>\n      <td>United States</td>\n      <td>US</td>\n      <td>90502</td>\n      <td>(619) 882-7123</td>\n      <td>yes</td>\n      <td>3193.07</td>\n      <td>42</td>\n      <td>Active Subscriber, ANNUAL, SEASONAL</td>\n      <td>NaN</td>\n      <td>no</td>\n      <td>76.025476</td>\n    </tr>\n    <tr>\n      <th>k.guidry1992@gmail.com</th>\n      <td>Kereka</td>\n      <td>Guidry</td>\n      <td>NaN</td>\n      <td>19509 Divot Place</td>\n      <td>NaN</td>\n      <td>Gaithersburg</td>\n      <td>Maryland</td>\n      <td>MD</td>\n      <td>United States</td>\n      <td>US</td>\n      <td>20886</td>\n      <td>+12404419922</td>\n      <td>yes</td>\n      <td>2784.17</td>\n      <td>33</td>\n      <td>Active Subscriber, ANNUAL</td>\n      <td>NaN</td>\n      <td>no</td>\n      <td>84.368788</td>\n    </tr>\n    <tr>\n      <th>angelhuliv@gmail.com</th>\n      <td>Angel</td>\n      <td>Hu</td>\n      <td>NaN</td>\n      <td>120 Carson Rd.</td>\n      <td>NaN</td>\n      <td>Seneca</td>\n      <td>South Carolina</td>\n      <td>SC</td>\n      <td>United States</td>\n      <td>US</td>\n      <td>29678</td>\n      <td>'+1 864-325-5936</td>\n      <td>yes</td>\n      <td>2718.45</td>\n      <td>19</td>\n      <td>Active Subscriber, ANNUAL</td>\n      <td>NaN</td>\n      <td>no</td>\n      <td>143.076316</td>\n    </tr>\n    <tr>\n      <th>bannana_1444@hotmail.com</th>\n      <td>Hannah</td>\n      <td>Horejsi</td>\n      <td>NaN</td>\n      <td>66874 200th St</td>\n      <td>NaN</td>\n      <td>Alden</td>\n      <td>Minnesota</td>\n      <td>MN</td>\n      <td>United States</td>\n      <td>US</td>\n      <td>56009</td>\n      <td>(507) 383-8929</td>\n      <td>yes</td>\n      <td>2634.62</td>\n      <td>44</td>\n      <td>Active Subscriber, ANNUAL</td>\n      <td>NaN</td>\n      <td>no</td>\n      <td>59.877727</td>\n    </tr>\n    <tr>\n      <th>lynne1021@gmail.com</th>\n      <td>Courtney</td>\n      <td>Wirtz</td>\n      <td>NaN</td>\n      <td>1706 Sandusky North Street</td>\n      <td>NaN</td>\n      <td>Pittsburgh</td>\n      <td>Pennsylvania</td>\n      <td>PA</td>\n      <td>United States</td>\n      <td>US</td>\n      <td>15214</td>\n      <td>+14126803869</td>\n      <td>yes</td>\n      <td>2608.96</td>\n      <td>29</td>\n      <td>Active Subscriber, ANNUAL, newsletter</td>\n      <td>NaN</td>\n      <td>no</td>\n      <td>89.964138</td>\n    </tr>\n    <tr>\n      <th>megan_kay@live.com</th>\n      <td>Megan</td>\n      <td>Butler Stoney</td>\n      <td>NaN</td>\n      <td>Flat 1, 38 Turama Rd, Royal Oak</td>\n      <td>NaN</td>\n      <td>Auckland</td>\n      <td>Auckland</td>\n      <td>AUK</td>\n      <td>New Zealand</td>\n      <td>NZ</td>\n      <td>1023</td>\n      <td>+64212049228</td>\n      <td>yes</td>\n      <td>2558.98</td>\n      <td>42</td>\n      <td>Active Subscriber, ANNUAL</td>\n      <td>NaN</td>\n      <td>no</td>\n      <td>60.928095</td>\n    </tr>\n    <tr>\n      <th>lynntran7760@yahoo.com</th>\n      <td>Lynn</td>\n      <td>Tran</td>\n      <td>NaN</td>\n      <td>7632 NW milrey dr</td>\n      <td>NaN</td>\n      <td>Kansas city</td>\n      <td>Missouri</td>\n      <td>MO</td>\n      <td>United States</td>\n      <td>US</td>\n      <td>64152</td>\n      <td>(816) 419-6225</td>\n      <td>yes</td>\n      <td>2305.19</td>\n      <td>28</td>\n      <td>Active Subscriber, ANNUAL</td>\n      <td>NaN</td>\n      <td>no</td>\n      <td>82.328214</td>\n    </tr>\n    <tr>\n      <th>sharkiewicz2958@yahoo.com</th>\n      <td>Samantha</td>\n      <td>Harkiewicz</td>\n      <td>NaN</td>\n      <td>13826 Cane Drive</td>\n      <td>NaN</td>\n      <td>San Antonio</td>\n      <td>Texas</td>\n      <td>TX</td>\n      <td>United States</td>\n      <td>US</td>\n      <td>78233</td>\n      <td>2102413507</td>\n      <td>yes</td>\n      <td>2245.66</td>\n      <td>34</td>\n      <td>Active Subscriber, ANNUAL</td>\n      <td>NaN</td>\n      <td>no</td>\n      <td>66.048824</td>\n    </tr>\n    <tr>\n      <th>joeandangelina300@gmail.com</th>\n      <td>Rachael</td>\n      <td>Eversole</td>\n      <td>NaN</td>\n      <td>1001 East 2nd street</td>\n      <td>Unit 1</td>\n      <td>Anamosa</td>\n      <td>Iowa</td>\n      <td>IA</td>\n      <td>United States</td>\n      <td>US</td>\n      <td>52205</td>\n      <td>(319) 651-1552</td>\n      <td>yes</td>\n      <td>2223.29</td>\n      <td>26</td>\n      <td>Active Subscriber, ANNUAL</td>\n      <td>NaN</td>\n      <td>no</td>\n      <td>85.511154</td>\n    </tr>\n    <tr>\n      <th>haras11816@aol.com</th>\n      <td>Sarah</td>\n      <td>Henderson</td>\n      <td>NaN</td>\n      <td>16 Helmsdale Park</td>\n      <td>NaN</td>\n      <td>Dunfermline</td>\n      <td>NaN</td>\n      <td>NaN</td>\n      <td>United Kingdom</td>\n      <td>GB</td>\n      <td>KY12 7PU</td>\n      <td>07952 543310</td>\n      <td>yes</td>\n      <td>2146.66</td>\n      <td>29</td>\n      <td>Active Subscriber, ANNUAL</td>\n      <td>NaN</td>\n      <td>no</td>\n      <td>74.022759</td>\n    </tr>\n    <tr>\n      <th>jiffy668@yahoo.com</th>\n      <td>Jennifer</td>\n      <td>Beeler</td>\n      <td>NaN</td>\n      <td>624 Rosewood Ave.</td>\n      <td>NaN</td>\n      <td>Monroe</td>\n      <td>Michigan</td>\n      <td>MI</td>\n      <td>United States</td>\n      <td>US</td>\n      <td>48162-3042</td>\n      <td>7347552383</td>\n      <td>yes</td>\n      <td>2134.59</td>\n      <td>31</td>\n      <td>Active Subscriber, ANNUAL</td>\n      <td>NaN</td>\n      <td>no</td>\n      <td>68.857742</td>\n    </tr>\n    <tr>\n      <th>leahakers@live.com</th>\n      <td>Leah</td>\n      <td>Mejia</td>\n      <td>NaN</td>\n      <td>6500 Air Cargo Road #950096</td>\n      <td>NaN</td>\n      <td>Oklahoma City</td>\n      <td>Oklahoma</td>\n      <td>OK</td>\n      <td>United States</td>\n      <td>US</td>\n      <td>73195</td>\n      <td>14057382041</td>\n      <td>yes</td>\n      <td>2078.98</td>\n      <td>17</td>\n      <td>Active Subscriber, ANNUAL, newsletter</td>\n      <td>NaN</td>\n      <td>no</td>\n      <td>122.292941</td>\n    </tr>\n    <tr>\n      <th>m_elle79@hotmail.com</th>\n      <td>Michelle</td>\n      <td>Butler</td>\n      <td>NaN</td>\n      <td>4169 checkmate dr</td>\n      <td>NaN</td>\n      <td>Anchorage</td>\n      <td>Alaska</td>\n      <td>AK</td>\n      <td>United States</td>\n      <td>US</td>\n      <td>99508</td>\n      <td>(907) 406-4148</td>\n      <td>yes</td>\n      <td>2077.76</td>\n      <td>29</td>\n      <td>Active Subscriber, ANNUAL, newsletter</td>\n      <td>NaN</td>\n      <td>no</td>\n      <td>71.646897</td>\n    </tr>\n    <tr>\n      <th>vale.padrun@hotmail.com</th>\n      <td>Valeria</td>\n      <td>Padrun</td>\n      <td>NaN</td>\n      <td>Trichtenhauserstrasse 30</td>\n      <td>NaN</td>\n      <td>Zollikerberg</td>\n      <td>NaN</td>\n      <td>NaN</td>\n      <td>Switzerland</td>\n      <td>CH</td>\n      <td>8125</td>\n      <td>'+41 79 416 59 05</td>\n      <td>yes</td>\n      <td>2043.15</td>\n      <td>27</td>\n      <td>Active Subscriber, ANNUAL</td>\n      <td>NaN</td>\n      <td>no</td>\n      <td>75.672222</td>\n    </tr>\n    <tr>\n      <th>abby.d.mcconnell@gmail.com</th>\n      <td>Abby</td>\n      <td>McConnell</td>\n      <td>NaN</td>\n      <td>88 Penn Dr</td>\n      <td>Apt D</td>\n      <td>Avon</td>\n      <td>Indiana</td>\n      <td>IN</td>\n      <td>United States</td>\n      <td>US</td>\n      <td>46123</td>\n      <td>17652429893</td>\n      <td>yes</td>\n      <td>1983.69</td>\n      <td>34</td>\n      <td>Inactive Subscriber, SEASONAL</td>\n      <td>NaN</td>\n      <td>no</td>\n      <td>58.343824</td>\n    </tr>\n    <tr>\n      <th>gaby55402_10@hotmail.com</th>\n      <td>Gabriela</td>\n      <td>Meza</td>\n      <td>NaN</td>\n      <td>6412 Edgemere Blvd</td>\n      <td>Apt H2</td>\n      <td>El Paso</td>\n      <td>Texas</td>\n      <td>TX</td>\n      <td>United States</td>\n      <td>US</td>\n      <td>79925</td>\n      <td>(915) 219-0088</td>\n      <td>yes</td>\n      <td>1983.65</td>\n      <td>26</td>\n      <td>Active Subscriber, ANNUAL</td>\n      <td>NaN</td>\n      <td>no</td>\n      <td>76.294231</td>\n    </tr>\n    <tr>\n      <th>wood.emily.marie@gmail.com</th>\n      <td>Emily</td>\n      <td>Wood</td>\n      <td>NaN</td>\n      <td>1102 East 1st Street</td>\n      <td>NaN</td>\n      <td>McCook</td>\n      <td>Nebraska</td>\n      <td>NE</td>\n      <td>United States</td>\n      <td>US</td>\n      <td>69001</td>\n      <td>+13083408995</td>\n      <td>yes</td>\n      <td>1948.88</td>\n      <td>29</td>\n      <td>Active Subscriber, ANNUAL</td>\n      <td>NaN</td>\n      <td>no</td>\n      <td>67.202759</td>\n    </tr>\n    <tr>\n      <th>brittnay.cole.luna99@gmail.com</th>\n      <td>Brittany</td>\n      <td>Overby</td>\n      <td>NaN</td>\n      <td>904 East College Avenue</td>\n      <td>NaN</td>\n      <td>Jacksonville</td>\n      <td>Illinois</td>\n      <td>IL</td>\n      <td>United States</td>\n      <td>US</td>\n      <td>62650</td>\n      <td>(217) 271-9457</td>\n      <td>yes</td>\n      <td>1922.13</td>\n      <td>30</td>\n      <td>NaN</td>\n      <td>NaN</td>\n      <td>no</td>\n      <td>64.071000</td>\n    </tr>\n    <tr>\n      <th>bjvigil316@yahoo.com</th>\n      <td>Bethany</td>\n      <td>Vigil</td>\n      <td>NaN</td>\n      <td>4710 Contenta Ridge</td>\n      <td>NaN</td>\n      <td>Santa Fe</td>\n      <td>New Mexico</td>\n      <td>NM</td>\n      <td>United States</td>\n      <td>US</td>\n      <td>87507</td>\n      <td>1 (505) 795-8531</td>\n      <td>yes</td>\n      <td>1914.26</td>\n      <td>26</td>\n      <td>Active Subscriber, newsletter, SEASONAL</td>\n      <td>NaN</td>\n      <td>no</td>\n      <td>73.625385</td>\n    </tr>\n    <tr>\n      <th>sarahfergy22@gmail.com</th>\n      <td>Sarah</td>\n      <td>Araki-Kwee</td>\n      <td>NaN</td>\n      <td>615 Newcastle Dr</td>\n      <td>NaN</td>\n      <td>Rolla</td>\n      <td>Missouri</td>\n      <td>MO</td>\n      <td>United States</td>\n      <td>US</td>\n      <td>65401</td>\n      <td>15735783309</td>\n      <td>yes</td>\n      <td>1910.31</td>\n      <td>16</td>\n      <td>Active Subscriber, ANNUAL, newsletter</td>\n      <td>NaN</td>\n      <td>no</td>\n      <td>119.394375</td>\n    </tr>\n    <tr>\n      <th>kimbojord@gmail.com</th>\n      <td>Kimberly</td>\n      <td>Jordan</td>\n      <td>NaN</td>\n      <td>59 Bellevue Dr</td>\n      <td>Apt 1</td>\n      <td>Collinsville</td>\n      <td>Illinois</td>\n      <td>IL</td>\n      <td>United States</td>\n      <td>US</td>\n      <td>62234</td>\n      <td>1 (618) 560-1734</td>\n      <td>yes</td>\n      <td>1906.59</td>\n      <td>24</td>\n      <td>Active Subscriber, SEASONAL</td>\n      <td>NaN</td>\n      <td>no</td>\n      <td>79.441250</td>\n    </tr>\n    <tr>\n      <th>heidibb93@hotmail.com</th>\n      <td>Heidi</td>\n      <td>Bjørneklett</td>\n      <td>NaN</td>\n      <td>Matre 16</td>\n      <td>NaN</td>\n      <td>Matredal</td>\n      <td>NaN</td>\n      <td>NaN</td>\n      <td>Norway</td>\n      <td>NO</td>\n      <td>5984</td>\n      <td>'+47 976 03 010</td>\n      <td>yes</td>\n      <td>1899.10</td>\n      <td>24</td>\n      <td>Active Subscriber, ANNUAL, SEASONAL</td>\n      <td>NaN</td>\n      <td>no</td>\n      <td>79.129167</td>\n    </tr>\n    <tr>\n      <th>lnlylvr17@yahoo.com</th>\n      <td>Kristina</td>\n      <td>Brunken</td>\n      <td>NaN</td>\n      <td>209 W 5th St</td>\n      <td>NaN</td>\n      <td>Saint Jacob</td>\n      <td>Illinois</td>\n      <td>IL</td>\n      <td>United States</td>\n      <td>US</td>\n      <td>62281</td>\n      <td>16185203350</td>\n      <td>yes</td>\n      <td>1880.84</td>\n      <td>28</td>\n      <td>Active Subscriber, ANNUAL</td>\n      <td>NaN</td>\n      <td>no</td>\n      <td>67.172857</td>\n    </tr>\n    <tr>\n      <th>cswildrose@gmail.com</th>\n      <td>Christina</td>\n      <td>Scott</td>\n      <td>NaN</td>\n      <td>333 Glenbriar Circle</td>\n      <td>NaN</td>\n      <td>Tracy</td>\n      <td>California</td>\n      <td>CA</td>\n      <td>United States</td>\n      <td>US</td>\n      <td>95377</td>\n      <td>+15103646988</td>\n      <td>yes</td>\n      <td>1861.19</td>\n      <td>23</td>\n      <td>Active Subscriber, ANNUAL</td>\n      <td>NaN</td>\n      <td>no</td>\n      <td>80.921304</td>\n    </tr>\n    <tr>\n      <th>carolina11jr@gmail.com</th>\n      <td>Caro</td>\n      <td>Soto</td>\n      <td>NaN</td>\n      <td>9595 Pecos St. Lot 39</td>\n      <td>NaN</td>\n      <td>Thornton</td>\n      <td>Colorado</td>\n      <td>CO</td>\n      <td>United States</td>\n      <td>US</td>\n      <td>80270</td>\n      <td>7204779495</td>\n      <td>yes</td>\n      <td>1848.08</td>\n      <td>27</td>\n      <td>Active Subscriber, ANNUAL, SEASONAL</td>\n      <td>NaN</td>\n      <td>no</td>\n      <td>68.447407</td>\n    </tr>\n    <tr>\n      <th>ash.neko.aw@googlemail.com</th>\n      <td>Ashleigh</td>\n      <td>Walpole</td>\n      <td>NaN</td>\n      <td>22 Howard Avenue</td>\n      <td>NaN</td>\n      <td>Rochester</td>\n      <td>NaN</td>\n      <td>NaN</td>\n      <td>United Kingdom</td>\n      <td>GB</td>\n      <td>ME1 2AP</td>\n      <td>+447725870858</td>\n      <td>yes</td>\n      <td>1836.30</td>\n      <td>25</td>\n      <td>Active Subscriber, ANNUAL, newsletter</td>\n      <td>NaN</td>\n      <td>no</td>\n      <td>73.452000</td>\n    </tr>\n    <tr>\n      <th>t.pulido@hotmail.com</th>\n      <td>TESSA</td>\n      <td>PULIDO</td>\n      <td>NaN</td>\n      <td>2510 Perez St</td>\n      <td>NaN</td>\n      <td>San Antonio</td>\n      <td>Texas</td>\n      <td>TX</td>\n      <td>United States</td>\n      <td>US</td>\n      <td>78207</td>\n      <td>'+1 210-730-5410</td>\n      <td>yes</td>\n      <td>1833.00</td>\n      <td>21</td>\n      <td>Active Subscriber, ANNUAL</td>\n      <td>NaN</td>\n      <td>no</td>\n      <td>87.285714</td>\n    </tr>\n    <tr>\n      <th>irisathena86@yahoo.com</th>\n      <td>Courtnie</td>\n      <td>Rachel</td>\n      <td>NaN</td>\n      <td>82 E Hopkins Ave</td>\n      <td>NaN</td>\n      <td>Pontiac</td>\n      <td>Michigan</td>\n      <td>MI</td>\n      <td>United States</td>\n      <td>US</td>\n      <td>48340</td>\n      <td>+12486884231</td>\n      <td>yes</td>\n      <td>1827.93</td>\n      <td>31</td>\n      <td>SEASONAL, Subscription card declined</td>\n      <td>NaN</td>\n      <td>no</td>\n      <td>58.965484</td>\n    </tr>\n    <tr>\n      <th>sarahrosebrock93@gmail.com</th>\n      <td>Sarah</td>\n      <td>Rosebrock</td>\n      <td>NaN</td>\n      <td>12805 Scranton Ct</td>\n      <td>NaN</td>\n      <td>Herndon</td>\n      <td>Virginia</td>\n      <td>VA</td>\n      <td>United States</td>\n      <td>US</td>\n      <td>20170</td>\n      <td>(419) 439-0735</td>\n      <td>no</td>\n      <td>1768.99</td>\n      <td>19</td>\n      <td>Active Subscriber, ANNUAL, newsletter</td>\n      <td>NaN</td>\n      <td>no</td>\n      <td>93.104737</td>\n    </tr>\n    <tr>\n      <th>Svannorden00@yahoo.com</th>\n      <td>Sarah</td>\n      <td>Van Norden</td>\n      <td>NaN</td>\n      <td>521 Stagecoach Dr</td>\n      <td>NaN</td>\n      <td>Milliken</td>\n      <td>Colorado</td>\n      <td>CO</td>\n      <td>United States</td>\n      <td>US</td>\n      <td>80543</td>\n      <td>3035220769</td>\n      <td>yes</td>\n      <td>1745.81</td>\n      <td>24</td>\n      <td>Active Subscriber, ANNUAL</td>\n      <td>NaN</td>\n      <td>no</td>\n      <td>72.742083</td>\n    </tr>\n    <tr>\n      <th>kolokele@comcast.net</th>\n      <td>Dolores</td>\n      <td>Noonan</td>\n      <td>NaN</td>\n      <td>456 7th Street</td>\n      <td>NaN</td>\n      <td>Montara</td>\n      <td>California</td>\n      <td>CA</td>\n      <td>United States</td>\n      <td>US</td>\n      <td>94037-1255</td>\n      <td>(808) 635-0988</td>\n      <td>yes</td>\n      <td>1726.39</td>\n      <td>19</td>\n      <td>Active Subscriber, ANNUAL</td>\n      <td>NaN</td>\n      <td>no</td>\n      <td>90.862632</td>\n    </tr>\n    <tr>\n      <th>idktako@gmail.com</th>\n      <td>Maria</td>\n      <td>Tako</td>\n      <td>NaN</td>\n      <td>735 east wilson st</td>\n      <td>NaN</td>\n      <td>Banning</td>\n      <td>California</td>\n      <td>CA</td>\n      <td>United States</td>\n      <td>US</td>\n      <td>92220</td>\n      <td>(909) 553-4090</td>\n      <td>yes</td>\n      <td>1721.57</td>\n      <td>21</td>\n      <td>Active Subscriber, ANNUAL, newsletter, SEASONAL</td>\n      <td>NaN</td>\n      <td>no</td>\n      <td>81.979524</td>\n    </tr>\n    <tr>\n      <th>michiko574@hotmail.com</th>\n      <td>Jenny</td>\n      <td>Ling</td>\n      <td>NaN</td>\n      <td>1003 Bishop St, Ste 1600</td>\n      <td>NaN</td>\n      <td>Honolulu</td>\n      <td>Hawaii</td>\n      <td>HI</td>\n      <td>United States</td>\n      <td>US</td>\n      <td>96813</td>\n      <td>1 (808) 286-5805</td>\n      <td>yes</td>\n      <td>1714.69</td>\n      <td>21</td>\n      <td>Active Subscriber, ANNUAL</td>\n      <td>NaN</td>\n      <td>no</td>\n      <td>81.651905</td>\n    </tr>\n    <tr>\n      <th>karenoliveros919@gmail.com</th>\n      <td>Karen</td>\n      <td>Oliveros</td>\n      <td>NaN</td>\n      <td>1004 Sally st se</td>\n      <td>NaN</td>\n      <td>Palm Bay</td>\n      <td>Florida</td>\n      <td>FL</td>\n      <td>United States</td>\n      <td>US</td>\n      <td>32909</td>\n      <td>5619004217</td>\n      <td>yes</td>\n      <td>1710.84</td>\n      <td>28</td>\n      <td>Active Subscriber, SEASONAL</td>\n      <td>NaN</td>\n      <td>no</td>\n      <td>61.101429</td>\n    </tr>\n    <tr>\n      <th>laurendonohue1@aol.com</th>\n      <td>Lauren</td>\n      <td>Donohue</td>\n      <td>NaN</td>\n      <td>318 Sandy Run</td>\n      <td>NaN</td>\n      <td>Knightdale</td>\n      <td>North Carolina</td>\n      <td>NC</td>\n      <td>United States</td>\n      <td>US</td>\n      <td>27545</td>\n      <td>+19192648976</td>\n      <td>yes</td>\n      <td>1700.08</td>\n      <td>18</td>\n      <td>Active Subscriber, ANNUAL</td>\n      <td>NaN</td>\n      <td>no</td>\n      <td>94.448889</td>\n    </tr>\n    <tr>\n      <th>frogtcat@hotmail.com</th>\n      <td>Jessica</td>\n      <td>Johnson</td>\n      <td>NaN</td>\n      <td>1310 E Hackamore St</td>\n      <td>NaN</td>\n      <td>Mesa</td>\n      <td>Arizona</td>\n      <td>AZ</td>\n      <td>United States</td>\n      <td>US</td>\n      <td>85203</td>\n      <td>160279629673</td>\n      <td>yes</td>\n      <td>1667.42</td>\n      <td>16</td>\n      <td>Active Subscriber, ANNUAL</td>\n      <td>NaN</td>\n      <td>no</td>\n      <td>104.213750</td>\n    </tr>\n    <tr>\n      <th>cebruno3@att.net</th>\n      <td>Courtney</td>\n      <td>Bruno</td>\n      <td>NaN</td>\n      <td>72 Montego Dr</td>\n      <td>NaN</td>\n      <td>Kenner</td>\n      <td>Louisiana</td>\n      <td>LA</td>\n      <td>United States</td>\n      <td>US</td>\n      <td>70065</td>\n      <td>'+1 504-330-9183</td>\n      <td>yes</td>\n      <td>1647.06</td>\n      <td>24</td>\n      <td>Active Subscriber, ANNUAL</td>\n      <td>NaN</td>\n      <td>no</td>\n      <td>68.627500</td>\n    </tr>\n    <tr>\n      <th>m.al-harami@hotmail.com</th>\n      <td>Methayel</td>\n      <td>Al-harami</td>\n      <td>NaN</td>\n      <td>alrashad st , street no. 562 , zone 71 , umm s...</td>\n      <td>house no. 23</td>\n      <td>Doha</td>\n      <td>NaN</td>\n      <td>NaN</td>\n      <td>Qatar</td>\n      <td>QA</td>\n      <td>NaN</td>\n      <td>3993 0993</td>\n      <td>yes</td>\n      <td>1646.81</td>\n      <td>11</td>\n      <td>Active Subscriber, SEASONAL</td>\n      <td>NaN</td>\n      <td>no</td>\n      <td>149.710000</td>\n    </tr>\n    <tr>\n      <th>throsartae@gmail.com</th>\n      <td>Caitlin</td>\n      <td>Nolte</td>\n      <td>NaN</td>\n      <td>21230 W. 183rd St.</td>\n      <td>NaN</td>\n      <td>Olathe</td>\n      <td>Kansas</td>\n      <td>KS</td>\n      <td>United States</td>\n      <td>US</td>\n      <td>66062</td>\n      <td>9137093711</td>\n      <td>yes</td>\n      <td>1575.89</td>\n      <td>23</td>\n      <td>Active Subscriber, SEASONAL</td>\n      <td>NaN</td>\n      <td>no</td>\n      <td>68.516957</td>\n    </tr>\n    <tr>\n      <th>paustianal@lopers.unk.edu</th>\n      <td>Amanda</td>\n      <td>Paustian</td>\n      <td>NaN</td>\n      <td>1008 S Sycamore St</td>\n      <td>NaN</td>\n      <td>Grand Island</td>\n      <td>Nebraska</td>\n      <td>NE</td>\n      <td>United States</td>\n      <td>US</td>\n      <td>68801</td>\n      <td>4022536462</td>\n      <td>yes</td>\n      <td>1564.66</td>\n      <td>24</td>\n      <td>Active Subscriber, ANNUAL</td>\n      <td>NaN</td>\n      <td>no</td>\n      <td>65.194167</td>\n    </tr>\n    <tr>\n      <th>mithelena@aol.com</th>\n      <td>Amanda</td>\n      <td>McColm</td>\n      <td>NaN</td>\n      <td>11740 Whitehall Drive</td>\n      <td>NaN</td>\n      <td>Sterling Heights</td>\n      <td>Michigan</td>\n      <td>MI</td>\n      <td>United States</td>\n      <td>US</td>\n      <td>48313</td>\n      <td>5869793971</td>\n      <td>yes</td>\n      <td>1562.34</td>\n      <td>19</td>\n      <td>Active Subscriber, ANNUAL</td>\n      <td>NaN</td>\n      <td>no</td>\n      <td>82.228421</td>\n    </tr>\n    <tr>\n      <th>kkfreeman13@verizon.net</th>\n      <td>Kimberly</td>\n      <td>Freeman</td>\n      <td>NaN</td>\n      <td>4401 west Sevilla street</td>\n      <td>NaN</td>\n      <td>Tampa</td>\n      <td>Florida</td>\n      <td>FL</td>\n      <td>United States</td>\n      <td>US</td>\n      <td>33629</td>\n      <td>+18139572622</td>\n      <td>yes</td>\n      <td>1549.31</td>\n      <td>21</td>\n      <td>Active Subscriber, ANNUAL</td>\n      <td>NaN</td>\n      <td>no</td>\n      <td>73.776667</td>\n    </tr>\n    <tr>\n      <th>flutterbeekiss@hotmail.com</th>\n      <td>Karly</td>\n      <td>Simms</td>\n      <td>Three Rivers Law</td>\n      <td>103 - 2227 McAllister Avenue</td>\n      <td>NaN</td>\n      <td>Port Coquitlam</td>\n      <td>British Columbia</td>\n      <td>BC</td>\n      <td>Canada</td>\n      <td>CA</td>\n      <td>V3C 2A9</td>\n      <td>1-604-374-0830</td>\n      <td>yes</td>\n      <td>1545.67</td>\n      <td>27</td>\n      <td>Active Subscriber, SEASONAL</td>\n      <td>NaN</td>\n      <td>no</td>\n      <td>57.247037</td>\n    </tr>\n    <tr>\n      <th>shannen.norman23@hotmail.com</th>\n      <td>Shannen</td>\n      <td>Norman</td>\n      <td>NaN</td>\n      <td>19 rosewood ave</td>\n      <td>NaN</td>\n      <td>Wondunna</td>\n      <td>Queensland</td>\n      <td>QLD</td>\n      <td>Australia</td>\n      <td>AU</td>\n      <td>4655</td>\n      <td>0409 888 949</td>\n      <td>yes</td>\n      <td>1534.42</td>\n      <td>34</td>\n      <td>SEASONAL, Subscription card declined</td>\n      <td>NaN</td>\n      <td>no</td>\n      <td>45.130000</td>\n    </tr>\n    <tr>\n      <th>stevechrisbach@gmail.com</th>\n      <td>Christin</td>\n      <td>Bacharach</td>\n      <td>NaN</td>\n      <td>12075 Jessica Cir</td>\n      <td>NaN</td>\n      <td>Gulfport</td>\n      <td>Mississippi</td>\n      <td>MS</td>\n      <td>United States</td>\n      <td>US</td>\n      <td>39503</td>\n      <td>+16182104628</td>\n      <td>yes</td>\n      <td>1524.98</td>\n      <td>25</td>\n      <td>Active Subscriber, ANNUAL</td>\n      <td>NaN</td>\n      <td>no</td>\n      <td>60.999200</td>\n    </tr>\n    <tr>\n      <th>kristenclement@att.net</th>\n      <td>Kristen</td>\n      <td>Clement</td>\n      <td>NaN</td>\n      <td>1204 Wild Rd</td>\n      <td>NaN</td>\n      <td>Van Alstyne</td>\n      <td>Texas</td>\n      <td>TX</td>\n      <td>United States</td>\n      <td>US</td>\n      <td>75495</td>\n      <td>+12146740784</td>\n      <td>yes</td>\n      <td>1524.18</td>\n      <td>18</td>\n      <td>Active Subscriber, ANNUAL</td>\n      <td>NaN</td>\n      <td>no</td>\n      <td>84.676667</td>\n    </tr>\n    <tr>\n      <th>janicegram@aol.com</th>\n      <td>Janice</td>\n      <td>Graham</td>\n      <td>NaN</td>\n      <td>3168 Willow Tree Lane</td>\n      <td>NaN</td>\n      <td>Escondido</td>\n      <td>California</td>\n      <td>CA</td>\n      <td>United States</td>\n      <td>US</td>\n      <td>92027</td>\n      <td>+12033130438</td>\n      <td>yes</td>\n      <td>1520.86</td>\n      <td>16</td>\n      <td>Active Subscriber, SEASONAL</td>\n      <td>NaN</td>\n      <td>no</td>\n      <td>95.053750</td>\n    </tr>\n  </tbody>\n</table>\n</div>"
     },
     "execution_count": 52,
     "metadata": {},
     "output_type": "execute_result"
    }
   ],
   "source": [
    "top_50\n",
    "# export the top 50, then for each email (key), get all the items they purchased and do analysis"
   ],
   "metadata": {
    "collapsed": false,
    "pycharm": {
     "name": "#%%\n"
    }
   }
  },
  {
   "cell_type": "code",
   "execution_count": 53,
   "outputs": [],
   "source": [
    "top_50.to_csv('top_50_vips.csv')"
   ],
   "metadata": {
    "collapsed": false,
    "pycharm": {
     "name": "#%%\n"
    }
   }
  },
  {
   "cell_type": "code",
   "execution_count": 54,
   "outputs": [
    {
     "name": "stderr",
     "output_type": "stream",
     "text": [
      "C:\\Users\\jaesu\\PycharmProjects\\Analysis\\venv\\lib\\site-packages\\pandas\\core\\reshape\\concat.py:348: DtypeWarning: Columns (28) have mixed types.Specify dtype option on import or set low_memory=False.\n",
      "  objs = list(objs)\n",
      "C:\\Users\\jaesu\\PycharmProjects\\Analysis\\venv\\lib\\site-packages\\pandas\\core\\reshape\\concat.py:348: DtypeWarning: Columns (52) have mixed types.Specify dtype option on import or set low_memory=False.\n",
      "  objs = list(objs)\n",
      "C:\\Users\\jaesu\\PycharmProjects\\Analysis\\venv\\lib\\site-packages\\pandas\\core\\reshape\\concat.py:348: DtypeWarning: Columns (64) have mixed types.Specify dtype option on import or set low_memory=False.\n",
      "  objs = list(objs)\n"
     ]
    }
   ],
   "source": [
    "# get all orders data from shopify and combine to one dataset\n",
    "\n",
    "all_files = ['orders_export_1.csv', 'orders_export_2.csv', 'orders_export_3.csv']\n",
    "\n",
    "df_from_each_file = (pd.read_csv(f) for f in all_files)\n",
    "df = pd.concat(df_from_each_file, ignore_index=True)"
   ],
   "metadata": {
    "collapsed": false,
    "pycharm": {
     "name": "#%%\n"
    }
   }
  },
  {
   "cell_type": "code",
   "execution_count": 55,
   "outputs": [
    {
     "data": {
      "text/plain": "                              Email First Name   Last Name Company  \\\n0  josephine.sivertsson@hotmail.com  Josephine  Sivertsson     NaN   \n1  josephine.sivertsson@hotmail.com  Josephine  Sivertsson     NaN   \n2  josephine.sivertsson@hotmail.com  Josephine  Sivertsson     NaN   \n3  josephine.sivertsson@hotmail.com  Josephine  Sivertsson     NaN   \n4  josephine.sivertsson@hotmail.com  Josephine  Sivertsson     NaN   \n\n            Address1 Address2      City Province Province Code Country  ...  \\\n0  Bergslagsvagen 43      NaN  Finspang      NaN           NaN  Sweden  ...   \n1  Bergslagsvagen 43      NaN  Finspang      NaN           NaN  Sweden  ...   \n2  Bergslagsvagen 43      NaN  Finspang      NaN           NaN  Sweden  ...   \n3  Bergslagsvagen 43      NaN  Finspang      NaN           NaN  Sweden  ...   \n4  Bergslagsvagen 43      NaN  Finspang      NaN           NaN  Sweden  ...   \n\n  Tax 2 Value Tax 3 Name Tax 3 Value Tax 4 Name  Tax 4 Value  Tax 5 Name  \\\n0         NaN        NaN         NaN        NaN          NaN         NaN   \n1         NaN        NaN         NaN        NaN          NaN         NaN   \n2         NaN        NaN         NaN        NaN          NaN         NaN   \n3         NaN        NaN         NaN        NaN          NaN         NaN   \n4         NaN        NaN         NaN        NaN          NaN         NaN   \n\n  Tax 5 Value       Phone_y Receipt Number  Duties  \n0         NaN  4.673397e+10            NaN     NaN  \n1         NaN  4.673397e+10            NaN     NaN  \n2         NaN  4.673397e+10            NaN     NaN  \n3         NaN  4.673397e+10            NaN     NaN  \n4         NaN  4.673397e+10            NaN     NaN  \n\n[5 rows x 92 columns]",
      "text/html": "<div>\n<style scoped>\n    .dataframe tbody tr th:only-of-type {\n        vertical-align: middle;\n    }\n\n    .dataframe tbody tr th {\n        vertical-align: top;\n    }\n\n    .dataframe thead th {\n        text-align: right;\n    }\n</style>\n<table border=\"1\" class=\"dataframe\">\n  <thead>\n    <tr style=\"text-align: right;\">\n      <th></th>\n      <th>Email</th>\n      <th>First Name</th>\n      <th>Last Name</th>\n      <th>Company</th>\n      <th>Address1</th>\n      <th>Address2</th>\n      <th>City</th>\n      <th>Province</th>\n      <th>Province Code</th>\n      <th>Country</th>\n      <th>...</th>\n      <th>Tax 2 Value</th>\n      <th>Tax 3 Name</th>\n      <th>Tax 3 Value</th>\n      <th>Tax 4 Name</th>\n      <th>Tax 4 Value</th>\n      <th>Tax 5 Name</th>\n      <th>Tax 5 Value</th>\n      <th>Phone_y</th>\n      <th>Receipt Number</th>\n      <th>Duties</th>\n    </tr>\n  </thead>\n  <tbody>\n    <tr>\n      <th>0</th>\n      <td>josephine.sivertsson@hotmail.com</td>\n      <td>Josephine</td>\n      <td>Sivertsson</td>\n      <td>NaN</td>\n      <td>Bergslagsvagen 43</td>\n      <td>NaN</td>\n      <td>Finspang</td>\n      <td>NaN</td>\n      <td>NaN</td>\n      <td>Sweden</td>\n      <td>...</td>\n      <td>NaN</td>\n      <td>NaN</td>\n      <td>NaN</td>\n      <td>NaN</td>\n      <td>NaN</td>\n      <td>NaN</td>\n      <td>NaN</td>\n      <td>4.673397e+10</td>\n      <td>NaN</td>\n      <td>NaN</td>\n    </tr>\n    <tr>\n      <th>1</th>\n      <td>josephine.sivertsson@hotmail.com</td>\n      <td>Josephine</td>\n      <td>Sivertsson</td>\n      <td>NaN</td>\n      <td>Bergslagsvagen 43</td>\n      <td>NaN</td>\n      <td>Finspang</td>\n      <td>NaN</td>\n      <td>NaN</td>\n      <td>Sweden</td>\n      <td>...</td>\n      <td>NaN</td>\n      <td>NaN</td>\n      <td>NaN</td>\n      <td>NaN</td>\n      <td>NaN</td>\n      <td>NaN</td>\n      <td>NaN</td>\n      <td>4.673397e+10</td>\n      <td>NaN</td>\n      <td>NaN</td>\n    </tr>\n    <tr>\n      <th>2</th>\n      <td>josephine.sivertsson@hotmail.com</td>\n      <td>Josephine</td>\n      <td>Sivertsson</td>\n      <td>NaN</td>\n      <td>Bergslagsvagen 43</td>\n      <td>NaN</td>\n      <td>Finspang</td>\n      <td>NaN</td>\n      <td>NaN</td>\n      <td>Sweden</td>\n      <td>...</td>\n      <td>NaN</td>\n      <td>NaN</td>\n      <td>NaN</td>\n      <td>NaN</td>\n      <td>NaN</td>\n      <td>NaN</td>\n      <td>NaN</td>\n      <td>4.673397e+10</td>\n      <td>NaN</td>\n      <td>NaN</td>\n    </tr>\n    <tr>\n      <th>3</th>\n      <td>josephine.sivertsson@hotmail.com</td>\n      <td>Josephine</td>\n      <td>Sivertsson</td>\n      <td>NaN</td>\n      <td>Bergslagsvagen 43</td>\n      <td>NaN</td>\n      <td>Finspang</td>\n      <td>NaN</td>\n      <td>NaN</td>\n      <td>Sweden</td>\n      <td>...</td>\n      <td>NaN</td>\n      <td>NaN</td>\n      <td>NaN</td>\n      <td>NaN</td>\n      <td>NaN</td>\n      <td>NaN</td>\n      <td>NaN</td>\n      <td>4.673397e+10</td>\n      <td>NaN</td>\n      <td>NaN</td>\n    </tr>\n    <tr>\n      <th>4</th>\n      <td>josephine.sivertsson@hotmail.com</td>\n      <td>Josephine</td>\n      <td>Sivertsson</td>\n      <td>NaN</td>\n      <td>Bergslagsvagen 43</td>\n      <td>NaN</td>\n      <td>Finspang</td>\n      <td>NaN</td>\n      <td>NaN</td>\n      <td>Sweden</td>\n      <td>...</td>\n      <td>NaN</td>\n      <td>NaN</td>\n      <td>NaN</td>\n      <td>NaN</td>\n      <td>NaN</td>\n      <td>NaN</td>\n      <td>NaN</td>\n      <td>4.673397e+10</td>\n      <td>NaN</td>\n      <td>NaN</td>\n    </tr>\n  </tbody>\n</table>\n<p>5 rows × 92 columns</p>\n</div>"
     },
     "execution_count": 55,
     "metadata": {},
     "output_type": "execute_result"
    }
   ],
   "source": [
    "# for each email within the vip list, find all orders that has been made from them\n",
    "matched_df = top_50.merge(df, on='Email', how='inner')\n",
    "matched_df.head()"
   ],
   "metadata": {
    "collapsed": false,
    "pycharm": {
     "name": "#%%\n"
    }
   }
  },
  {
   "cell_type": "code",
   "execution_count": 56,
   "outputs": [],
   "source": [
    "matched_df = matched_df[['Email',  'First Name', 'Last Name', 'Address1', 'City', 'Province Code', 'Country', 'Country Code', 'Zip', 'Total Spent', 'AvgOrderValue', 'Total Orders', 'Tags_x', 'Vendor', 'Id', 'Lineitem name', 'Lineitem sku', 'Lineitem quantity', 'Lineitem price', 'Subtotal', 'Paid at', 'Discount Code']]"
   ],
   "metadata": {
    "collapsed": false,
    "pycharm": {
     "name": "#%%\n"
    }
   }
  },
  {
   "cell_type": "code",
   "execution_count": 57,
   "outputs": [
    {
     "data": {
      "text/plain": "                               Email First Name   Last Name  \\\n0   josephine.sivertsson@hotmail.com  Josephine  Sivertsson   \n1   josephine.sivertsson@hotmail.com  Josephine  Sivertsson   \n2   josephine.sivertsson@hotmail.com  Josephine  Sivertsson   \n3   josephine.sivertsson@hotmail.com  Josephine  Sivertsson   \n4   josephine.sivertsson@hotmail.com  Josephine  Sivertsson   \n5   josephine.sivertsson@hotmail.com  Josephine  Sivertsson   \n6   josephine.sivertsson@hotmail.com  Josephine  Sivertsson   \n7   josephine.sivertsson@hotmail.com  Josephine  Sivertsson   \n8   josephine.sivertsson@hotmail.com  Josephine  Sivertsson   \n9   josephine.sivertsson@hotmail.com  Josephine  Sivertsson   \n10  josephine.sivertsson@hotmail.com  Josephine  Sivertsson   \n11  josephine.sivertsson@hotmail.com  Josephine  Sivertsson   \n12  josephine.sivertsson@hotmail.com  Josephine  Sivertsson   \n13  josephine.sivertsson@hotmail.com  Josephine  Sivertsson   \n14  josephine.sivertsson@hotmail.com  Josephine  Sivertsson   \n15  josephine.sivertsson@hotmail.com  Josephine  Sivertsson   \n16  josephine.sivertsson@hotmail.com  Josephine  Sivertsson   \n17  josephine.sivertsson@hotmail.com  Josephine  Sivertsson   \n18  josephine.sivertsson@hotmail.com  Josephine  Sivertsson   \n19  josephine.sivertsson@hotmail.com  Josephine  Sivertsson   \n20  josephine.sivertsson@hotmail.com  Josephine  Sivertsson   \n21  josephine.sivertsson@hotmail.com  Josephine  Sivertsson   \n22  josephine.sivertsson@hotmail.com  Josephine  Sivertsson   \n23  josephine.sivertsson@hotmail.com  Josephine  Sivertsson   \n24  josephine.sivertsson@hotmail.com  Josephine  Sivertsson   \n25  josephine.sivertsson@hotmail.com  Josephine  Sivertsson   \n26  josephine.sivertsson@hotmail.com  Josephine  Sivertsson   \n27  josephine.sivertsson@hotmail.com  Josephine  Sivertsson   \n28  josephine.sivertsson@hotmail.com  Josephine  Sivertsson   \n29  josephine.sivertsson@hotmail.com  Josephine  Sivertsson   \n30  josephine.sivertsson@hotmail.com  Josephine  Sivertsson   \n31  josephine.sivertsson@hotmail.com  Josephine  Sivertsson   \n32  josephine.sivertsson@hotmail.com  Josephine  Sivertsson   \n33  josephine.sivertsson@hotmail.com  Josephine  Sivertsson   \n34  josephine.sivertsson@hotmail.com  Josephine  Sivertsson   \n35  josephine.sivertsson@hotmail.com  Josephine  Sivertsson   \n36  josephine.sivertsson@hotmail.com  Josephine  Sivertsson   \n37  josephine.sivertsson@hotmail.com  Josephine  Sivertsson   \n38  josephine.sivertsson@hotmail.com  Josephine  Sivertsson   \n39  josephine.sivertsson@hotmail.com  Josephine  Sivertsson   \n40  josephine.sivertsson@hotmail.com  Josephine  Sivertsson   \n41  josephine.sivertsson@hotmail.com  Josephine  Sivertsson   \n42  josephine.sivertsson@hotmail.com  Josephine  Sivertsson   \n43  josephine.sivertsson@hotmail.com  Josephine  Sivertsson   \n44  josephine.sivertsson@hotmail.com  Josephine  Sivertsson   \n45  josephine.sivertsson@hotmail.com  Josephine  Sivertsson   \n46  josephine.sivertsson@hotmail.com  Josephine  Sivertsson   \n47  josephine.sivertsson@hotmail.com  Josephine  Sivertsson   \n48  josephine.sivertsson@hotmail.com  Josephine  Sivertsson   \n49  josephine.sivertsson@hotmail.com  Josephine  Sivertsson   \n\n             Address1      City Province Code Country Country Code    Zip  \\\n0   Bergslagsvagen 43  Finspang           NaN  Sweden           SE  61236   \n1   Bergslagsvagen 43  Finspang           NaN  Sweden           SE  61236   \n2   Bergslagsvagen 43  Finspang           NaN  Sweden           SE  61236   \n3   Bergslagsvagen 43  Finspang           NaN  Sweden           SE  61236   \n4   Bergslagsvagen 43  Finspang           NaN  Sweden           SE  61236   \n5   Bergslagsvagen 43  Finspang           NaN  Sweden           SE  61236   \n6   Bergslagsvagen 43  Finspang           NaN  Sweden           SE  61236   \n7   Bergslagsvagen 43  Finspang           NaN  Sweden           SE  61236   \n8   Bergslagsvagen 43  Finspang           NaN  Sweden           SE  61236   \n9   Bergslagsvagen 43  Finspang           NaN  Sweden           SE  61236   \n10  Bergslagsvagen 43  Finspang           NaN  Sweden           SE  61236   \n11  Bergslagsvagen 43  Finspang           NaN  Sweden           SE  61236   \n12  Bergslagsvagen 43  Finspang           NaN  Sweden           SE  61236   \n13  Bergslagsvagen 43  Finspang           NaN  Sweden           SE  61236   \n14  Bergslagsvagen 43  Finspang           NaN  Sweden           SE  61236   \n15  Bergslagsvagen 43  Finspang           NaN  Sweden           SE  61236   \n16  Bergslagsvagen 43  Finspang           NaN  Sweden           SE  61236   \n17  Bergslagsvagen 43  Finspang           NaN  Sweden           SE  61236   \n18  Bergslagsvagen 43  Finspang           NaN  Sweden           SE  61236   \n19  Bergslagsvagen 43  Finspang           NaN  Sweden           SE  61236   \n20  Bergslagsvagen 43  Finspang           NaN  Sweden           SE  61236   \n21  Bergslagsvagen 43  Finspang           NaN  Sweden           SE  61236   \n22  Bergslagsvagen 43  Finspang           NaN  Sweden           SE  61236   \n23  Bergslagsvagen 43  Finspang           NaN  Sweden           SE  61236   \n24  Bergslagsvagen 43  Finspang           NaN  Sweden           SE  61236   \n25  Bergslagsvagen 43  Finspang           NaN  Sweden           SE  61236   \n26  Bergslagsvagen 43  Finspang           NaN  Sweden           SE  61236   \n27  Bergslagsvagen 43  Finspang           NaN  Sweden           SE  61236   \n28  Bergslagsvagen 43  Finspang           NaN  Sweden           SE  61236   \n29  Bergslagsvagen 43  Finspang           NaN  Sweden           SE  61236   \n30  Bergslagsvagen 43  Finspang           NaN  Sweden           SE  61236   \n31  Bergslagsvagen 43  Finspang           NaN  Sweden           SE  61236   \n32  Bergslagsvagen 43  Finspang           NaN  Sweden           SE  61236   \n33  Bergslagsvagen 43  Finspang           NaN  Sweden           SE  61236   \n34  Bergslagsvagen 43  Finspang           NaN  Sweden           SE  61236   \n35  Bergslagsvagen 43  Finspang           NaN  Sweden           SE  61236   \n36  Bergslagsvagen 43  Finspang           NaN  Sweden           SE  61236   \n37  Bergslagsvagen 43  Finspang           NaN  Sweden           SE  61236   \n38  Bergslagsvagen 43  Finspang           NaN  Sweden           SE  61236   \n39  Bergslagsvagen 43  Finspang           NaN  Sweden           SE  61236   \n40  Bergslagsvagen 43  Finspang           NaN  Sweden           SE  61236   \n41  Bergslagsvagen 43  Finspang           NaN  Sweden           SE  61236   \n42  Bergslagsvagen 43  Finspang           NaN  Sweden           SE  61236   \n43  Bergslagsvagen 43  Finspang           NaN  Sweden           SE  61236   \n44  Bergslagsvagen 43  Finspang           NaN  Sweden           SE  61236   \n45  Bergslagsvagen 43  Finspang           NaN  Sweden           SE  61236   \n46  Bergslagsvagen 43  Finspang           NaN  Sweden           SE  61236   \n47  Bergslagsvagen 43  Finspang           NaN  Sweden           SE  61236   \n48  Bergslagsvagen 43  Finspang           NaN  Sweden           SE  61236   \n49  Bergslagsvagen 43  Finspang           NaN  Sweden           SE  61236   \n\n    Total Spent  ...                                 Tags_x  \\\n0       3928.35  ...  Active Subscriber, ANNUAL, newsletter   \n1       3928.35  ...  Active Subscriber, ANNUAL, newsletter   \n2       3928.35  ...  Active Subscriber, ANNUAL, newsletter   \n3       3928.35  ...  Active Subscriber, ANNUAL, newsletter   \n4       3928.35  ...  Active Subscriber, ANNUAL, newsletter   \n5       3928.35  ...  Active Subscriber, ANNUAL, newsletter   \n6       3928.35  ...  Active Subscriber, ANNUAL, newsletter   \n7       3928.35  ...  Active Subscriber, ANNUAL, newsletter   \n8       3928.35  ...  Active Subscriber, ANNUAL, newsletter   \n9       3928.35  ...  Active Subscriber, ANNUAL, newsletter   \n10      3928.35  ...  Active Subscriber, ANNUAL, newsletter   \n11      3928.35  ...  Active Subscriber, ANNUAL, newsletter   \n12      3928.35  ...  Active Subscriber, ANNUAL, newsletter   \n13      3928.35  ...  Active Subscriber, ANNUAL, newsletter   \n14      3928.35  ...  Active Subscriber, ANNUAL, newsletter   \n15      3928.35  ...  Active Subscriber, ANNUAL, newsletter   \n16      3928.35  ...  Active Subscriber, ANNUAL, newsletter   \n17      3928.35  ...  Active Subscriber, ANNUAL, newsletter   \n18      3928.35  ...  Active Subscriber, ANNUAL, newsletter   \n19      3928.35  ...  Active Subscriber, ANNUAL, newsletter   \n20      3928.35  ...  Active Subscriber, ANNUAL, newsletter   \n21      3928.35  ...  Active Subscriber, ANNUAL, newsletter   \n22      3928.35  ...  Active Subscriber, ANNUAL, newsletter   \n23      3928.35  ...  Active Subscriber, ANNUAL, newsletter   \n24      3928.35  ...  Active Subscriber, ANNUAL, newsletter   \n25      3928.35  ...  Active Subscriber, ANNUAL, newsletter   \n26      3928.35  ...  Active Subscriber, ANNUAL, newsletter   \n27      3928.35  ...  Active Subscriber, ANNUAL, newsletter   \n28      3928.35  ...  Active Subscriber, ANNUAL, newsletter   \n29      3928.35  ...  Active Subscriber, ANNUAL, newsletter   \n30      3928.35  ...  Active Subscriber, ANNUAL, newsletter   \n31      3928.35  ...  Active Subscriber, ANNUAL, newsletter   \n32      3928.35  ...  Active Subscriber, ANNUAL, newsletter   \n33      3928.35  ...  Active Subscriber, ANNUAL, newsletter   \n34      3928.35  ...  Active Subscriber, ANNUAL, newsletter   \n35      3928.35  ...  Active Subscriber, ANNUAL, newsletter   \n36      3928.35  ...  Active Subscriber, ANNUAL, newsletter   \n37      3928.35  ...  Active Subscriber, ANNUAL, newsletter   \n38      3928.35  ...  Active Subscriber, ANNUAL, newsletter   \n39      3928.35  ...  Active Subscriber, ANNUAL, newsletter   \n40      3928.35  ...  Active Subscriber, ANNUAL, newsletter   \n41      3928.35  ...  Active Subscriber, ANNUAL, newsletter   \n42      3928.35  ...  Active Subscriber, ANNUAL, newsletter   \n43      3928.35  ...  Active Subscriber, ANNUAL, newsletter   \n44      3928.35  ...  Active Subscriber, ANNUAL, newsletter   \n45      3928.35  ...  Active Subscriber, ANNUAL, newsletter   \n46      3928.35  ...  Active Subscriber, ANNUAL, newsletter   \n47      3928.35  ...  Active Subscriber, ANNUAL, newsletter   \n48      3928.35  ...  Active Subscriber, ANNUAL, newsletter   \n49      3928.35  ...  Active Subscriber, ANNUAL, newsletter   \n\n                Vendor            Id  \\\n0           STRAY KIDS  2.968210e+12   \n1                Route           NaN   \n2                  BoA  2.967275e+12   \n3            BLACKPINK           NaN   \n4                Route           NaN   \n5   The Daebak Company  2.930572e+12   \n6   The Daebak Company  2.930535e+12   \n7                Route           NaN   \n8           Daebak Box  2.919386e+12   \n9   The Daebak Company  2.895230e+12   \n10  The Daebak Company           NaN   \n11               BALIT           NaN   \n12         Etude House           NaN   \n13               Route           NaN   \n14                 tvN  2.867914e+12   \n15            TREASURE  2.867903e+12   \n16              SuperM  2.843388e+12   \n17                B1A4  2.804000e+12   \n18                 NCT  2.779551e+12   \n19       JUNG YONG HWA  2.772794e+12   \n20            INFINITE           NaN   \n21                 BTS  2.772644e+12   \n22                 tvN  2.764634e+12   \n23              LEMONA  2.762011e+12   \n24            TREASURE  2.741460e+12   \n25  The Daebak Company  2.730563e+12   \n26  The Daebak Company  2.715839e+12   \n27          TDC Add-on  2.708326e+12   \n28          TDC Add-on           NaN   \n29          TDC Add-on           NaN   \n30  The Daebak Company  2.693602e+12   \n31  The Daebak Company  2.693583e+12   \n32  The Daebak Company  2.693573e+12   \n33  The Daebak Company  2.684250e+12   \n34  The Daebak Company  2.684246e+12   \n35  The Daebak Company  2.683801e+12   \n36        JEONG SEWOON  2.672026e+12   \n37               ONEUS           NaN   \n38               ONEUS           NaN   \n39            INFINITE           NaN   \n40            INFINITE           NaN   \n41          STRAY KIDS  2.669920e+12   \n42        LINE FRIENDS  2.667595e+12   \n43          Daebak Box  2.657189e+12   \n44               ATEEZ  2.633913e+12   \n45              LEMONA           NaN   \n46             Dongsuh           NaN   \n47  The Daebak Company           NaN   \n48        LINE FRIENDS  2.633891e+12   \n49   GIRLS' GENERATION  2.569905e+12   \n\n                                        Lineitem name  \\\n0      [Pre-Order] STRAY KIDS 2021 Season's Greetings   \n1                    Route Package Protection - $0.98   \n2                            BoA Official Light Stick   \n3   BLACKPINK Official Light Stick Ver.2 (Limited ...   \n4                    Route Package Protection - $2.55   \n5   Esther Bunny is Daebak - Annual Auto renew (Sh...   \n6   CJ is Daebak - Annual Auto renew (Ships every ...   \n7                    Route Package Protection - $3.35   \n8   Annual (ships once every season, auto-renews e...   \n9     Flower Pattern Mask 2ea - Sky Blue / Ivory Pink   \n10  Traditional Korean Stuffed Mid-Length Socks (3ea)   \n11  VOS Night and Day Face Moisturizer - 50g Every...   \n12  [Limited Edition] HERSHEY’S Play Color Eyes Mi...   \n13                   Route Package Protection - $0.98   \n14  It's Okay to Not Be Okay / Koo Moon Young Fair...   \n15  [Pre-Order] TREASURE - The First Step: Chapter...   \n16  [Pre-Order] SuperM - Super One (1st Album) - R...   \n17  [Pre-Order] B1A4 - Origine (4th Album) 3-SET -...   \n18  [Pre-Order] NCT 2020: RESONANCE Pt. 1 (Full Al...   \n19                 JUNG YONG HWA Official Light Stick   \n20  [Limited Edition] INFINITE Official Collection...   \n21              [Pre-Order] BTS - BE (Deluxe Edition)   \n22  It's Okay to Not Be Okay / Koo Moon Young Fair...   \n23  BTS Special Edition Refreshing Vitamin Lemona ...   \n24  [Pre-Order] TREASURE - The First Step: Chapter...   \n25                                 MEDIHEAL is Daebak   \n26  BTS Chilsung Cider (pk of 3) with a mystery snack   \n27           [Fall Add-on] TiO Iced Tea (18T) - Apple   \n28    [Fall Add-on] Kakao Friends Boat Pouch - Apeach   \n29      [Fall Add-on] Kakao Friends Boat Pouch - Ryan   \n30                                 Summer Mystery Box   \n31  BTS Chilsung Cider (pk of 3) with a mystery sn...   \n32  BTS Chilsung Cider (pk of 3) with a mystery sn...   \n33  BTS Chilsung Cider (pk of 3) with a mystery sn...   \n34                                 Summer Mystery Box   \n35  BTS Chilsung Cider (pk of 3) with a mystery sn...   \n36                  JEONG SEWOON Official Light Stick   \n37       ONEUS - Lived (4th Mini Album) - With Poster   \n38             ONEUS - In Its Time (1st Single Album)   \n39                   INFINITE - Top Speed (3rd Album)   \n40  [Limited Edition] INFINITE Official Collection...   \n41  [Pre-Order] STRAY KIDS - IN生 (Limited Version)...   \n42                                   LINE FRIENDS BOX   \n43  Annual (ships once every season, auto-renews e...   \n44                         ATEEZ Official Light Stick   \n45                           BTS LEMONA Ver.Heart Can   \n46                     TiO Iced Tea (40T) - Blueberry   \n47                                 Summer Mystery Box   \n48                                   LINE FRIENDS BOX   \n49             GIRLS' GENERATION Official Light Stick   \n\n                                         Lineitem sku Lineitem quantity  \\\n0   Album Set - 140110 - STRAY KIDS - 스트레이 키즈 2021...                 1   \n1                                          ROUTEINS10                 1   \n2          Lightstick - 120006\\t- BoA - 보아 공식응원봉 - DA                 1   \n3   Lightstick - 120049 - BLACKPINK - 블랙핑크 공식 응원봉 ...                 1   \n4                                          ROUTEINS18                 1   \n5                     Esther Bunny is Daebak - Annual                 1   \n6                               CJ is Daebak - Annual                 1   \n7                                          ROUTEINS22                 1   \n8                                          DBB_Annual                 1   \n9   Health - 150037 - The Daebak Company - Flower ...                 1   \n10  Fashion - 31712 - The Daebak Company - 명품 요술버선...                 1   \n11        Beauty - 20366 - BALIT- 발릿 브이오에스 퍼밍 크림 - ET                 1   \n12  Beauty - 21296 - ETUDE - 허쉬 플레이 컬러 아이즈 미니 - 오리...                 1   \n13                                         ROUTEINS10                 1   \n14  K-Drama - 90021 - tvN - 사이코지만 괜찮아 고문영 동화 책 도서 ...                 1   \n15  Album - 70743 - TREASURE - 트레저 The First Step:...                 1   \n16  Album - 70723 - SuperM - 슈퍼엠 Super One 정규1집 - ...                 1   \n17  Album Set - 140046 - B1A4 - 비원에이포 Origine 정규4집...                 1   \n18  Album - 70669 - NCT - NCT 2020: RESONANCE Pt. ...                 1   \n19  Lightstick - 120032 - JUNG YONG HWA - 정용화 공식 응...                 1   \n20  K-Pop - 80001\\t- INFINITE - 인피니트 오피셜 컬렉션카드 VOL...                 1   \n21  Album - 70683 - BTS - 방탄소년단 BE (Deluxe Edition...                 1   \n22  K-Drama - 90018 - tvN - 사이코지만 괜찮아 고문영 동화 책 도서 ...                 1   \n23  Health - 150064 - LEMONA - BTS 스페셜 에디션 레모나 드링크...                 1   \n24  Album - 70626 - TREASURE - 트레저 The First Step:...                 1   \n25                                   MEDIHEALISDAEBAK                 1   \n26                                          BTS CIDER                 1   \n27    Food Pack - 50010 - DongSuh - 동서 티오 아이스티 애플 18T                 1   \n28  Characters - 10234 - Kakao Friends - 카카오프렌즈 보트...                 1   \n29  Characters - 10233 - Kakao Friends - 카카오프렌즈 보트...                 1   \n30                                                NaN                 1   \n31                                          BTS CIDER                 1   \n32                                          BTS CIDER                 1   \n33                                          BTS CIDER                 1   \n34                                                NaN                 1   \n35                                          BTS CIDER                 1   \n36  Lightstick - 120014\\t- JEONG SEWOON - 정세운 공식응원...                 1   \n37  Album - 70550 - ONEUS - 원어스 Lived 미니4집 - Album...                 1   \n38       Album - 70334 - ONEUS - 원어스 In Its Time - DA                 1   \n39     Album - 70214 - INFINITE - 인피니트 Top Speed - DA                 1   \n40  K-Pop - 80001\\t- INFINITE - 인피니트 오피셜 컬렉션카드 VOL...                 1   \n41  Album - 70600 - STRAY KIDS - 스트레이 키즈 IN生 (한정반)...                 1   \n42                               LFB-LINE FRIENDS BOX                 1   \n43                                         DBB_Annual                 1   \n44    Lightstick - 120004\\t- ATEEZ - 에이티즈 공식 응원봉 - DA                 1   \n45                Health - 150002 - LEMONA - 레모나 하트 캔                 1   \n46  Food Pack - 50015 - DongSuh - 동서 티오 아이스티 블루베리 40T                 1   \n47                                                NaN                 1   \n48                               LFB-LINE FRIENDS BOX                 1   \n49                                   SM-DA-소녀시대 공식응원봉                 1   \n\n   Lineitem price  Subtotal                    Paid at     Discount Code  \n0           69.99     60.97  2020-12-08 01:30:54 -0500      52b54d8faef5  \n1            0.98       NaN                        NaN               NaN  \n2           54.00    120.22  2020-12-07 17:26:23 -0500             ADEQA  \n3           69.99       NaN                        NaN               NaN  \n4            2.55       NaN                        NaN               NaN  \n5          259.96    259.96  2020-11-26 10:31:45 -0500               NaN  \n6          159.96    163.31  2020-11-26 10:15:20 -0500               NaN  \n7            3.35       NaN                        NaN               NaN  \n8            0.00      0.00                        NaN               NaN  \n9           23.99     96.09  2020-11-11 11:48:47 -0500               NaN  \n10          32.00       NaN                        NaN               NaN  \n11          24.99       NaN                        NaN               NaN  \n12          26.00       NaN                        NaN               NaN  \n13           0.98       NaN                        NaN               NaN  \n14          55.99     55.99  2020-10-28 16:42:59 -0400               NaN  \n15          29.99     29.99  2020-10-28 16:37:57 -0400               NaN  \n16          32.99     32.99  2020-10-19 12:44:08 -0400               NaN  \n17         104.80    104.80  2020-10-06 17:00:03 -0400               NaN  \n18          28.99     28.99  2020-09-29 15:34:55 -0400               NaN  \n19          69.99    112.98  2020-09-28 12:29:18 -0400               NaN  \n20          42.99       NaN                        NaN               NaN  \n21          59.95     59.95  2020-09-28 11:38:05 -0400               NaN  \n22         124.95    114.95  2020-09-27 03:31:38 -0400      ab014ba9243e  \n23          48.00     48.00  2020-09-26 06:30:06 -0400               NaN  \n24          25.99     25.99  2020-09-20 16:59:56 -0400               NaN  \n25          54.99     49.50  2020-09-16 10:01:18 -0400          MEDIHEAL  \n26          17.99     17.99  2020-09-11 12:42:49 -0400               NaN  \n27           8.95     38.93  2020-09-09 01:40:27 -0400         FALLADDON  \n28          14.99       NaN                        NaN               NaN  \n29          14.99       NaN                        NaN               NaN  \n30          36.99     36.99  2020-09-04 05:30:38 -0400               NaN  \n31          17.99     17.99  2020-09-04 05:18:38 -0400               NaN  \n32          17.99     17.99  2020-09-04 05:09:59 -0400               NaN  \n33          17.99     17.99  2020-09-01 06:04:19 -0400               NaN  \n34          36.99     26.99  2020-09-01 06:02:14 -0400      d9fa90f0e7bd  \n35          17.99     17.99  2020-09-01 01:29:04 -0400               NaN  \n36          51.99    163.95  2020-08-27 18:58:54 -0400      044e91a3759c  \n37          24.99       NaN                        NaN               NaN  \n38          22.99       NaN                        NaN               NaN  \n39          30.99       NaN                        NaN               NaN  \n40          42.99       NaN                        NaN               NaN  \n41          29.99     29.99  2020-08-27 00:34:53 -0400               NaN  \n42          36.00     36.00  2020-08-26 05:59:15 -0400  JS_FREESHIPPING1  \n43         179.96    179.96  2020-08-22 04:34:19 -0400               NaN  \n44          72.99    112.97  2020-08-14 07:25:19 -0400               KAI  \n45          26.99       NaN                        NaN               NaN  \n46          20.00       NaN                        NaN               NaN  \n47          27.99       NaN                        NaN               NaN  \n48          29.00     29.00  2020-08-14 07:11:26 -0400  JS_FREESHIPPING1  \n49          51.99    118.49  2020-07-22 18:42:37 -0400               NaN  \n\n[50 rows x 22 columns]",
      "text/html": "<div>\n<style scoped>\n    .dataframe tbody tr th:only-of-type {\n        vertical-align: middle;\n    }\n\n    .dataframe tbody tr th {\n        vertical-align: top;\n    }\n\n    .dataframe thead th {\n        text-align: right;\n    }\n</style>\n<table border=\"1\" class=\"dataframe\">\n  <thead>\n    <tr style=\"text-align: right;\">\n      <th></th>\n      <th>Email</th>\n      <th>First Name</th>\n      <th>Last Name</th>\n      <th>Address1</th>\n      <th>City</th>\n      <th>Province Code</th>\n      <th>Country</th>\n      <th>Country Code</th>\n      <th>Zip</th>\n      <th>Total Spent</th>\n      <th>...</th>\n      <th>Tags_x</th>\n      <th>Vendor</th>\n      <th>Id</th>\n      <th>Lineitem name</th>\n      <th>Lineitem sku</th>\n      <th>Lineitem quantity</th>\n      <th>Lineitem price</th>\n      <th>Subtotal</th>\n      <th>Paid at</th>\n      <th>Discount Code</th>\n    </tr>\n  </thead>\n  <tbody>\n    <tr>\n      <th>0</th>\n      <td>josephine.sivertsson@hotmail.com</td>\n      <td>Josephine</td>\n      <td>Sivertsson</td>\n      <td>Bergslagsvagen 43</td>\n      <td>Finspang</td>\n      <td>NaN</td>\n      <td>Sweden</td>\n      <td>SE</td>\n      <td>61236</td>\n      <td>3928.35</td>\n      <td>...</td>\n      <td>Active Subscriber, ANNUAL, newsletter</td>\n      <td>STRAY KIDS</td>\n      <td>2.968210e+12</td>\n      <td>[Pre-Order] STRAY KIDS 2021 Season's Greetings</td>\n      <td>Album Set - 140110 - STRAY KIDS - 스트레이 키즈 2021...</td>\n      <td>1</td>\n      <td>69.99</td>\n      <td>60.97</td>\n      <td>2020-12-08 01:30:54 -0500</td>\n      <td>52b54d8faef5</td>\n    </tr>\n    <tr>\n      <th>1</th>\n      <td>josephine.sivertsson@hotmail.com</td>\n      <td>Josephine</td>\n      <td>Sivertsson</td>\n      <td>Bergslagsvagen 43</td>\n      <td>Finspang</td>\n      <td>NaN</td>\n      <td>Sweden</td>\n      <td>SE</td>\n      <td>61236</td>\n      <td>3928.35</td>\n      <td>...</td>\n      <td>Active Subscriber, ANNUAL, newsletter</td>\n      <td>Route</td>\n      <td>NaN</td>\n      <td>Route Package Protection - $0.98</td>\n      <td>ROUTEINS10</td>\n      <td>1</td>\n      <td>0.98</td>\n      <td>NaN</td>\n      <td>NaN</td>\n      <td>NaN</td>\n    </tr>\n    <tr>\n      <th>2</th>\n      <td>josephine.sivertsson@hotmail.com</td>\n      <td>Josephine</td>\n      <td>Sivertsson</td>\n      <td>Bergslagsvagen 43</td>\n      <td>Finspang</td>\n      <td>NaN</td>\n      <td>Sweden</td>\n      <td>SE</td>\n      <td>61236</td>\n      <td>3928.35</td>\n      <td>...</td>\n      <td>Active Subscriber, ANNUAL, newsletter</td>\n      <td>BoA</td>\n      <td>2.967275e+12</td>\n      <td>BoA Official Light Stick</td>\n      <td>Lightstick - 120006\\t- BoA - 보아 공식응원봉 - DA</td>\n      <td>1</td>\n      <td>54.00</td>\n      <td>120.22</td>\n      <td>2020-12-07 17:26:23 -0500</td>\n      <td>ADEQA</td>\n    </tr>\n    <tr>\n      <th>3</th>\n      <td>josephine.sivertsson@hotmail.com</td>\n      <td>Josephine</td>\n      <td>Sivertsson</td>\n      <td>Bergslagsvagen 43</td>\n      <td>Finspang</td>\n      <td>NaN</td>\n      <td>Sweden</td>\n      <td>SE</td>\n      <td>61236</td>\n      <td>3928.35</td>\n      <td>...</td>\n      <td>Active Subscriber, ANNUAL, newsletter</td>\n      <td>BLACKPINK</td>\n      <td>NaN</td>\n      <td>BLACKPINK Official Light Stick Ver.2 (Limited ...</td>\n      <td>Lightstick - 120049 - BLACKPINK - 블랙핑크 공식 응원봉 ...</td>\n      <td>1</td>\n      <td>69.99</td>\n      <td>NaN</td>\n      <td>NaN</td>\n      <td>NaN</td>\n    </tr>\n    <tr>\n      <th>4</th>\n      <td>josephine.sivertsson@hotmail.com</td>\n      <td>Josephine</td>\n      <td>Sivertsson</td>\n      <td>Bergslagsvagen 43</td>\n      <td>Finspang</td>\n      <td>NaN</td>\n      <td>Sweden</td>\n      <td>SE</td>\n      <td>61236</td>\n      <td>3928.35</td>\n      <td>...</td>\n      <td>Active Subscriber, ANNUAL, newsletter</td>\n      <td>Route</td>\n      <td>NaN</td>\n      <td>Route Package Protection - $2.55</td>\n      <td>ROUTEINS18</td>\n      <td>1</td>\n      <td>2.55</td>\n      <td>NaN</td>\n      <td>NaN</td>\n      <td>NaN</td>\n    </tr>\n    <tr>\n      <th>5</th>\n      <td>josephine.sivertsson@hotmail.com</td>\n      <td>Josephine</td>\n      <td>Sivertsson</td>\n      <td>Bergslagsvagen 43</td>\n      <td>Finspang</td>\n      <td>NaN</td>\n      <td>Sweden</td>\n      <td>SE</td>\n      <td>61236</td>\n      <td>3928.35</td>\n      <td>...</td>\n      <td>Active Subscriber, ANNUAL, newsletter</td>\n      <td>The Daebak Company</td>\n      <td>2.930572e+12</td>\n      <td>Esther Bunny is Daebak - Annual Auto renew (Sh...</td>\n      <td>Esther Bunny is Daebak - Annual</td>\n      <td>1</td>\n      <td>259.96</td>\n      <td>259.96</td>\n      <td>2020-11-26 10:31:45 -0500</td>\n      <td>NaN</td>\n    </tr>\n    <tr>\n      <th>6</th>\n      <td>josephine.sivertsson@hotmail.com</td>\n      <td>Josephine</td>\n      <td>Sivertsson</td>\n      <td>Bergslagsvagen 43</td>\n      <td>Finspang</td>\n      <td>NaN</td>\n      <td>Sweden</td>\n      <td>SE</td>\n      <td>61236</td>\n      <td>3928.35</td>\n      <td>...</td>\n      <td>Active Subscriber, ANNUAL, newsletter</td>\n      <td>The Daebak Company</td>\n      <td>2.930535e+12</td>\n      <td>CJ is Daebak - Annual Auto renew (Ships every ...</td>\n      <td>CJ is Daebak - Annual</td>\n      <td>1</td>\n      <td>159.96</td>\n      <td>163.31</td>\n      <td>2020-11-26 10:15:20 -0500</td>\n      <td>NaN</td>\n    </tr>\n    <tr>\n      <th>7</th>\n      <td>josephine.sivertsson@hotmail.com</td>\n      <td>Josephine</td>\n      <td>Sivertsson</td>\n      <td>Bergslagsvagen 43</td>\n      <td>Finspang</td>\n      <td>NaN</td>\n      <td>Sweden</td>\n      <td>SE</td>\n      <td>61236</td>\n      <td>3928.35</td>\n      <td>...</td>\n      <td>Active Subscriber, ANNUAL, newsletter</td>\n      <td>Route</td>\n      <td>NaN</td>\n      <td>Route Package Protection - $3.35</td>\n      <td>ROUTEINS22</td>\n      <td>1</td>\n      <td>3.35</td>\n      <td>NaN</td>\n      <td>NaN</td>\n      <td>NaN</td>\n    </tr>\n    <tr>\n      <th>8</th>\n      <td>josephine.sivertsson@hotmail.com</td>\n      <td>Josephine</td>\n      <td>Sivertsson</td>\n      <td>Bergslagsvagen 43</td>\n      <td>Finspang</td>\n      <td>NaN</td>\n      <td>Sweden</td>\n      <td>SE</td>\n      <td>61236</td>\n      <td>3928.35</td>\n      <td>...</td>\n      <td>Active Subscriber, ANNUAL, newsletter</td>\n      <td>Daebak Box</td>\n      <td>2.919386e+12</td>\n      <td>Annual (ships once every season, auto-renews e...</td>\n      <td>DBB_Annual</td>\n      <td>1</td>\n      <td>0.00</td>\n      <td>0.00</td>\n      <td>NaN</td>\n      <td>NaN</td>\n    </tr>\n    <tr>\n      <th>9</th>\n      <td>josephine.sivertsson@hotmail.com</td>\n      <td>Josephine</td>\n      <td>Sivertsson</td>\n      <td>Bergslagsvagen 43</td>\n      <td>Finspang</td>\n      <td>NaN</td>\n      <td>Sweden</td>\n      <td>SE</td>\n      <td>61236</td>\n      <td>3928.35</td>\n      <td>...</td>\n      <td>Active Subscriber, ANNUAL, newsletter</td>\n      <td>The Daebak Company</td>\n      <td>2.895230e+12</td>\n      <td>Flower Pattern Mask 2ea - Sky Blue / Ivory Pink</td>\n      <td>Health - 150037 - The Daebak Company - Flower ...</td>\n      <td>1</td>\n      <td>23.99</td>\n      <td>96.09</td>\n      <td>2020-11-11 11:48:47 -0500</td>\n      <td>NaN</td>\n    </tr>\n    <tr>\n      <th>10</th>\n      <td>josephine.sivertsson@hotmail.com</td>\n      <td>Josephine</td>\n      <td>Sivertsson</td>\n      <td>Bergslagsvagen 43</td>\n      <td>Finspang</td>\n      <td>NaN</td>\n      <td>Sweden</td>\n      <td>SE</td>\n      <td>61236</td>\n      <td>3928.35</td>\n      <td>...</td>\n      <td>Active Subscriber, ANNUAL, newsletter</td>\n      <td>The Daebak Company</td>\n      <td>NaN</td>\n      <td>Traditional Korean Stuffed Mid-Length Socks (3ea)</td>\n      <td>Fashion - 31712 - The Daebak Company - 명품 요술버선...</td>\n      <td>1</td>\n      <td>32.00</td>\n      <td>NaN</td>\n      <td>NaN</td>\n      <td>NaN</td>\n    </tr>\n    <tr>\n      <th>11</th>\n      <td>josephine.sivertsson@hotmail.com</td>\n      <td>Josephine</td>\n      <td>Sivertsson</td>\n      <td>Bergslagsvagen 43</td>\n      <td>Finspang</td>\n      <td>NaN</td>\n      <td>Sweden</td>\n      <td>SE</td>\n      <td>61236</td>\n      <td>3928.35</td>\n      <td>...</td>\n      <td>Active Subscriber, ANNUAL, newsletter</td>\n      <td>BALIT</td>\n      <td>NaN</td>\n      <td>VOS Night and Day Face Moisturizer - 50g Every...</td>\n      <td>Beauty - 20366 - BALIT- 발릿 브이오에스 퍼밍 크림 - ET</td>\n      <td>1</td>\n      <td>24.99</td>\n      <td>NaN</td>\n      <td>NaN</td>\n      <td>NaN</td>\n    </tr>\n    <tr>\n      <th>12</th>\n      <td>josephine.sivertsson@hotmail.com</td>\n      <td>Josephine</td>\n      <td>Sivertsson</td>\n      <td>Bergslagsvagen 43</td>\n      <td>Finspang</td>\n      <td>NaN</td>\n      <td>Sweden</td>\n      <td>SE</td>\n      <td>61236</td>\n      <td>3928.35</td>\n      <td>...</td>\n      <td>Active Subscriber, ANNUAL, newsletter</td>\n      <td>Etude House</td>\n      <td>NaN</td>\n      <td>[Limited Edition] HERSHEY’S Play Color Eyes Mi...</td>\n      <td>Beauty - 21296 - ETUDE - 허쉬 플레이 컬러 아이즈 미니 - 오리...</td>\n      <td>1</td>\n      <td>26.00</td>\n      <td>NaN</td>\n      <td>NaN</td>\n      <td>NaN</td>\n    </tr>\n    <tr>\n      <th>13</th>\n      <td>josephine.sivertsson@hotmail.com</td>\n      <td>Josephine</td>\n      <td>Sivertsson</td>\n      <td>Bergslagsvagen 43</td>\n      <td>Finspang</td>\n      <td>NaN</td>\n      <td>Sweden</td>\n      <td>SE</td>\n      <td>61236</td>\n      <td>3928.35</td>\n      <td>...</td>\n      <td>Active Subscriber, ANNUAL, newsletter</td>\n      <td>Route</td>\n      <td>NaN</td>\n      <td>Route Package Protection - $0.98</td>\n      <td>ROUTEINS10</td>\n      <td>1</td>\n      <td>0.98</td>\n      <td>NaN</td>\n      <td>NaN</td>\n      <td>NaN</td>\n    </tr>\n    <tr>\n      <th>14</th>\n      <td>josephine.sivertsson@hotmail.com</td>\n      <td>Josephine</td>\n      <td>Sivertsson</td>\n      <td>Bergslagsvagen 43</td>\n      <td>Finspang</td>\n      <td>NaN</td>\n      <td>Sweden</td>\n      <td>SE</td>\n      <td>61236</td>\n      <td>3928.35</td>\n      <td>...</td>\n      <td>Active Subscriber, ANNUAL, newsletter</td>\n      <td>tvN</td>\n      <td>2.867914e+12</td>\n      <td>It's Okay to Not Be Okay / Koo Moon Young Fair...</td>\n      <td>K-Drama - 90021 - tvN - 사이코지만 괜찮아 고문영 동화 책 도서 ...</td>\n      <td>1</td>\n      <td>55.99</td>\n      <td>55.99</td>\n      <td>2020-10-28 16:42:59 -0400</td>\n      <td>NaN</td>\n    </tr>\n    <tr>\n      <th>15</th>\n      <td>josephine.sivertsson@hotmail.com</td>\n      <td>Josephine</td>\n      <td>Sivertsson</td>\n      <td>Bergslagsvagen 43</td>\n      <td>Finspang</td>\n      <td>NaN</td>\n      <td>Sweden</td>\n      <td>SE</td>\n      <td>61236</td>\n      <td>3928.35</td>\n      <td>...</td>\n      <td>Active Subscriber, ANNUAL, newsletter</td>\n      <td>TREASURE</td>\n      <td>2.867903e+12</td>\n      <td>[Pre-Order] TREASURE - The First Step: Chapter...</td>\n      <td>Album - 70743 - TREASURE - 트레저 The First Step:...</td>\n      <td>1</td>\n      <td>29.99</td>\n      <td>29.99</td>\n      <td>2020-10-28 16:37:57 -0400</td>\n      <td>NaN</td>\n    </tr>\n    <tr>\n      <th>16</th>\n      <td>josephine.sivertsson@hotmail.com</td>\n      <td>Josephine</td>\n      <td>Sivertsson</td>\n      <td>Bergslagsvagen 43</td>\n      <td>Finspang</td>\n      <td>NaN</td>\n      <td>Sweden</td>\n      <td>SE</td>\n      <td>61236</td>\n      <td>3928.35</td>\n      <td>...</td>\n      <td>Active Subscriber, ANNUAL, newsletter</td>\n      <td>SuperM</td>\n      <td>2.843388e+12</td>\n      <td>[Pre-Order] SuperM - Super One (1st Album) - R...</td>\n      <td>Album - 70723 - SuperM - 슈퍼엠 Super One 정규1집 - ...</td>\n      <td>1</td>\n      <td>32.99</td>\n      <td>32.99</td>\n      <td>2020-10-19 12:44:08 -0400</td>\n      <td>NaN</td>\n    </tr>\n    <tr>\n      <th>17</th>\n      <td>josephine.sivertsson@hotmail.com</td>\n      <td>Josephine</td>\n      <td>Sivertsson</td>\n      <td>Bergslagsvagen 43</td>\n      <td>Finspang</td>\n      <td>NaN</td>\n      <td>Sweden</td>\n      <td>SE</td>\n      <td>61236</td>\n      <td>3928.35</td>\n      <td>...</td>\n      <td>Active Subscriber, ANNUAL, newsletter</td>\n      <td>B1A4</td>\n      <td>2.804000e+12</td>\n      <td>[Pre-Order] B1A4 - Origine (4th Album) 3-SET -...</td>\n      <td>Album Set - 140046 - B1A4 - 비원에이포 Origine 정규4집...</td>\n      <td>1</td>\n      <td>104.80</td>\n      <td>104.80</td>\n      <td>2020-10-06 17:00:03 -0400</td>\n      <td>NaN</td>\n    </tr>\n    <tr>\n      <th>18</th>\n      <td>josephine.sivertsson@hotmail.com</td>\n      <td>Josephine</td>\n      <td>Sivertsson</td>\n      <td>Bergslagsvagen 43</td>\n      <td>Finspang</td>\n      <td>NaN</td>\n      <td>Sweden</td>\n      <td>SE</td>\n      <td>61236</td>\n      <td>3928.35</td>\n      <td>...</td>\n      <td>Active Subscriber, ANNUAL, newsletter</td>\n      <td>NCT</td>\n      <td>2.779551e+12</td>\n      <td>[Pre-Order] NCT 2020: RESONANCE Pt. 1 (Full Al...</td>\n      <td>Album - 70669 - NCT - NCT 2020: RESONANCE Pt. ...</td>\n      <td>1</td>\n      <td>28.99</td>\n      <td>28.99</td>\n      <td>2020-09-29 15:34:55 -0400</td>\n      <td>NaN</td>\n    </tr>\n    <tr>\n      <th>19</th>\n      <td>josephine.sivertsson@hotmail.com</td>\n      <td>Josephine</td>\n      <td>Sivertsson</td>\n      <td>Bergslagsvagen 43</td>\n      <td>Finspang</td>\n      <td>NaN</td>\n      <td>Sweden</td>\n      <td>SE</td>\n      <td>61236</td>\n      <td>3928.35</td>\n      <td>...</td>\n      <td>Active Subscriber, ANNUAL, newsletter</td>\n      <td>JUNG YONG HWA</td>\n      <td>2.772794e+12</td>\n      <td>JUNG YONG HWA Official Light Stick</td>\n      <td>Lightstick - 120032 - JUNG YONG HWA - 정용화 공식 응...</td>\n      <td>1</td>\n      <td>69.99</td>\n      <td>112.98</td>\n      <td>2020-09-28 12:29:18 -0400</td>\n      <td>NaN</td>\n    </tr>\n    <tr>\n      <th>20</th>\n      <td>josephine.sivertsson@hotmail.com</td>\n      <td>Josephine</td>\n      <td>Sivertsson</td>\n      <td>Bergslagsvagen 43</td>\n      <td>Finspang</td>\n      <td>NaN</td>\n      <td>Sweden</td>\n      <td>SE</td>\n      <td>61236</td>\n      <td>3928.35</td>\n      <td>...</td>\n      <td>Active Subscriber, ANNUAL, newsletter</td>\n      <td>INFINITE</td>\n      <td>NaN</td>\n      <td>[Limited Edition] INFINITE Official Collection...</td>\n      <td>K-Pop - 80001\\t- INFINITE - 인피니트 오피셜 컬렉션카드 VOL...</td>\n      <td>1</td>\n      <td>42.99</td>\n      <td>NaN</td>\n      <td>NaN</td>\n      <td>NaN</td>\n    </tr>\n    <tr>\n      <th>21</th>\n      <td>josephine.sivertsson@hotmail.com</td>\n      <td>Josephine</td>\n      <td>Sivertsson</td>\n      <td>Bergslagsvagen 43</td>\n      <td>Finspang</td>\n      <td>NaN</td>\n      <td>Sweden</td>\n      <td>SE</td>\n      <td>61236</td>\n      <td>3928.35</td>\n      <td>...</td>\n      <td>Active Subscriber, ANNUAL, newsletter</td>\n      <td>BTS</td>\n      <td>2.772644e+12</td>\n      <td>[Pre-Order] BTS - BE (Deluxe Edition)</td>\n      <td>Album - 70683 - BTS - 방탄소년단 BE (Deluxe Edition...</td>\n      <td>1</td>\n      <td>59.95</td>\n      <td>59.95</td>\n      <td>2020-09-28 11:38:05 -0400</td>\n      <td>NaN</td>\n    </tr>\n    <tr>\n      <th>22</th>\n      <td>josephine.sivertsson@hotmail.com</td>\n      <td>Josephine</td>\n      <td>Sivertsson</td>\n      <td>Bergslagsvagen 43</td>\n      <td>Finspang</td>\n      <td>NaN</td>\n      <td>Sweden</td>\n      <td>SE</td>\n      <td>61236</td>\n      <td>3928.35</td>\n      <td>...</td>\n      <td>Active Subscriber, ANNUAL, newsletter</td>\n      <td>tvN</td>\n      <td>2.764634e+12</td>\n      <td>It's Okay to Not Be Okay / Koo Moon Young Fair...</td>\n      <td>K-Drama - 90018 - tvN - 사이코지만 괜찮아 고문영 동화 책 도서 ...</td>\n      <td>1</td>\n      <td>124.95</td>\n      <td>114.95</td>\n      <td>2020-09-27 03:31:38 -0400</td>\n      <td>ab014ba9243e</td>\n    </tr>\n    <tr>\n      <th>23</th>\n      <td>josephine.sivertsson@hotmail.com</td>\n      <td>Josephine</td>\n      <td>Sivertsson</td>\n      <td>Bergslagsvagen 43</td>\n      <td>Finspang</td>\n      <td>NaN</td>\n      <td>Sweden</td>\n      <td>SE</td>\n      <td>61236</td>\n      <td>3928.35</td>\n      <td>...</td>\n      <td>Active Subscriber, ANNUAL, newsletter</td>\n      <td>LEMONA</td>\n      <td>2.762011e+12</td>\n      <td>BTS Special Edition Refreshing Vitamin Lemona ...</td>\n      <td>Health - 150064 - LEMONA - BTS 스페셜 에디션 레모나 드링크...</td>\n      <td>1</td>\n      <td>48.00</td>\n      <td>48.00</td>\n      <td>2020-09-26 06:30:06 -0400</td>\n      <td>NaN</td>\n    </tr>\n    <tr>\n      <th>24</th>\n      <td>josephine.sivertsson@hotmail.com</td>\n      <td>Josephine</td>\n      <td>Sivertsson</td>\n      <td>Bergslagsvagen 43</td>\n      <td>Finspang</td>\n      <td>NaN</td>\n      <td>Sweden</td>\n      <td>SE</td>\n      <td>61236</td>\n      <td>3928.35</td>\n      <td>...</td>\n      <td>Active Subscriber, ANNUAL, newsletter</td>\n      <td>TREASURE</td>\n      <td>2.741460e+12</td>\n      <td>[Pre-Order] TREASURE - The First Step: Chapter...</td>\n      <td>Album - 70626 - TREASURE - 트레저 The First Step:...</td>\n      <td>1</td>\n      <td>25.99</td>\n      <td>25.99</td>\n      <td>2020-09-20 16:59:56 -0400</td>\n      <td>NaN</td>\n    </tr>\n    <tr>\n      <th>25</th>\n      <td>josephine.sivertsson@hotmail.com</td>\n      <td>Josephine</td>\n      <td>Sivertsson</td>\n      <td>Bergslagsvagen 43</td>\n      <td>Finspang</td>\n      <td>NaN</td>\n      <td>Sweden</td>\n      <td>SE</td>\n      <td>61236</td>\n      <td>3928.35</td>\n      <td>...</td>\n      <td>Active Subscriber, ANNUAL, newsletter</td>\n      <td>The Daebak Company</td>\n      <td>2.730563e+12</td>\n      <td>MEDIHEAL is Daebak</td>\n      <td>MEDIHEALISDAEBAK</td>\n      <td>1</td>\n      <td>54.99</td>\n      <td>49.50</td>\n      <td>2020-09-16 10:01:18 -0400</td>\n      <td>MEDIHEAL</td>\n    </tr>\n    <tr>\n      <th>26</th>\n      <td>josephine.sivertsson@hotmail.com</td>\n      <td>Josephine</td>\n      <td>Sivertsson</td>\n      <td>Bergslagsvagen 43</td>\n      <td>Finspang</td>\n      <td>NaN</td>\n      <td>Sweden</td>\n      <td>SE</td>\n      <td>61236</td>\n      <td>3928.35</td>\n      <td>...</td>\n      <td>Active Subscriber, ANNUAL, newsletter</td>\n      <td>The Daebak Company</td>\n      <td>2.715839e+12</td>\n      <td>BTS Chilsung Cider (pk of 3) with a mystery snack</td>\n      <td>BTS CIDER</td>\n      <td>1</td>\n      <td>17.99</td>\n      <td>17.99</td>\n      <td>2020-09-11 12:42:49 -0400</td>\n      <td>NaN</td>\n    </tr>\n    <tr>\n      <th>27</th>\n      <td>josephine.sivertsson@hotmail.com</td>\n      <td>Josephine</td>\n      <td>Sivertsson</td>\n      <td>Bergslagsvagen 43</td>\n      <td>Finspang</td>\n      <td>NaN</td>\n      <td>Sweden</td>\n      <td>SE</td>\n      <td>61236</td>\n      <td>3928.35</td>\n      <td>...</td>\n      <td>Active Subscriber, ANNUAL, newsletter</td>\n      <td>TDC Add-on</td>\n      <td>2.708326e+12</td>\n      <td>[Fall Add-on] TiO Iced Tea (18T) - Apple</td>\n      <td>Food Pack - 50010 - DongSuh - 동서 티오 아이스티 애플 18T</td>\n      <td>1</td>\n      <td>8.95</td>\n      <td>38.93</td>\n      <td>2020-09-09 01:40:27 -0400</td>\n      <td>FALLADDON</td>\n    </tr>\n    <tr>\n      <th>28</th>\n      <td>josephine.sivertsson@hotmail.com</td>\n      <td>Josephine</td>\n      <td>Sivertsson</td>\n      <td>Bergslagsvagen 43</td>\n      <td>Finspang</td>\n      <td>NaN</td>\n      <td>Sweden</td>\n      <td>SE</td>\n      <td>61236</td>\n      <td>3928.35</td>\n      <td>...</td>\n      <td>Active Subscriber, ANNUAL, newsletter</td>\n      <td>TDC Add-on</td>\n      <td>NaN</td>\n      <td>[Fall Add-on] Kakao Friends Boat Pouch - Apeach</td>\n      <td>Characters - 10234 - Kakao Friends - 카카오프렌즈 보트...</td>\n      <td>1</td>\n      <td>14.99</td>\n      <td>NaN</td>\n      <td>NaN</td>\n      <td>NaN</td>\n    </tr>\n    <tr>\n      <th>29</th>\n      <td>josephine.sivertsson@hotmail.com</td>\n      <td>Josephine</td>\n      <td>Sivertsson</td>\n      <td>Bergslagsvagen 43</td>\n      <td>Finspang</td>\n      <td>NaN</td>\n      <td>Sweden</td>\n      <td>SE</td>\n      <td>61236</td>\n      <td>3928.35</td>\n      <td>...</td>\n      <td>Active Subscriber, ANNUAL, newsletter</td>\n      <td>TDC Add-on</td>\n      <td>NaN</td>\n      <td>[Fall Add-on] Kakao Friends Boat Pouch - Ryan</td>\n      <td>Characters - 10233 - Kakao Friends - 카카오프렌즈 보트...</td>\n      <td>1</td>\n      <td>14.99</td>\n      <td>NaN</td>\n      <td>NaN</td>\n      <td>NaN</td>\n    </tr>\n    <tr>\n      <th>30</th>\n      <td>josephine.sivertsson@hotmail.com</td>\n      <td>Josephine</td>\n      <td>Sivertsson</td>\n      <td>Bergslagsvagen 43</td>\n      <td>Finspang</td>\n      <td>NaN</td>\n      <td>Sweden</td>\n      <td>SE</td>\n      <td>61236</td>\n      <td>3928.35</td>\n      <td>...</td>\n      <td>Active Subscriber, ANNUAL, newsletter</td>\n      <td>The Daebak Company</td>\n      <td>2.693602e+12</td>\n      <td>Summer Mystery Box</td>\n      <td>NaN</td>\n      <td>1</td>\n      <td>36.99</td>\n      <td>36.99</td>\n      <td>2020-09-04 05:30:38 -0400</td>\n      <td>NaN</td>\n    </tr>\n    <tr>\n      <th>31</th>\n      <td>josephine.sivertsson@hotmail.com</td>\n      <td>Josephine</td>\n      <td>Sivertsson</td>\n      <td>Bergslagsvagen 43</td>\n      <td>Finspang</td>\n      <td>NaN</td>\n      <td>Sweden</td>\n      <td>SE</td>\n      <td>61236</td>\n      <td>3928.35</td>\n      <td>...</td>\n      <td>Active Subscriber, ANNUAL, newsletter</td>\n      <td>The Daebak Company</td>\n      <td>2.693583e+12</td>\n      <td>BTS Chilsung Cider (pk of 3) with a mystery sn...</td>\n      <td>BTS CIDER</td>\n      <td>1</td>\n      <td>17.99</td>\n      <td>17.99</td>\n      <td>2020-09-04 05:18:38 -0400</td>\n      <td>NaN</td>\n    </tr>\n    <tr>\n      <th>32</th>\n      <td>josephine.sivertsson@hotmail.com</td>\n      <td>Josephine</td>\n      <td>Sivertsson</td>\n      <td>Bergslagsvagen 43</td>\n      <td>Finspang</td>\n      <td>NaN</td>\n      <td>Sweden</td>\n      <td>SE</td>\n      <td>61236</td>\n      <td>3928.35</td>\n      <td>...</td>\n      <td>Active Subscriber, ANNUAL, newsletter</td>\n      <td>The Daebak Company</td>\n      <td>2.693573e+12</td>\n      <td>BTS Chilsung Cider (pk of 3) with a mystery sn...</td>\n      <td>BTS CIDER</td>\n      <td>1</td>\n      <td>17.99</td>\n      <td>17.99</td>\n      <td>2020-09-04 05:09:59 -0400</td>\n      <td>NaN</td>\n    </tr>\n    <tr>\n      <th>33</th>\n      <td>josephine.sivertsson@hotmail.com</td>\n      <td>Josephine</td>\n      <td>Sivertsson</td>\n      <td>Bergslagsvagen 43</td>\n      <td>Finspang</td>\n      <td>NaN</td>\n      <td>Sweden</td>\n      <td>SE</td>\n      <td>61236</td>\n      <td>3928.35</td>\n      <td>...</td>\n      <td>Active Subscriber, ANNUAL, newsletter</td>\n      <td>The Daebak Company</td>\n      <td>2.684250e+12</td>\n      <td>BTS Chilsung Cider (pk of 3) with a mystery sn...</td>\n      <td>BTS CIDER</td>\n      <td>1</td>\n      <td>17.99</td>\n      <td>17.99</td>\n      <td>2020-09-01 06:04:19 -0400</td>\n      <td>NaN</td>\n    </tr>\n    <tr>\n      <th>34</th>\n      <td>josephine.sivertsson@hotmail.com</td>\n      <td>Josephine</td>\n      <td>Sivertsson</td>\n      <td>Bergslagsvagen 43</td>\n      <td>Finspang</td>\n      <td>NaN</td>\n      <td>Sweden</td>\n      <td>SE</td>\n      <td>61236</td>\n      <td>3928.35</td>\n      <td>...</td>\n      <td>Active Subscriber, ANNUAL, newsletter</td>\n      <td>The Daebak Company</td>\n      <td>2.684246e+12</td>\n      <td>Summer Mystery Box</td>\n      <td>NaN</td>\n      <td>1</td>\n      <td>36.99</td>\n      <td>26.99</td>\n      <td>2020-09-01 06:02:14 -0400</td>\n      <td>d9fa90f0e7bd</td>\n    </tr>\n    <tr>\n      <th>35</th>\n      <td>josephine.sivertsson@hotmail.com</td>\n      <td>Josephine</td>\n      <td>Sivertsson</td>\n      <td>Bergslagsvagen 43</td>\n      <td>Finspang</td>\n      <td>NaN</td>\n      <td>Sweden</td>\n      <td>SE</td>\n      <td>61236</td>\n      <td>3928.35</td>\n      <td>...</td>\n      <td>Active Subscriber, ANNUAL, newsletter</td>\n      <td>The Daebak Company</td>\n      <td>2.683801e+12</td>\n      <td>BTS Chilsung Cider (pk of 3) with a mystery sn...</td>\n      <td>BTS CIDER</td>\n      <td>1</td>\n      <td>17.99</td>\n      <td>17.99</td>\n      <td>2020-09-01 01:29:04 -0400</td>\n      <td>NaN</td>\n    </tr>\n    <tr>\n      <th>36</th>\n      <td>josephine.sivertsson@hotmail.com</td>\n      <td>Josephine</td>\n      <td>Sivertsson</td>\n      <td>Bergslagsvagen 43</td>\n      <td>Finspang</td>\n      <td>NaN</td>\n      <td>Sweden</td>\n      <td>SE</td>\n      <td>61236</td>\n      <td>3928.35</td>\n      <td>...</td>\n      <td>Active Subscriber, ANNUAL, newsletter</td>\n      <td>JEONG SEWOON</td>\n      <td>2.672026e+12</td>\n      <td>JEONG SEWOON Official Light Stick</td>\n      <td>Lightstick - 120014\\t- JEONG SEWOON - 정세운 공식응원...</td>\n      <td>1</td>\n      <td>51.99</td>\n      <td>163.95</td>\n      <td>2020-08-27 18:58:54 -0400</td>\n      <td>044e91a3759c</td>\n    </tr>\n    <tr>\n      <th>37</th>\n      <td>josephine.sivertsson@hotmail.com</td>\n      <td>Josephine</td>\n      <td>Sivertsson</td>\n      <td>Bergslagsvagen 43</td>\n      <td>Finspang</td>\n      <td>NaN</td>\n      <td>Sweden</td>\n      <td>SE</td>\n      <td>61236</td>\n      <td>3928.35</td>\n      <td>...</td>\n      <td>Active Subscriber, ANNUAL, newsletter</td>\n      <td>ONEUS</td>\n      <td>NaN</td>\n      <td>ONEUS - Lived (4th Mini Album) - With Poster</td>\n      <td>Album - 70550 - ONEUS - 원어스 Lived 미니4집 - Album...</td>\n      <td>1</td>\n      <td>24.99</td>\n      <td>NaN</td>\n      <td>NaN</td>\n      <td>NaN</td>\n    </tr>\n    <tr>\n      <th>38</th>\n      <td>josephine.sivertsson@hotmail.com</td>\n      <td>Josephine</td>\n      <td>Sivertsson</td>\n      <td>Bergslagsvagen 43</td>\n      <td>Finspang</td>\n      <td>NaN</td>\n      <td>Sweden</td>\n      <td>SE</td>\n      <td>61236</td>\n      <td>3928.35</td>\n      <td>...</td>\n      <td>Active Subscriber, ANNUAL, newsletter</td>\n      <td>ONEUS</td>\n      <td>NaN</td>\n      <td>ONEUS - In Its Time (1st Single Album)</td>\n      <td>Album - 70334 - ONEUS - 원어스 In Its Time - DA</td>\n      <td>1</td>\n      <td>22.99</td>\n      <td>NaN</td>\n      <td>NaN</td>\n      <td>NaN</td>\n    </tr>\n    <tr>\n      <th>39</th>\n      <td>josephine.sivertsson@hotmail.com</td>\n      <td>Josephine</td>\n      <td>Sivertsson</td>\n      <td>Bergslagsvagen 43</td>\n      <td>Finspang</td>\n      <td>NaN</td>\n      <td>Sweden</td>\n      <td>SE</td>\n      <td>61236</td>\n      <td>3928.35</td>\n      <td>...</td>\n      <td>Active Subscriber, ANNUAL, newsletter</td>\n      <td>INFINITE</td>\n      <td>NaN</td>\n      <td>INFINITE - Top Speed (3rd Album)</td>\n      <td>Album - 70214 - INFINITE - 인피니트 Top Speed - DA</td>\n      <td>1</td>\n      <td>30.99</td>\n      <td>NaN</td>\n      <td>NaN</td>\n      <td>NaN</td>\n    </tr>\n    <tr>\n      <th>40</th>\n      <td>josephine.sivertsson@hotmail.com</td>\n      <td>Josephine</td>\n      <td>Sivertsson</td>\n      <td>Bergslagsvagen 43</td>\n      <td>Finspang</td>\n      <td>NaN</td>\n      <td>Sweden</td>\n      <td>SE</td>\n      <td>61236</td>\n      <td>3928.35</td>\n      <td>...</td>\n      <td>Active Subscriber, ANNUAL, newsletter</td>\n      <td>INFINITE</td>\n      <td>NaN</td>\n      <td>[Limited Edition] INFINITE Official Collection...</td>\n      <td>K-Pop - 80001\\t- INFINITE - 인피니트 오피셜 컬렉션카드 VOL...</td>\n      <td>1</td>\n      <td>42.99</td>\n      <td>NaN</td>\n      <td>NaN</td>\n      <td>NaN</td>\n    </tr>\n    <tr>\n      <th>41</th>\n      <td>josephine.sivertsson@hotmail.com</td>\n      <td>Josephine</td>\n      <td>Sivertsson</td>\n      <td>Bergslagsvagen 43</td>\n      <td>Finspang</td>\n      <td>NaN</td>\n      <td>Sweden</td>\n      <td>SE</td>\n      <td>61236</td>\n      <td>3928.35</td>\n      <td>...</td>\n      <td>Active Subscriber, ANNUAL, newsletter</td>\n      <td>STRAY KIDS</td>\n      <td>2.669920e+12</td>\n      <td>[Pre-Order] STRAY KIDS - IN生 (Limited Version)...</td>\n      <td>Album - 70600 - STRAY KIDS - 스트레이 키즈 IN生 (한정반)...</td>\n      <td>1</td>\n      <td>29.99</td>\n      <td>29.99</td>\n      <td>2020-08-27 00:34:53 -0400</td>\n      <td>NaN</td>\n    </tr>\n    <tr>\n      <th>42</th>\n      <td>josephine.sivertsson@hotmail.com</td>\n      <td>Josephine</td>\n      <td>Sivertsson</td>\n      <td>Bergslagsvagen 43</td>\n      <td>Finspang</td>\n      <td>NaN</td>\n      <td>Sweden</td>\n      <td>SE</td>\n      <td>61236</td>\n      <td>3928.35</td>\n      <td>...</td>\n      <td>Active Subscriber, ANNUAL, newsletter</td>\n      <td>LINE FRIENDS</td>\n      <td>2.667595e+12</td>\n      <td>LINE FRIENDS BOX</td>\n      <td>LFB-LINE FRIENDS BOX</td>\n      <td>1</td>\n      <td>36.00</td>\n      <td>36.00</td>\n      <td>2020-08-26 05:59:15 -0400</td>\n      <td>JS_FREESHIPPING1</td>\n    </tr>\n    <tr>\n      <th>43</th>\n      <td>josephine.sivertsson@hotmail.com</td>\n      <td>Josephine</td>\n      <td>Sivertsson</td>\n      <td>Bergslagsvagen 43</td>\n      <td>Finspang</td>\n      <td>NaN</td>\n      <td>Sweden</td>\n      <td>SE</td>\n      <td>61236</td>\n      <td>3928.35</td>\n      <td>...</td>\n      <td>Active Subscriber, ANNUAL, newsletter</td>\n      <td>Daebak Box</td>\n      <td>2.657189e+12</td>\n      <td>Annual (ships once every season, auto-renews e...</td>\n      <td>DBB_Annual</td>\n      <td>1</td>\n      <td>179.96</td>\n      <td>179.96</td>\n      <td>2020-08-22 04:34:19 -0400</td>\n      <td>NaN</td>\n    </tr>\n    <tr>\n      <th>44</th>\n      <td>josephine.sivertsson@hotmail.com</td>\n      <td>Josephine</td>\n      <td>Sivertsson</td>\n      <td>Bergslagsvagen 43</td>\n      <td>Finspang</td>\n      <td>NaN</td>\n      <td>Sweden</td>\n      <td>SE</td>\n      <td>61236</td>\n      <td>3928.35</td>\n      <td>...</td>\n      <td>Active Subscriber, ANNUAL, newsletter</td>\n      <td>ATEEZ</td>\n      <td>2.633913e+12</td>\n      <td>ATEEZ Official Light Stick</td>\n      <td>Lightstick - 120004\\t- ATEEZ - 에이티즈 공식 응원봉 - DA</td>\n      <td>1</td>\n      <td>72.99</td>\n      <td>112.97</td>\n      <td>2020-08-14 07:25:19 -0400</td>\n      <td>KAI</td>\n    </tr>\n    <tr>\n      <th>45</th>\n      <td>josephine.sivertsson@hotmail.com</td>\n      <td>Josephine</td>\n      <td>Sivertsson</td>\n      <td>Bergslagsvagen 43</td>\n      <td>Finspang</td>\n      <td>NaN</td>\n      <td>Sweden</td>\n      <td>SE</td>\n      <td>61236</td>\n      <td>3928.35</td>\n      <td>...</td>\n      <td>Active Subscriber, ANNUAL, newsletter</td>\n      <td>LEMONA</td>\n      <td>NaN</td>\n      <td>BTS LEMONA Ver.Heart Can</td>\n      <td>Health - 150002 - LEMONA - 레모나 하트 캔</td>\n      <td>1</td>\n      <td>26.99</td>\n      <td>NaN</td>\n      <td>NaN</td>\n      <td>NaN</td>\n    </tr>\n    <tr>\n      <th>46</th>\n      <td>josephine.sivertsson@hotmail.com</td>\n      <td>Josephine</td>\n      <td>Sivertsson</td>\n      <td>Bergslagsvagen 43</td>\n      <td>Finspang</td>\n      <td>NaN</td>\n      <td>Sweden</td>\n      <td>SE</td>\n      <td>61236</td>\n      <td>3928.35</td>\n      <td>...</td>\n      <td>Active Subscriber, ANNUAL, newsletter</td>\n      <td>Dongsuh</td>\n      <td>NaN</td>\n      <td>TiO Iced Tea (40T) - Blueberry</td>\n      <td>Food Pack - 50015 - DongSuh - 동서 티오 아이스티 블루베리 40T</td>\n      <td>1</td>\n      <td>20.00</td>\n      <td>NaN</td>\n      <td>NaN</td>\n      <td>NaN</td>\n    </tr>\n    <tr>\n      <th>47</th>\n      <td>josephine.sivertsson@hotmail.com</td>\n      <td>Josephine</td>\n      <td>Sivertsson</td>\n      <td>Bergslagsvagen 43</td>\n      <td>Finspang</td>\n      <td>NaN</td>\n      <td>Sweden</td>\n      <td>SE</td>\n      <td>61236</td>\n      <td>3928.35</td>\n      <td>...</td>\n      <td>Active Subscriber, ANNUAL, newsletter</td>\n      <td>The Daebak Company</td>\n      <td>NaN</td>\n      <td>Summer Mystery Box</td>\n      <td>NaN</td>\n      <td>1</td>\n      <td>27.99</td>\n      <td>NaN</td>\n      <td>NaN</td>\n      <td>NaN</td>\n    </tr>\n    <tr>\n      <th>48</th>\n      <td>josephine.sivertsson@hotmail.com</td>\n      <td>Josephine</td>\n      <td>Sivertsson</td>\n      <td>Bergslagsvagen 43</td>\n      <td>Finspang</td>\n      <td>NaN</td>\n      <td>Sweden</td>\n      <td>SE</td>\n      <td>61236</td>\n      <td>3928.35</td>\n      <td>...</td>\n      <td>Active Subscriber, ANNUAL, newsletter</td>\n      <td>LINE FRIENDS</td>\n      <td>2.633891e+12</td>\n      <td>LINE FRIENDS BOX</td>\n      <td>LFB-LINE FRIENDS BOX</td>\n      <td>1</td>\n      <td>29.00</td>\n      <td>29.00</td>\n      <td>2020-08-14 07:11:26 -0400</td>\n      <td>JS_FREESHIPPING1</td>\n    </tr>\n    <tr>\n      <th>49</th>\n      <td>josephine.sivertsson@hotmail.com</td>\n      <td>Josephine</td>\n      <td>Sivertsson</td>\n      <td>Bergslagsvagen 43</td>\n      <td>Finspang</td>\n      <td>NaN</td>\n      <td>Sweden</td>\n      <td>SE</td>\n      <td>61236</td>\n      <td>3928.35</td>\n      <td>...</td>\n      <td>Active Subscriber, ANNUAL, newsletter</td>\n      <td>GIRLS' GENERATION</td>\n      <td>2.569905e+12</td>\n      <td>GIRLS' GENERATION Official Light Stick</td>\n      <td>SM-DA-소녀시대 공식응원봉</td>\n      <td>1</td>\n      <td>51.99</td>\n      <td>118.49</td>\n      <td>2020-07-22 18:42:37 -0400</td>\n      <td>NaN</td>\n    </tr>\n  </tbody>\n</table>\n<p>50 rows × 22 columns</p>\n</div>"
     },
     "execution_count": 57,
     "metadata": {},
     "output_type": "execute_result"
    }
   ],
   "source": [
    "matched_df.head(50)"
   ],
   "metadata": {
    "collapsed": false,
    "pycharm": {
     "name": "#%%\n"
    }
   }
  },
  {
   "cell_type": "code",
   "execution_count": 58,
   "outputs": [],
   "source": [
    "matched_df.loc[matched_df.duplicated(['Email']), ['Email', 'First Name', 'Last Name', 'Address1', 'City', 'Province Code', 'Country Code', 'Zip', 'Total Spent', 'AvgOrderValue', 'Tags_x', 'Total Orders']] = np.nan"
   ],
   "metadata": {
    "collapsed": false,
    "pycharm": {
     "name": "#%%\n"
    }
   }
  },
  {
   "cell_type": "code",
   "execution_count": 59,
   "outputs": [],
   "source": [
    "matched_df.to_csv('top_50_vip_orders.csv')\n",
    "\n",
    "\n",
    "\n",
    "\n",
    "\n",
    "\n"
   ],
   "metadata": {
    "collapsed": false,
    "pycharm": {
     "name": "#%%\n"
    }
   }
  }
 ],
 "metadata": {
  "kernelspec": {
   "display_name": "Python 3",
   "language": "python",
   "name": "python3"
  },
  "language_info": {
   "codemirror_mode": {
    "name": "ipython",
    "version": 2
   },
   "file_extension": ".py",
   "mimetype": "text/x-python",
   "name": "python",
   "nbconvert_exporter": "python",
   "pygments_lexer": "ipython2",
   "version": "2.7.6"
  }
 },
 "nbformat": 4,
 "nbformat_minor": 0
}