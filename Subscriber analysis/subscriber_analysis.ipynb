{
 "cells": [
  {
   "cell_type": "markdown",
   "source": [
    "## Subscription analysis"
   ],
   "metadata": {
    "collapsed": false
   }
  },
  {
   "cell_type": "code",
   "execution_count": 1,
   "outputs": [
    {
     "name": "stdout",
     "output_type": "stream",
     "text": [
      "C:\\Users\\jaesu\\PycharmProjects\\Analysis\\Subscriber analysis\n"
     ]
    }
   ],
   "source": [
    "\"\"\"\n",
    "input: customer dataset from Shopify, customer report from ReCharge.\n",
    "output: textfile of logit fit test result.\n",
    "\"\"\"\n",
    "\n",
    "import os\n",
    "print(os.getcwd())"
   ],
   "metadata": {
    "collapsed": false,
    "pycharm": {
     "name": "#%%\n"
    }
   }
  },
  {
   "cell_type": "code",
   "execution_count": 2,
   "outputs": [],
   "source": [
    "import pandas as pd\n",
    "import matplotlib.pyplot as plt\n",
    "import matplotlib as mpl\n",
    "import seaborn as sns\n",
    "import numpy as np\n",
    "import glob\n",
    "from pathlib import Path\n",
    "\n",
    "# makes plots visible in pycharm\n",
    "plt.style.use({'figure.facecolor':'white'})\n",
    "\n",
    "# all_files = ['orders_export_1.csv', 'orders_export_2.csv', 'orders_export_3.csv']\n",
    "# df_from_each_file = (pd.read_csv(f) for f in all_files)\n",
    "# df = pd.concat(df_from_each_file, ignore_index=True)\n",
    "# doesn't create a list, nor does it append to one\n",
    "\n",
    "custRecharge = pd.read_csv('Customer_report_1-13.csv', delimiter=',')\n",
    "custShopify = pd.read_csv('all_customers_shopify_1-13.csv', delimiter=',')"
   ],
   "metadata": {
    "collapsed": false,
    "pycharm": {
     "name": "#%%\n"
    }
   }
  },
  {
   "cell_type": "code",
   "execution_count": 3,
   "outputs": [
    {
     "name": "stdout",
     "output_type": "stream",
     "text": [
      "<class 'pandas.core.frame.DataFrame'>\n",
      "RangeIndex: 7083 entries, 0 to 7082\n",
      "Data columns (total 28 columns):\n",
      " #   Column                           Non-Null Count  Dtype \n",
      "---  ------                           --------------  ----- \n",
      " 0   customer recharge id             7083 non-null   int64 \n",
      " 1   customer first name              7079 non-null   object\n",
      " 2   customer last name               7083 non-null   object\n",
      " 3   customer email                   7083 non-null   object\n",
      " 4   created at                       7083 non-null   object\n",
      " 5   status                           7083 non-null   object\n",
      " 6   shipping address 1               7083 non-null   object\n",
      " 7   shipping address 2               1742 non-null   object\n",
      " 8   shipping city                    7083 non-null   object\n",
      " 9   shipping postal code             7042 non-null   object\n",
      " 10  shipping province                5930 non-null   object\n",
      " 11  shipping country                 7083 non-null   object\n",
      " 12  shipping_phone                   7046 non-null   object\n",
      " 13  portal_url                       7083 non-null   object\n",
      " 14  billing address 1                7079 non-null   object\n",
      " 15  billing address 2                1696 non-null   object\n",
      " 16  billing city                     7079 non-null   object\n",
      " 17  billing postal code              7035 non-null   object\n",
      " 18  billing province                 5930 non-null   object\n",
      " 19  billing country                  7082 non-null   object\n",
      " 20  Shopify customer id              7083 non-null   int64 \n",
      " 21  Past Orders Count                7083 non-null   int64 \n",
      " 22  Has Valid Payment Method         7083 non-null   bool  \n",
      " 23  Reason Payment Method Not Valid  594 non-null    object\n",
      " 24  Has Card Error In Dunning        7083 non-null   bool  \n",
      " 25  Number Active Subscriptions      7083 non-null   int64 \n",
      " 26  Number Subscriptions             7083 non-null   int64 \n",
      " 27  First Charge Processed At        7077 non-null   object\n",
      "dtypes: bool(2), int64(5), object(21)\n",
      "memory usage: 1.4+ MB\n"
     ]
    }
   ],
   "source": [
    "custRecharge.info()"
   ],
   "metadata": {
    "collapsed": false,
    "pycharm": {
     "name": "#%%\n"
    }
   }
  },
  {
   "cell_type": "code",
   "execution_count": null,
   "outputs": [],
   "source": [
    "custShopify.info()"
   ],
   "metadata": {
    "collapsed": false,
    "pycharm": {
     "name": "#%%\n"
    }
   }
  },
  {
   "cell_type": "code",
   "execution_count": null,
   "outputs": [],
   "source": [
    "custRecharge['status'] = custRecharge['status'].str.lower()"
   ],
   "metadata": {
    "collapsed": false,
    "pycharm": {
     "name": "#%%\n"
    }
   }
  },
  {
   "cell_type": "code",
   "execution_count": null,
   "outputs": [],
   "source": [
    "custRecharge.rename(columns={'customer email' : 'Email'}, inplace=True)"
   ],
   "metadata": {
    "collapsed": false,
    "pycharm": {
     "name": "#%%\n"
    }
   }
  },
  {
   "cell_type": "code",
   "execution_count": null,
   "outputs": [],
   "source": [
    "mergedDf = custRecharge.merge(custShopify, how='inner', on='Email')\n",
    "# mergedDf.to_csv(\"MergedDf.csv\")"
   ],
   "metadata": {
    "collapsed": false,
    "pycharm": {
     "name": "#%%\n"
    }
   }
  },
  {
   "cell_type": "code",
   "execution_count": null,
   "outputs": [],
   "source": [
    "mergedDf.info()"
   ],
   "metadata": {
    "collapsed": false,
    "pycharm": {
     "name": "#%%\n"
    }
   }
  },
  {
   "cell_type": "markdown",
   "source": [
    "## 1. Customer engagement (active vs inactive)"
   ],
   "metadata": {
    "collapsed": false
   }
  },
  {
   "cell_type": "code",
   "execution_count": null,
   "outputs": [],
   "source": [
    "mergedDf['Accepts Marketing']"
   ],
   "metadata": {
    "collapsed": false,
    "pycharm": {
     "name": "#%%\n"
    }
   }
  },
  {
   "cell_type": "code",
   "execution_count": null,
   "outputs": [],
   "source": [
    "mergedDf['Accepts Marketing'] = mergedDf['Accepts Marketing'].apply(lambda x: 0 if x=='no' else 1)"
   ],
   "metadata": {
    "collapsed": false,
    "pycharm": {
     "name": "#%%\n"
    }
   }
  },
  {
   "cell_type": "code",
   "execution_count": null,
   "outputs": [],
   "source": [
    "mergedDf['engaged'] = mergedDf['status'].apply(lambda x: 0 if x=='inactive' else 1)"
   ],
   "metadata": {
    "collapsed": false,
    "pycharm": {
     "name": "#%%\n"
    }
   }
  },
  {
   "cell_type": "code",
   "execution_count": null,
   "outputs": [],
   "source": [
    "marketing_by_status_df = pd.DataFrame(mergedDf.groupby('engaged').count()['status'] / mergedDf.shape[0] * 100)"
   ],
   "metadata": {
    "collapsed": false,
    "pycharm": {
     "name": "#%%\n"
    }
   }
  },
  {
   "cell_type": "code",
   "execution_count": null,
   "outputs": [],
   "source": [
    "marketing_by_status_df"
   ],
   "metadata": {
    "collapsed": false,
    "pycharm": {
     "name": "#%%\n"
    }
   }
  },
  {
   "cell_type": "code",
   "execution_count": null,
   "outputs": [],
   "source": [
    "marketing_by_status_df.T"
   ],
   "metadata": {
    "collapsed": false,
    "pycharm": {
     "name": "#%%\n"
    }
   }
  },
  {
   "cell_type": "markdown",
   "source": [
    "#### a. engagement by number of subscriptions"
   ],
   "metadata": {
    "collapsed": false
   }
  },
  {
   "cell_type": "code",
   "execution_count": null,
   "outputs": [],
   "source": [
    "mergedDf['Number Subscriptions'].value_counts()"
   ],
   "metadata": {
    "collapsed": false,
    "pycharm": {
     "name": "#%%\n"
    }
   }
  },
  {
   "cell_type": "code",
   "execution_count": null,
   "outputs": [],
   "source": [
    "engagement_by_sub_type_df = pd.pivot_table(\n",
    "    mergedDf,\n",
    "    values='status',\n",
    "    index='Number Subscriptions',\n",
    "    columns='engaged',\n",
    "    aggfunc=len\n",
    ").fillna(0.0)\n",
    "\n",
    "engagement_by_sub_type_df.columns = ['Not Engaged', 'Engaged']"
   ],
   "metadata": {
    "collapsed": false,
    "pycharm": {
     "name": "#%%\n"
    }
   }
  },
  {
   "cell_type": "code",
   "execution_count": null,
   "outputs": [],
   "source": [
    "engagement_by_sub_type_df"
   ],
   "metadata": {
    "collapsed": false,
    "pycharm": {
     "name": "#%%\n"
    }
   }
  },
  {
   "cell_type": "markdown",
   "source": [
    "#### b. engagement by country"
   ],
   "metadata": {
    "collapsed": false
   }
  },
  {
   "cell_type": "code",
   "execution_count": null,
   "outputs": [],
   "source": [
    "mergedDf['Country'].value_counts()"
   ],
   "metadata": {
    "collapsed": false,
    "pycharm": {
     "name": "#%%\n"
    }
   }
  },
  {
   "cell_type": "markdown",
   "source": [
    "#### showing engagement by countries in numbers"
   ],
   "metadata": {
    "collapsed": false
   }
  },
  {
   "cell_type": "code",
   "execution_count": null,
   "outputs": [],
   "source": [
    "engagement_by_country_df = pd.pivot_table(\n",
    "    mergedDf,\n",
    "    values='status',\n",
    "    index='Country',\n",
    "    columns='engaged',\n",
    "    aggfunc=len\n",
    ").fillna(0.0)\n",
    "\n",
    "pd.set_option(\"display.max_rows\", None, \"display.max_columns\", None, 'display.max_colwidth', None)\n",
    "\n",
    "\n",
    "engagement_by_country_df.columns = ['Not Engaged', 'Engaged']\n",
    "engagement_by_country_df.sort_values(ascending=False, by=['Not Engaged', 'Engaged']).rename_axis(None, axis=1).reset_index()"
   ],
   "metadata": {
    "collapsed": false,
    "pycharm": {
     "name": "#%%\n"
    }
   }
  },
  {
   "cell_type": "markdown",
   "source": [
    "#### showing engagement by countries on percentage"
   ],
   "metadata": {
    "collapsed": false
   }
  },
  {
   "cell_type": "code",
   "execution_count": null,
   "outputs": [],
   "source": [
    "func = lambda x: 100*x.count()/mergedDf.shape[0]\n",
    "\n",
    "engagement_by_country_df = pd.pivot_table(\n",
    "    mergedDf,\n",
    "    values='status',\n",
    "    index='Country',\n",
    "    columns='engaged',\n",
    "    aggfunc=func\n",
    ").fillna(0.0)"
   ],
   "metadata": {
    "collapsed": false,
    "pycharm": {
     "name": "#%%\n"
    }
   }
  },
  {
   "cell_type": "code",
   "execution_count": null,
   "outputs": [],
   "source": [
    "engagement_by_country_df.columns = ['Not Engaged', 'Engaged']\n",
    "engagement_by_country_df = engagement_by_country_df.sort_values(ascending=False, by=['Not Engaged', 'Engaged'])"
   ],
   "metadata": {
    "collapsed": false,
    "pycharm": {
     "name": "#%%\n"
    }
   }
  },
  {
   "cell_type": "code",
   "execution_count": null,
   "outputs": [],
   "source": [
    "countries_only = mergedDf['Country']\n",
    "countries_count = countries_only.value_counts().rename_axis('Country').reset_index(name='Total')\n",
    "countries_count"
   ],
   "metadata": {
    "collapsed": false,
    "pycharm": {
     "name": "#%%\n"
    }
   }
  },
  {
   "cell_type": "code",
   "execution_count": null,
   "outputs": [],
   "source": [
    "new = pd.merge(engagement_by_country_df, countries_count, on='Country', how='left')\n",
    "new"
   ],
   "metadata": {
    "collapsed": false,
    "pycharm": {
     "name": "#%%\n"
    }
   }
  },
  {
   "cell_type": "markdown",
   "source": [
    "#### c. engagement by  marketing acceptance\n"
   ],
   "metadata": {
    "collapsed": false
   }
  },
  {
   "cell_type": "code",
   "execution_count": null,
   "outputs": [],
   "source": [
    "engagement_by_marketing = pd.pivot_table(\n",
    "    mergedDf,\n",
    "    values='status',\n",
    "    index='Accepts Marketing',\n",
    "    columns='engaged',\n",
    "    aggfunc=len\n",
    ").fillna(0.0)\n",
    "\n",
    "engagement_by_marketing.columns = ['Not Engaged', 'Engaged']"
   ],
   "metadata": {
    "collapsed": false,
    "pycharm": {
     "name": "#%%\n"
    }
   }
  },
  {
   "cell_type": "markdown",
   "source": [
    "##### Accepts Marketing = Subscribed to newletter - 0 means no, 1 means yes"
   ],
   "metadata": {
    "collapsed": false
   }
  },
  {
   "cell_type": "code",
   "execution_count": null,
   "outputs": [],
   "source": [
    "engagement_by_marketing"
   ],
   "metadata": {
    "collapsed": false,
    "pycharm": {
     "name": "#%%\n"
    }
   }
  },
  {
   "cell_type": "markdown",
   "source": [
    "## Correlation"
   ],
   "metadata": {
    "collapsed": false
   }
  },
  {
   "cell_type": "markdown",
   "source": [
    "#### Feature Engineering - subscription duration"
   ],
   "metadata": {
    "collapsed": false
   }
  },
  {
   "cell_type": "code",
   "execution_count": null,
   "outputs": [],
   "source": [
    "pearsons = mergedDf.corr()"
   ],
   "metadata": {
    "collapsed": false,
    "pycharm": {
     "name": "#%%\n"
    }
   }
  },
  {
   "cell_type": "code",
   "execution_count": null,
   "outputs": [],
   "source": [
    "pearsons"
   ],
   "metadata": {
    "collapsed": false,
    "pycharm": {
     "name": "#%%\n"
    }
   }
  },
  {
   "cell_type": "code",
   "execution_count": null,
   "outputs": [],
   "source": [
    "kendall = mergedDf.corr(method='kendall')"
   ],
   "metadata": {
    "collapsed": false,
    "pycharm": {
     "name": "#%%\n"
    }
   }
  },
  {
   "cell_type": "code",
   "execution_count": null,
   "outputs": [],
   "source": [
    "kendall"
   ],
   "metadata": {
    "collapsed": false,
    "pycharm": {
     "name": "#%%\n"
    }
   }
  },
  {
   "cell_type": "code",
   "execution_count": null,
   "outputs": [],
   "source": [
    "spearmans = mergedDf.corr(method='spearman')"
   ],
   "metadata": {
    "collapsed": false,
    "pycharm": {
     "name": "#%%\n"
    }
   }
  },
  {
   "cell_type": "code",
   "execution_count": null,
   "outputs": [],
   "source": [
    "spearmans"
   ],
   "metadata": {
    "collapsed": false,
    "pycharm": {
     "name": "#%%\n"
    }
   }
  },
  {
   "cell_type": "code",
   "execution_count": null,
   "outputs": [],
   "source": [
    "from scipy.stats import kendalltau, pearsonr, spearmanr"
   ],
   "metadata": {
    "collapsed": false,
    "pycharm": {
     "name": "#%%\n"
    }
   }
  },
  {
   "cell_type": "code",
   "execution_count": null,
   "outputs": [],
   "source": [
    "def calculate_pvalues(df):\n",
    "    df = df.dropna()._get_numeric_data()\n",
    "    dfcols = pd.DataFrame(columns=df.columns)\n",
    "    pvalues = dfcols.transpose().join(dfcols, how='outer')\n",
    "    for r in df.columns:\n",
    "        for c in df.columns:\n",
    "            pvalues[r][c] = round(pearsonr(df[r], df[c])[1], 4)\n",
    "    return pvalues"
   ],
   "metadata": {
    "collapsed": false,
    "pycharm": {
     "name": "#%%\n"
    }
   }
  },
  {
   "cell_type": "code",
   "execution_count": null,
   "outputs": [],
   "source": [
    "from pandas.plotting import scatter_matrix\n",
    "attributes = ['Past Orders Count', 'Number Active Subscriptions', 'Number Subscriptions', 'Accepts Marketing', 'Total Spent', 'Total Orders', 'engaged']\n",
    "scatter_matrix(mergedDf[attributes], figsize=(18, 18))"
   ],
   "metadata": {
    "collapsed": false,
    "pycharm": {
     "name": "#%%\n"
    }
   }
  },
  {
   "cell_type": "markdown",
   "source": [
    "## Regression Analysis"
   ],
   "metadata": {
    "collapsed": false
   }
  },
  {
   "cell_type": "code",
   "execution_count": null,
   "outputs": [],
   "source": [
    "import statsmodels.api as sm\n",
    "import pandas.util.testing as tm"
   ],
   "metadata": {
    "collapsed": false,
    "pycharm": {
     "name": "#%%\n"
    }
   }
  },
  {
   "cell_type": "code",
   "execution_count": null,
   "outputs": [],
   "source": [
    "mergedDf.describe()"
   ],
   "metadata": {
    "collapsed": false,
    "pycharm": {
     "name": "#%%\n"
    }
   }
  },
  {
   "cell_type": "code",
   "execution_count": null,
   "outputs": [],
   "source": [
    "active = mergedDf[mergedDf['engaged']==1]\n",
    "inactive = mergedDf[mergedDf['engaged']==0]\n",
    "\n",
    "# active.drop(['customer recharge id', 'Shopify customer id'], axis=1)\n",
    "del active['customer recharge id']\n",
    "del active['Shopify customer id']\n",
    "\n",
    "del inactive['Shopify customer id']\n",
    "del inactive['customer recharge id']\n"
   ],
   "metadata": {
    "collapsed": false,
    "pycharm": {
     "name": "#%%\n"
    }
   }
  },
  {
   "cell_type": "code",
   "execution_count": null,
   "outputs": [],
   "source": [
    "active.describe()"
   ],
   "metadata": {
    "collapsed": false,
    "pycharm": {
     "name": "#%%\n"
    }
   }
  },
  {
   "cell_type": "code",
   "execution_count": null,
   "outputs": [],
   "source": [
    "inactive.describe()"
   ],
   "metadata": {
    "collapsed": false,
    "pycharm": {
     "name": "#%%\n"
    }
   }
  },
  {
   "cell_type": "code",
   "execution_count": null,
   "outputs": [],
   "source": [
    "mergedDf.columns.to_list"
   ],
   "metadata": {
    "collapsed": false,
    "pycharm": {
     "name": "#%%\n"
    }
   }
  },
  {
   "cell_type": "code",
   "execution_count": null,
   "outputs": [],
   "source": [
    "mergedDf.dtypes"
   ],
   "metadata": {
    "collapsed": false,
    "pycharm": {
     "name": "#%%\n"
    }
   }
  },
  {
   "cell_type": "code",
   "execution_count": null,
   "outputs": [],
   "source": [
    "continuous_vars = [\n",
    "                   'Past Orders Count',\n",
    "                   'Number Active Subscription',\n",
    "                   'Number Subscriptions',\n",
    "                   'Total Spent',\n",
    "                   'Total Orders'\n",
    "]"
   ],
   "metadata": {
    "collapsed": false,
    "pycharm": {
     "name": "#%%\n"
    }
   }
  },
  {
   "cell_type": "code",
   "execution_count": null,
   "outputs": [],
   "source": [
    "logit = sm.Logit(\n",
    "    mergedDf['engaged'],\n",
    "    mergedDf[['Past Orders Count',\n",
    "              'Number Active Subscriptions',\n",
    "              'Number Subscriptions',\n",
    "              'Total Spent',\n",
    "              'Total Orders']]\n",
    ")"
   ],
   "metadata": {
    "collapsed": false,
    "pycharm": {
     "name": "#%%\n"
    }
   }
  },
  {
   "cell_type": "code",
   "execution_count": null,
   "outputs": [],
   "source": [
    "logit_fit = logit.fit()"
   ],
   "metadata": {
    "collapsed": false,
    "pycharm": {
     "name": "#%%\n"
    }
   }
  },
  {
   "cell_type": "code",
   "execution_count": null,
   "outputs": [],
   "source": [
    "logit_fit.summary()\n",
    "\n",
    "#$$\n",
    "\n",
    "#print the output of the result into a text file.\n",
    "with open('logit_fit_test.txt', 'w') as f:\n",
    "    f.write(logit_fit.summary().as_text())\n",
    "\n",
    "\n",
    "\n",
    "\n"
   ],
   "metadata": {
    "collapsed": false,
    "pycharm": {
     "name": "#%%\n"
    }
   }
  }
 ],
 "metadata": {
  "kernelspec": {
   "display_name": "Python 3",
   "language": "python",
   "name": "python3"
  },
  "language_info": {
   "codemirror_mode": {
    "name": "ipython",
    "version": 2
   },
   "file_extension": ".py",
   "mimetype": "text/x-python",
   "name": "python",
   "nbconvert_exporter": "python",
   "pygments_lexer": "ipython2",
   "version": "2.7.6"
  }
 },
 "nbformat": 4,
 "nbformat_minor": 0
}